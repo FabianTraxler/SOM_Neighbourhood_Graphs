{
 "cells": [
  {
   "cell_type": "code",
   "execution_count": 1,
   "metadata": {},
   "outputs": [],
   "source": [
    "import pandas as pd\n",
    "import numpy as np\n",
    "import gzip\n",
    "\n",
    "\n",
    "class SOMToolBox_Parse:\n",
    "    \n",
    "    def __init__(self, filename):\n",
    "        self.filename = filename\n",
    "    \n",
    "    def read_weight_file(self,):\n",
    "        df = pd.DataFrame()\n",
    "        if self.filename[-3:len(self.filename)] == '.gz':\n",
    "            with gzip.open(self.filename, 'rb') as file:\n",
    "                df, vec_dim, xdim, ydim = self._read_vector_file_to_df(df, file)\n",
    "        else:\n",
    "            with open(self.filename, 'rb') as file:\n",
    "                df, vec_dim, xdim, ydim = self._read_vector_file_to_df(df, file)\n",
    "\n",
    "        file.close()            \n",
    "        return df.astype('float64'), vec_dim, xdim, ydim\n",
    "\n",
    "\n",
    "    def _read_vector_file_to_df(self, df, file):\n",
    "        xdim, ydim, vec_dim, position = 0, 0, 0, 0\n",
    "        for byte in file:\n",
    "            line = byte.decode('UTF-8')\n",
    "            if line.startswith('$'):\n",
    "                xdim, ydim, vec_dim = self._parse_vector_file_metadata(line, xdim, ydim, vec_dim)\n",
    "                if xdim > 0 and ydim > 0 and len(df.columns) == 0:\n",
    "                    df = pd.DataFrame(index=range(0, ydim * xdim), columns=range(0, vec_dim))\n",
    "            else:\n",
    "                if len(df.columns) == 0 or vec_dim == 0:\n",
    "                    raise ValueError('Weight file has no correct Dimensional information.')\n",
    "                position = self._parse_weight_file_data(line, position, vec_dim, df)\n",
    "        return df, vec_dim, xdim, ydim\n",
    "\n",
    "\n",
    "    def _parse_weight_file_data(self, line, position, vec_dim, df):\n",
    "        splitted=line.split(' ')\n",
    "        try:\n",
    "            df.values[position] = list(np.array(splitted[0:vec_dim]).astype(float))\n",
    "            position += 1\n",
    "        except: raise ValueError('The input-vector file does not match its unit-dimension.') \n",
    "        return  position\n",
    "\n",
    "\n",
    "    def _parse_vector_file_metadata(self, line, xdim, ydim, vec_dim):\n",
    "        splitted = line.split(' ')\n",
    "        if splitted[0] == '$XDIM':      xdim = int(splitted[1])\n",
    "        elif splitted[0] == '$YDIM':    ydim = int(splitted[1])\n",
    "        elif splitted[0] == '$VEC_DIM': vec_dim = int(splitted[1])\n",
    "        return xdim, ydim, vec_dim \n",
    "        "
   ]
  },
  {
   "cell_type": "code",
   "execution_count": 2,
   "metadata": {},
   "outputs": [
    {
     "data": {
      "text/html": [
       "<style>.container { width:100% !important; }</style>"
      ],
      "text/plain": [
       "<IPython.core.display.HTML object>"
      ]
     },
     "metadata": {},
     "output_type": "display_data"
    }
   ],
   "source": [
    "from IPython.core.display import display, HTML\n",
    "display(HTML(\"<style>.container { width:100% !important; }</style>\")) \n",
    "\n",
    "import numpy as np\n",
    "from scipy.spatial import distance_matrix, distance\n",
    "from ipywidgets import Layout, HBox, Box, widgets, interact\n",
    "import plotly.graph_objects as go\n",
    "import networkx as nx\n",
    "\n",
    "\n",
    "class SomViz:\n",
    "    \n",
    "    def __init__(self, weights=[], m=None, n=None):\n",
    "        self.weights = weights\n",
    "        self.m = m\n",
    "        self.n = n\n",
    "\n",
    "    def get_test_adj_mat(self, prob = 0.05):\n",
    "        size = self.n * self.m\n",
    "        test_mat = 1 * ((np.random.sample((size, size))) <= prob)\n",
    "        #test_mat[np.tril_indices(size)] = 0\n",
    "        return test_mat\n",
    "\n",
    "    def umatrix(self, som_map=None, color=\"Viridis\", interp = \"best\", title=\"\", adj_mat=None):\n",
    "        um =np.zeros((self.m *self.n, 1))\n",
    "        neuron_locs = list()\n",
    "        for i in range(self.m):\n",
    "            for j in range(self.n):\n",
    "                neuron_locs.append(np.array([i, j]))\n",
    "        neuron_distmat = distance_matrix(neuron_locs,neuron_locs)\n",
    "\n",
    "        for i in range(self.m * self.n):\n",
    "            neighbor_idxs = neuron_distmat[i] <= 1\n",
    "            neighbor_weights = self.weights[neighbor_idxs]\n",
    "            um[i] = distance_matrix(np.expand_dims(self.weights[i], 0), neighbor_weights).mean()\n",
    "\n",
    "        if som_map==None: return self.plot(um.reshape(self.m,self.n), color=color, interp=interp, title=title, adj_mat=adj_mat)\n",
    "        else: som_map.data[0].z = um.reshape(self.m,self.n)\n",
    "\n",
    "    def hithist(self, som_map=None, idata = [], color='RdBu', interp = \"best\", title=\"\", adj_mat=None):\n",
    "        hist = [0] *self.n *self.m\n",
    "        for v in idata: \n",
    "            position =np.argmin(np.sqrt(np.sum(np.power(self.weights - v, 2), axis=1)))\n",
    "            hist[position] += 1    \n",
    "        \n",
    "        if som_map==None: return self.plot(np.array(hist).reshape(self.m,self.n), color=color, interp=interp, title=title, adj_mat=adj_mat)\n",
    "        else:  som_map.data[0].z = np.array(hist).reshape(self.m,self.n)\n",
    "\n",
    "\n",
    "    def neighgraph(self, adj_mat, line_width=8, line_color='#fff', pos=None):\n",
    "\n",
    "        # Delete lower triangle (and diagonal) of adjacency matrix\n",
    "        adj_mat[np.tril_indices(adj_mat.shape[0])] = 0\n",
    "\n",
    "        # Make networkx graph from input adjacency matrix\n",
    "        G = nx.from_numpy_matrix(adj_mat, parallel_edges=True)\n",
    "\n",
    "        if pos is None:\n",
    "            pos = {}\n",
    "            counter = 0\n",
    "            for i in range(self.m):\n",
    "                for j in range(self.n):\n",
    "                    pos.update({counter : (j, i)})\n",
    "                    counter += 1\n",
    "\n",
    "        nx.set_node_attributes(G, pos, 'pos')\n",
    "\n",
    "        # Convert nx graph to plotly trace data\n",
    "        edge_x = []\n",
    "        edge_y = []\n",
    "        for edge in G.edges():\n",
    "            x0, y0 = G.nodes[edge[0]]['pos']\n",
    "            x1, y1 = G.nodes[edge[1]]['pos']\n",
    "            edge_x.append(x0)\n",
    "            edge_x.append(x1)\n",
    "            edge_x.append(None)\n",
    "            edge_y.append(y0)\n",
    "            edge_y.append(y1)\n",
    "            edge_y.append(None)\n",
    "\n",
    "        return go.Scatter(\n",
    "            x=edge_x, y=edge_y,\n",
    "            line=dict(width=line_width, color=line_color),\n",
    "            hoverinfo='none',\n",
    "            mode='lines')\n",
    "\n",
    "    def component_plane(self, som_map=None, component=0, color=\"Viridis\", interp = \"best\", title=\"\"):\n",
    "        if som_map==None: return self.plot(self.weights[:,component].reshape(-1,self.n), color=color, interp=interp, title=title)   \n",
    "        else:  som_map.data[0].z = self.weights[:,component].reshape(-1,n)\n",
    "\n",
    "    def sdh(self, som_map=None, idata=[], sdh_type=1, factor=1, draw=True, color=\"Cividis\", interp = \"best\", title=\"\"):\n",
    "\n",
    "        import heapq\n",
    "        sdh_m = [0] *self.m *self.n\n",
    "\n",
    "        cs=0\n",
    "        for i in range(0,factor): cs += factor-i\n",
    "\n",
    "        for vector in idata:\n",
    "            dist = np.sqrt(np.sum(np.power(self.weights - vector, 2), axis=1))\n",
    "            c = heapq.nsmallest(factor, range(len(dist)), key=dist.__getitem__)\n",
    "            if (sdh_type==1): \n",
    "                for j in range(0,factor):  sdh_m[c[j]] += (factor-j)/cs # normalized\n",
    "            if (sdh_type==2):\n",
    "                for j in range(0,factor): sdh_m[c[j]] += 1.0/dist[c[j]] # based on distance\n",
    "            if (sdh_type==3): \n",
    "                dmin = min(dist)\n",
    "                for j in range(0,factor): sdh_m[c[j]] += 1.0 - (dist[c[j]]-dmin)/(max(dist)-dmin)  \n",
    "\n",
    "        if som_map==None: return self.plot(np.array(sdh_m).reshape(-1,self.n), color=color, interp=interp, title=title)      \n",
    "        else: som_map.data[0].z = np.array(sdh_m).reshape(-1,self.n)\n",
    "        \n",
    "    def project_data(self,som_m=None, idata=[], title=\"\"):\n",
    "\n",
    "        data_y = []\n",
    "        data_x = []\n",
    "        for v in idata:\n",
    "            position =np.argmin(np.sqrt(np.sum(np.power(self.weights - v, 2), axis=1)))\n",
    "            x,y = position % self.n, position // self.n\n",
    "            data_x.extend([x])\n",
    "            data_y.extend([y])\n",
    "            \n",
    "        if som_m!=None: som_m.add_trace(go.Scatter(x=data_x, y=data_y, mode = \"markers\", marker_color='rgba(255, 255, 255, 0.8)',))\n",
    "    \n",
    "    def time_series(self, som_m=None, idata=[], wsize=50, title=\"\"): #not tested\n",
    "             \n",
    "        data_y = []\n",
    "        data_x = [i for i in range(0,len(idata))]\n",
    "        \n",
    "        data_x2 = []\n",
    "        data_y2 = []\n",
    "        \n",
    "        qmin = np.Inf\n",
    "        qmax = 0\n",
    "        \n",
    "        step=1\n",
    "        \n",
    "        ps = []\n",
    "        for v in idata:\n",
    "            matrix = np.sqrt(np.sum(np.power(self.weights - v, 2), axis=1))\n",
    "            position = np.argmin(matrix)\n",
    "            qerror = matrix[position]\n",
    "            if qmin>qerror: qmin = qerror\n",
    "            if qmax<qerror: qmax = qerror\n",
    "            ps.append((position, qerror))\n",
    "       \n",
    "        markerc=[]    \n",
    "        for v in ps:\n",
    "            data_y.extend([v[0]])\n",
    "            rez = v[1]/qmax\n",
    " \n",
    "            markerc.append('rgba(0, 0, 0, '+str(rez)+')') \n",
    "            \n",
    "            x,y = v[0] % self.n, v[0] // self.n \n",
    "            if    x==0: y = np.random.uniform(low=y, high=y+.1)\n",
    "            elif  x==self.m-1: y = np.random.uniform(low=y-.1, high=y)\n",
    "            elif  y==0: x = np.random.uniform(low=x, high=x+.1)\n",
    "            elif  y==self.n-1: x = np.random.uniform(low=x-.1, high=x)\n",
    "            else: x,y = np.random.uniform(low=x-.1, high=x+.1), np.random.uniform(low=y-.1, high=y+.1)                           \n",
    "            \n",
    "            data_x2.extend([x])\n",
    "            data_y2.extend([y]) \n",
    "    \n",
    "        ts_plot = go.FigureWidget(go.Scatter(x=[], y=[], mode = \"markers\", marker_color=markerc, marker=dict(colorscale='Viridis', showscale=True, color=np.random.randn(500))))\n",
    "        ts_plot.update_xaxes(range=[0, wsize])       \n",
    "\n",
    "        \n",
    "        ts_plot.data[0].x, ts_plot.data[0].y = data_x, data_y\n",
    "        som_m.add_trace(go.Scatter(x=data_x2, y=data_y2, mode = \"markers\",))\n",
    "  \n",
    "        som_m.layout.height = 500\n",
    "        ts_plot.layout.height = 500\n",
    "        som_m.layout.width = 500\n",
    "        ts_plot.layout.width = 1300\n",
    "        \n",
    "        return HBox([go.FigureWidget(som_m), go.FigureWidget(ts_plot)])\n",
    "    \n",
    "    def plot(self, matrix, color=\"Viridis\", interp = \"best\", title=\"\", adj_mat=None):\n",
    "        heat_trace = go.Heatmap(z=matrix, zsmooth=interp, showscale=False, colorscale=color)\n",
    "        data = [heat_trace]\n",
    "\n",
    "        if adj_mat is not None:\n",
    "            data = [heat_trace, self.neighgraph(adj_mat)]\n",
    "\n",
    "        return go.FigureWidget(data = data, layout=go.Layout(width=700, height=700,title=title, title_x=0.5,))"
   ]
  },
  {
   "cell_type": "code",
   "execution_count": 3,
   "metadata": {},
   "outputs": [],
   "source": [
    "import pandas as pd\n",
    "import minisom as som\n",
    "from sklearn import datasets, preprocessing\n",
    "from NeighbourhoodGraph import NeighbourhoodGraph as NG\n",
    "#interp: False, 'best', 'fast', \n",
    "#color = 'viridis': https://plotly.com/python/builtin-colorscales/\n",
    "min_max_scaler = preprocessing.MinMaxScaler()"
   ]
  },
  {
   "cell_type": "code",
   "execution_count": 4,
   "metadata": {
    "pycharm": {
     "name": "#%%\n"
    }
   },
   "outputs": [
    {
     "name": "stdout",
     "output_type": "stream",
     "text": [
      "CPU times: user 413 ms, sys: 13.5 ms, total: 427 ms\n",
      "Wall time: 414 ms\n"
     ]
    }
   ],
   "source": [
    "#############################\n",
    "######## miniSOM ############1/0\n",
    "#############################\n",
    "m=10\n",
    "n=10\n",
    "\n",
    "# Pre-processing \n",
    "ivec_iris_online = datasets.load_iris().data\n",
    "ivec_iris_online = min_max_scaler.fit_transform(ivec_iris_online)   # optional\n",
    "idim = ivec_iris_online.shape[0]\n",
    "\n",
    "# Train\n",
    "smap_iris_new = som.MiniSom(m, n, ivec_iris_online.shape[1], sigma=0.8, learning_rate=0.7)\n",
    "%time smap_iris_new.train_random(ivec_iris_online, 10000, verbose=False)\n",
    "\n",
    "sweights = smap_iris_new._weights.reshape(-1,4)\n",
    "sdim = sweights.shape[0]\n",
    "smap_x = n\n",
    "smap_y = m"
   ]
  },
  {
   "cell_type": "markdown",
   "metadata": {
    "pycharm": {
     "name": "#%% md\n"
    }
   },
   "source": [
    "Visualization"
   ]
  },
  {
   "cell_type": "code",
   "execution_count": 5,
   "metadata": {
    "pycharm": {
     "name": "#%%\n"
    },
    "scrolled": true
   },
   "outputs": [
    {
     "data": {
      "application/vnd.jupyter.widget-view+json": {
       "model_id": "af0966daf73b4a99ae2dc76c49fe6e85",
       "version_major": 2,
       "version_minor": 0
      },
      "text/plain": [
       "FigureWidget({\n",
       "    'data': [{'colorscale': [[0.0, '#000004'], [0.1111111111111111, '#180f3d'],\n",
       "               …"
      ]
     },
     "metadata": {},
     "output_type": "display_data"
    },
    {
     "data": {
      "application/vnd.jupyter.widget-view+json": {
       "model_id": "e631a43400b9450b9927ef83e64ac60e",
       "version_major": 2,
       "version_minor": 0
      },
      "text/plain": [
       "FigureWidget({\n",
       "    'data': [{'colorscale': [[0.0, '#000004'], [0.1111111111111111, '#180f3d'],\n",
       "               …"
      ]
     },
     "metadata": {},
     "output_type": "display_data"
    },
    {
     "data": {
      "application/vnd.jupyter.widget-view+json": {
       "model_id": "9624c2e1089a471c91872667038e56e5",
       "version_major": 2,
       "version_minor": 0
      },
      "text/plain": [
       "FigureWidget({\n",
       "    'data': [{'colorscale': [[0.0, '#000004'], [0.1111111111111111, '#180f3d'],\n",
       "               …"
      ]
     },
     "metadata": {},
     "output_type": "display_data"
    },
    {
     "data": {
      "application/vnd.jupyter.widget-view+json": {
       "model_id": "1cfc90910a2d4708a79091f5b891fa00",
       "version_major": 2,
       "version_minor": 0
      },
      "text/plain": [
       "FigureWidget({\n",
       "    'data': [{'colorscale': [[0.0, '#000004'], [0.1111111111111111, '#180f3d'],\n",
       "               …"
      ]
     },
     "metadata": {},
     "output_type": "display_data"
    },
    {
     "data": {
      "application/vnd.jupyter.widget-view+json": {
       "model_id": "7f77a1dc556543278b7fb5f4048c71dc",
       "version_major": 2,
       "version_minor": 0
      },
      "text/plain": [
       "FigureWidget({\n",
       "    'data': [{'colorscale': [[0.0, '#000004'], [0.1111111111111111, '#180f3d'],\n",
       "               …"
      ]
     },
     "metadata": {},
     "output_type": "display_data"
    },
    {
     "data": {
      "application/vnd.jupyter.widget-view+json": {
       "model_id": "1071548e90e94d3aae0941930701c792",
       "version_major": 2,
       "version_minor": 0
      },
      "text/plain": [
       "FigureWidget({\n",
       "    'data': [{'colorscale': [[0.0, '#000004'], [0.1111111111111111, '#180f3d'],\n",
       "               …"
      ]
     },
     "metadata": {},
     "output_type": "display_data"
    },
    {
     "data": {
      "application/vnd.jupyter.widget-view+json": {
       "model_id": "12c28c866f194f54bc83204cb845e5a7",
       "version_major": 2,
       "version_minor": 0
      },
      "text/plain": [
       "FigureWidget({\n",
       "    'data': [{'colorscale': [[0.0, '#000004'], [0.1111111111111111, '#180f3d'],\n",
       "               …"
      ]
     },
     "metadata": {},
     "output_type": "display_data"
    },
    {
     "data": {
      "application/vnd.jupyter.widget-view+json": {
       "model_id": "250c46708fa045c09c48f8137c0ccb3c",
       "version_major": 2,
       "version_minor": 0
      },
      "text/plain": [
       "FigureWidget({\n",
       "    'data': [{'colorscale': [[0.0, '#000004'], [0.1111111111111111, '#180f3d'],\n",
       "               …"
      ]
     },
     "metadata": {},
     "output_type": "display_data"
    },
    {
     "data": {
      "application/vnd.jupyter.widget-view+json": {
       "model_id": "704c5112792f4d2cb22fb2ec4c3fe7a1",
       "version_major": 2,
       "version_minor": 0
      },
      "text/plain": [
       "FigureWidget({\n",
       "    'data': [{'colorscale': [[0.0, '#000004'], [0.1111111111111111, '#180f3d'],\n",
       "               …"
      ]
     },
     "metadata": {},
     "output_type": "display_data"
    },
    {
     "data": {
      "application/vnd.jupyter.widget-view+json": {
       "model_id": "338c834ff5f747a58f17b49f8299d37a",
       "version_major": 2,
       "version_minor": 0
      },
      "text/plain": [
       "FigureWidget({\n",
       "    'data': [{'colorscale': [[0.0, '#000004'], [0.1111111111111111, '#180f3d'],\n",
       "               …"
      ]
     },
     "metadata": {},
     "output_type": "display_data"
    },
    {
     "data": {
      "application/vnd.jupyter.widget-view+json": {
       "model_id": "ae51f074f2d94a639ceeb840984dc73c",
       "version_major": 2,
       "version_minor": 0
      },
      "text/plain": [
       "FigureWidget({\n",
       "    'data': [{'colorscale': [[0.0, '#000004'], [0.1111111111111111, '#180f3d'],\n",
       "               …"
      ]
     },
     "metadata": {},
     "output_type": "display_data"
    },
    {
     "data": {
      "application/vnd.jupyter.widget-view+json": {
       "model_id": "6d42e2effa5349f88a8613b70e72225b",
       "version_major": 2,
       "version_minor": 0
      },
      "text/plain": [
       "FigureWidget({\n",
       "    'data': [{'colorscale': [[0.0, '#000004'], [0.1111111111111111, '#180f3d'],\n",
       "               …"
      ]
     },
     "metadata": {},
     "output_type": "display_data"
    },
    {
     "data": {
      "application/vnd.jupyter.widget-view+json": {
       "model_id": "3581b8d482894d79a01d350cb4b110a3",
       "version_major": 2,
       "version_minor": 0
      },
      "text/plain": [
       "FigureWidget({\n",
       "    'data': [{'colorscale': [[0.0, '#000004'], [0.1111111111111111, '#180f3d'],\n",
       "               …"
      ]
     },
     "metadata": {},
     "output_type": "display_data"
    },
    {
     "data": {
      "application/vnd.jupyter.widget-view+json": {
       "model_id": "5a65dd1ec8524b168e19d01cb5d3547a",
       "version_major": 2,
       "version_minor": 0
      },
      "text/plain": [
       "FigureWidget({\n",
       "    'data': [{'colorscale': [[0.0, '#000004'], [0.1111111111111111, '#180f3d'],\n",
       "               …"
      ]
     },
     "metadata": {},
     "output_type": "display_data"
    },
    {
     "data": {
      "application/vnd.jupyter.widget-view+json": {
       "model_id": "2462559e6b844bf89619c8e440c8464b",
       "version_major": 2,
       "version_minor": 0
      },
      "text/plain": [
       "FigureWidget({\n",
       "    'data': [{'colorscale': [[0.0, '#000004'], [0.1111111111111111, '#180f3d'],\n",
       "               …"
      ]
     },
     "metadata": {},
     "output_type": "display_data"
    },
    {
     "data": {
      "application/vnd.jupyter.widget-view+json": {
       "model_id": "90edd824dfd74384af2837b08c589b0f",
       "version_major": 2,
       "version_minor": 0
      },
      "text/plain": [
       "FigureWidget({\n",
       "    'data': [{'colorscale': [[0.0, '#000004'], [0.1111111111111111, '#180f3d'],\n",
       "               …"
      ]
     },
     "metadata": {},
     "output_type": "display_data"
    },
    {
     "data": {
      "application/vnd.jupyter.widget-view+json": {
       "model_id": "883af5d875a94839b9b4cc07e3e07ad3",
       "version_major": 2,
       "version_minor": 0
      },
      "text/plain": [
       "FigureWidget({\n",
       "    'data': [{'colorscale': [[0.0, '#000004'], [0.1111111111111111, '#180f3d'],\n",
       "               …"
      ]
     },
     "metadata": {},
     "output_type": "display_data"
    }
   ],
   "source": [
    "viz = SomViz(sweights, m, n)\n",
    "color='magma'\n",
    "interp='best'\n",
    "data_title='miniSOM'\n",
    "\n",
    "idata = ivec_iris_online\n",
    "k_list = [1,2,3,4]\n",
    "r_list = [0.01,0.05,0.1,0.15]\n",
    "r_list = np.around(np.mean(idata)*np.array(r_list), decimals=2) # scale radii to input data\n",
    "\n",
    "# Prepare Neighbourhood Graph\n",
    "ng2 = NG(viz.weights, viz.n, viz.m, input_data=idata)\n",
    "\n",
    "## U-Matrix\n",
    "display(viz.umatrix(color=color, interp=interp, title='{}: U-Matrix'.format(data_title)))\n",
    "\n",
    "## U-Matrix with Neighbourhood Graph\n",
    "# knn\n",
    "for k in k_list:\n",
    "    display(viz.umatrix(color=color, interp=interp, title='{}: U-Matrix + {}-NN Neighbourhood Graph'.format(data_title, k), adj_mat=ng2.create_graph(knn=k)))\n",
    "# radius\n",
    "for k in r_list:\n",
    "    display(viz.umatrix(color=color, interp=interp, title='{}: U-Matrix + {}-Radius Neighbourhood Graph'.format(data_title, k), adj_mat=ng2.create_graph(radius=k)))\n",
    "\n",
    "## Hit-Hist with Neighbourhood Graph\n",
    "# knn\n",
    "for k in k_list:\n",
    "    display(viz.hithist(idata=idata, color=color, interp=interp, title='{}: Hit hist + {}-NN Neighbourhood Graph'.format(data_title, k), adj_mat=ng2.create_graph(knn=k)))\n",
    "# radius\n",
    "for k in r_list:\n",
    "    display(viz.hithist(idata=idata, color=color, interp=interp, title='{}: Hit hist + {}-Radius Neighbourhood Graph'.format(data_title, k), adj_mat=ng2.create_graph(radius=k)))\n"
   ]
  },
  {
   "cell_type": "code",
   "execution_count": 6,
   "metadata": {
    "pycharm": {
     "name": "#%%\n"
    }
   },
   "outputs": [],
   "source": [
    "##########################################\n",
    "######## read from SOMToolBox ############\n",
    "##########################################\n",
    "ivec_iris_from_file = SOMToolBox_Parse('../input/iris/iris.vec')\n",
    "idata, idim, _, _ = ivec_iris_from_file.read_weight_file()\n",
    "idata = idata.to_numpy()\n",
    "\n",
    "smap_iris_from_file = SOMToolBox_Parse('../input/iris/iris.wgt.gz')\n",
    "sweights, sdim, smap_x, smap_y = smap_iris_from_file.read_weight_file()\n",
    "sweights = sweights.values.reshape(-1,sdim)"
   ]
  },
  {
   "cell_type": "markdown",
   "metadata": {
    "pycharm": {
     "name": "#%% md\n"
    }
   },
   "source": [
    "Visualization"
   ]
  },
  {
   "cell_type": "code",
   "execution_count": 7,
   "metadata": {
    "pycharm": {
     "name": "#%%\n"
    },
    "scrolled": true
   },
   "outputs": [
    {
     "data": {
      "application/vnd.jupyter.widget-view+json": {
       "model_id": "cec1e568dbb14024a108b10556673d64",
       "version_major": 2,
       "version_minor": 0
      },
      "text/plain": [
       "FigureWidget({\n",
       "    'data': [{'colorscale': [[0.0, '#440154'], [0.1111111111111111, '#482878'],\n",
       "               …"
      ]
     },
     "metadata": {},
     "output_type": "display_data"
    },
    {
     "data": {
      "application/vnd.jupyter.widget-view+json": {
       "model_id": "534967069dc84164a1d59c625929e000",
       "version_major": 2,
       "version_minor": 0
      },
      "text/plain": [
       "FigureWidget({\n",
       "    'data': [{'colorscale': [[0.0, '#440154'], [0.1111111111111111, '#482878'],\n",
       "               …"
      ]
     },
     "metadata": {},
     "output_type": "display_data"
    },
    {
     "data": {
      "application/vnd.jupyter.widget-view+json": {
       "model_id": "c27c999dc42048e0976025d3165023fa",
       "version_major": 2,
       "version_minor": 0
      },
      "text/plain": [
       "FigureWidget({\n",
       "    'data': [{'colorscale': [[0.0, '#440154'], [0.1111111111111111, '#482878'],\n",
       "               …"
      ]
     },
     "metadata": {},
     "output_type": "display_data"
    },
    {
     "data": {
      "application/vnd.jupyter.widget-view+json": {
       "model_id": "6bbb6dd6e866406586847863da102858",
       "version_major": 2,
       "version_minor": 0
      },
      "text/plain": [
       "FigureWidget({\n",
       "    'data': [{'colorscale': [[0.0, '#440154'], [0.1111111111111111, '#482878'],\n",
       "               …"
      ]
     },
     "metadata": {},
     "output_type": "display_data"
    },
    {
     "data": {
      "application/vnd.jupyter.widget-view+json": {
       "model_id": "1aad5627cd954f149b6d77667121f8b7",
       "version_major": 2,
       "version_minor": 0
      },
      "text/plain": [
       "FigureWidget({\n",
       "    'data': [{'colorscale': [[0.0, '#440154'], [0.1111111111111111, '#482878'],\n",
       "               …"
      ]
     },
     "metadata": {},
     "output_type": "display_data"
    },
    {
     "data": {
      "application/vnd.jupyter.widget-view+json": {
       "model_id": "07fb794122294136a35476f070dd6015",
       "version_major": 2,
       "version_minor": 0
      },
      "text/plain": [
       "FigureWidget({\n",
       "    'data': [{'colorscale': [[0.0, '#440154'], [0.1111111111111111, '#482878'],\n",
       "               …"
      ]
     },
     "metadata": {},
     "output_type": "display_data"
    },
    {
     "data": {
      "application/vnd.jupyter.widget-view+json": {
       "model_id": "9332f7bc702648a2917fadf1a137a66d",
       "version_major": 2,
       "version_minor": 0
      },
      "text/plain": [
       "FigureWidget({\n",
       "    'data': [{'colorscale': [[0.0, '#440154'], [0.1111111111111111, '#482878'],\n",
       "               …"
      ]
     },
     "metadata": {},
     "output_type": "display_data"
    },
    {
     "data": {
      "application/vnd.jupyter.widget-view+json": {
       "model_id": "ccf0acf4a59f44d1b91122cf974e61a4",
       "version_major": 2,
       "version_minor": 0
      },
      "text/plain": [
       "FigureWidget({\n",
       "    'data': [{'colorscale': [[0.0, '#440154'], [0.1111111111111111, '#482878'],\n",
       "               …"
      ]
     },
     "metadata": {},
     "output_type": "display_data"
    },
    {
     "data": {
      "application/vnd.jupyter.widget-view+json": {
       "model_id": "9e33eb7b5f6449b8842ff349df0e04d5",
       "version_major": 2,
       "version_minor": 0
      },
      "text/plain": [
       "FigureWidget({\n",
       "    'data': [{'colorscale': [[0.0, '#440154'], [0.1111111111111111, '#482878'],\n",
       "               …"
      ]
     },
     "metadata": {},
     "output_type": "display_data"
    },
    {
     "data": {
      "application/vnd.jupyter.widget-view+json": {
       "model_id": "139328f3d3be4d5fb43e78b682be57bc",
       "version_major": 2,
       "version_minor": 0
      },
      "text/plain": [
       "FigureWidget({\n",
       "    'data': [{'colorscale': [[0.0, '#440154'], [0.1111111111111111, '#482878'],\n",
       "               …"
      ]
     },
     "metadata": {},
     "output_type": "display_data"
    },
    {
     "data": {
      "application/vnd.jupyter.widget-view+json": {
       "model_id": "9436433fd81f41759526a2bde94e94f9",
       "version_major": 2,
       "version_minor": 0
      },
      "text/plain": [
       "FigureWidget({\n",
       "    'data': [{'colorscale': [[0.0, '#440154'], [0.1111111111111111, '#482878'],\n",
       "               …"
      ]
     },
     "metadata": {},
     "output_type": "display_data"
    },
    {
     "data": {
      "application/vnd.jupyter.widget-view+json": {
       "model_id": "4ca4af9e09924a78ade8dee6e079cc5e",
       "version_major": 2,
       "version_minor": 0
      },
      "text/plain": [
       "FigureWidget({\n",
       "    'data': [{'colorscale': [[0.0, '#440154'], [0.1111111111111111, '#482878'],\n",
       "               …"
      ]
     },
     "metadata": {},
     "output_type": "display_data"
    },
    {
     "data": {
      "application/vnd.jupyter.widget-view+json": {
       "model_id": "ef577f2375f84606938286271ad99c8b",
       "version_major": 2,
       "version_minor": 0
      },
      "text/plain": [
       "FigureWidget({\n",
       "    'data': [{'colorscale': [[0.0, '#440154'], [0.1111111111111111, '#482878'],\n",
       "               …"
      ]
     },
     "metadata": {},
     "output_type": "display_data"
    },
    {
     "data": {
      "application/vnd.jupyter.widget-view+json": {
       "model_id": "9f7080b9381748eeb79ad099c9c286a6",
       "version_major": 2,
       "version_minor": 0
      },
      "text/plain": [
       "FigureWidget({\n",
       "    'data': [{'colorscale': [[0.0, '#440154'], [0.1111111111111111, '#482878'],\n",
       "               …"
      ]
     },
     "metadata": {},
     "output_type": "display_data"
    },
    {
     "data": {
      "application/vnd.jupyter.widget-view+json": {
       "model_id": "2f46b6f9eb5447a2b2a6404cda8dd248",
       "version_major": 2,
       "version_minor": 0
      },
      "text/plain": [
       "FigureWidget({\n",
       "    'data': [{'colorscale': [[0.0, '#440154'], [0.1111111111111111, '#482878'],\n",
       "               …"
      ]
     },
     "metadata": {},
     "output_type": "display_data"
    },
    {
     "data": {
      "application/vnd.jupyter.widget-view+json": {
       "model_id": "be9262a1d3d241478934c565e164ff44",
       "version_major": 2,
       "version_minor": 0
      },
      "text/plain": [
       "FigureWidget({\n",
       "    'data': [{'colorscale': [[0.0, '#440154'], [0.1111111111111111, '#482878'],\n",
       "               …"
      ]
     },
     "metadata": {},
     "output_type": "display_data"
    },
    {
     "data": {
      "application/vnd.jupyter.widget-view+json": {
       "model_id": "3d6019e4a13d489d8d089f8063674be8",
       "version_major": 2,
       "version_minor": 0
      },
      "text/plain": [
       "FigureWidget({\n",
       "    'data': [{'colorscale': [[0.0, '#440154'], [0.1111111111111111, '#482878'],\n",
       "               …"
      ]
     },
     "metadata": {},
     "output_type": "display_data"
    }
   ],
   "source": [
    "viz = SomViz(sweights, smap_y, smap_x)\n",
    "\n",
    "color='viridis'\n",
    "interp=False\n",
    "data_title='SOMToolBox'\n",
    "\n",
    "k_list = [1,2,3,4]\n",
    "r_list = [0.01,0.05,0.1,0.15]\n",
    "r_list = np.around(np.mean(idata)*np.array(r_list), decimals=2)\n",
    "\n",
    "# Prepare Neighbourhood Graph\n",
    "ng2 = NG(viz.weights, viz.n, viz.m, input_data=idata)\n",
    "\n",
    "## U-Matrix\n",
    "display(viz.umatrix(color=color, interp=interp, title='{}: U-Matrix'.format(data_title)))\n",
    "\n",
    "## U-Matrix with Neighbourhood Graph\n",
    "# knn\n",
    "for k in k_list:\n",
    "    display(viz.umatrix(color=color, interp=interp, title='{}: U-Matrix + {}-NN Neighbourhood Graph'.format(data_title, k), adj_mat=ng2.create_graph(knn=k)))\n",
    "# radius\n",
    "for k in r_list:\n",
    "    display(viz.umatrix(color=color, interp=interp, title='{}: U-Matrix + {}-Radius Neighbourhood Graph'.format(data_title, k), adj_mat=ng2.create_graph(radius=k)))\n",
    "\n",
    "## Hit-Hist with Neighbourhood Graph\n",
    "# knn\n",
    "for k in k_list:\n",
    "    display(viz.hithist(idata=idata, color=color, interp=interp, title='{}: Hit hist + {}-NN Neighbourhood Graph'.format(data_title, k), adj_mat=ng2.create_graph(knn=k)))\n",
    "# radius\n",
    "for k in r_list:\n",
    "    display(viz.hithist(idata=idata, color=color, interp=interp, title='{}: Hit hist + {}-Radius Neighbourhood Graph'.format(data_title, k), adj_mat=ng2.create_graph(radius=k)))\n",
    "\n",
    "\n"
   ]
  },
  {
   "cell_type": "markdown",
   "metadata": {},
   "source": [
    "## Chain Link Dataset"
   ]
  },
  {
   "cell_type": "markdown",
   "metadata": {},
   "source": [
    "### Train new SOM"
   ]
  },
  {
   "cell_type": "code",
   "execution_count": 8,
   "metadata": {},
   "outputs": [
    {
     "name": "stdout",
     "output_type": "stream",
     "text": [
      "CPU times: user 939 ms, sys: 0 ns, total: 939 ms\n",
      "Wall time: 939 ms\n"
     ]
    }
   ],
   "source": [
    "#############################\n",
    "######## ChainLink ##########\n",
    "#############################\n",
    "m=40\n",
    "n=20\n",
    "\n",
    "# Pre-processing \n",
    "ivec = SOMToolBox_Parse('../input/chainlink/chainlink.vec') # set data here\n",
    "idata, idim, _, _ = ivec.read_weight_file()\n",
    "idata_chainlink = idata.to_numpy()\n",
    "\n",
    "idata_chainlink = min_max_scaler.fit_transform(idata_chainlink)   # optional\n",
    "idim = idata_chainlink.shape[0]\n",
    "\n",
    "# Train\n",
    "smap_chainlink = som.MiniSom(m, n, idata_chainlink.shape[1], sigma=0.8, learning_rate=0.7)\n",
    "%time smap_chainlink.train_random(idata_chainlink, 10000, verbose=False)\n",
    "\n",
    "sweights = smap_chainlink._weights.reshape(-1,3)\n",
    "sdim = sweights.shape[0]\n",
    "smap_x = n\n",
    "smap_y = m"
   ]
  },
  {
   "cell_type": "code",
   "execution_count": 9,
   "metadata": {
    "pycharm": {
     "name": "#%%\n"
    }
   },
   "outputs": [
    {
     "name": "stdout",
     "output_type": "stream",
     "text": [
      "CPU times: user 21 ms, sys: 164 µs, total: 21.1 ms\n",
      "Wall time: 20.4 ms\n"
     ]
    },
    {
     "data": {
      "application/vnd.jupyter.widget-view+json": {
       "model_id": "035112cc9be2445d8528233955002f74",
       "version_major": 2,
       "version_minor": 0
      },
      "text/plain": [
       "FigureWidget({\n",
       "    'data': [{'colorscale': [[0.0, '#440154'], [0.1111111111111111, '#482878'],\n",
       "               …"
      ]
     },
     "metadata": {},
     "output_type": "display_data"
    },
    {
     "data": {
      "application/vnd.jupyter.widget-view+json": {
       "model_id": "401f136ffa6044cf99fbafb84b0cb390",
       "version_major": 2,
       "version_minor": 0
      },
      "text/plain": [
       "FigureWidget({\n",
       "    'data': [{'colorscale': [[0.0, '#440154'], [0.1111111111111111, '#482878'],\n",
       "               …"
      ]
     },
     "metadata": {},
     "output_type": "display_data"
    },
    {
     "data": {
      "application/vnd.jupyter.widget-view+json": {
       "model_id": "aba684f5ca264e988835ae2635ca5a2f",
       "version_major": 2,
       "version_minor": 0
      },
      "text/plain": [
       "FigureWidget({\n",
       "    'data': [{'colorscale': [[0.0, '#440154'], [0.1111111111111111, '#482878'],\n",
       "               …"
      ]
     },
     "metadata": {},
     "output_type": "display_data"
    },
    {
     "data": {
      "application/vnd.jupyter.widget-view+json": {
       "model_id": "68b9e179497447b4a41f7bbe1b3f9c67",
       "version_major": 2,
       "version_minor": 0
      },
      "text/plain": [
       "FigureWidget({\n",
       "    'data': [{'colorscale': [[0.0, '#440154'], [0.1111111111111111, '#482878'],\n",
       "               …"
      ]
     },
     "metadata": {},
     "output_type": "display_data"
    },
    {
     "data": {
      "application/vnd.jupyter.widget-view+json": {
       "model_id": "9e18d972c180460384b3547e5fa0e5d0",
       "version_major": 2,
       "version_minor": 0
      },
      "text/plain": [
       "FigureWidget({\n",
       "    'data': [{'colorscale': [[0.0, '#440154'], [0.1111111111111111, '#482878'],\n",
       "               …"
      ]
     },
     "metadata": {},
     "output_type": "display_data"
    },
    {
     "data": {
      "application/vnd.jupyter.widget-view+json": {
       "model_id": "05cc3aaa7fc247eb99c0fb1f58925ed1",
       "version_major": 2,
       "version_minor": 0
      },
      "text/plain": [
       "FigureWidget({\n",
       "    'data': [{'colorscale': [[0.0, '#440154'], [0.1111111111111111, '#482878'],\n",
       "               …"
      ]
     },
     "metadata": {},
     "output_type": "display_data"
    },
    {
     "data": {
      "application/vnd.jupyter.widget-view+json": {
       "model_id": "0dbb37d328ac4df5ab145ddfc067ac6d",
       "version_major": 2,
       "version_minor": 0
      },
      "text/plain": [
       "FigureWidget({\n",
       "    'data': [{'colorscale': [[0.0, '#440154'], [0.1111111111111111, '#482878'],\n",
       "               …"
      ]
     },
     "metadata": {},
     "output_type": "display_data"
    },
    {
     "data": {
      "application/vnd.jupyter.widget-view+json": {
       "model_id": "4150f7011bd84911b0a181fda00d7169",
       "version_major": 2,
       "version_minor": 0
      },
      "text/plain": [
       "FigureWidget({\n",
       "    'data': [{'colorscale': [[0.0, '#440154'], [0.1111111111111111, '#482878'],\n",
       "               …"
      ]
     },
     "metadata": {},
     "output_type": "display_data"
    },
    {
     "data": {
      "application/vnd.jupyter.widget-view+json": {
       "model_id": "cbf22cd78fd44d37b06eaff55861d1d8",
       "version_major": 2,
       "version_minor": 0
      },
      "text/plain": [
       "FigureWidget({\n",
       "    'data': [{'colorscale': [[0.0, '#440154'], [0.1111111111111111, '#482878'],\n",
       "               …"
      ]
     },
     "metadata": {},
     "output_type": "display_data"
    },
    {
     "data": {
      "application/vnd.jupyter.widget-view+json": {
       "model_id": "19d25e3ce49b4160909c2c7c07e606ab",
       "version_major": 2,
       "version_minor": 0
      },
      "text/plain": [
       "FigureWidget({\n",
       "    'data': [{'colorscale': [[0.0, '#440154'], [0.1111111111111111, '#482878'],\n",
       "               …"
      ]
     },
     "metadata": {},
     "output_type": "display_data"
    },
    {
     "data": {
      "application/vnd.jupyter.widget-view+json": {
       "model_id": "075c514bc1c9403ab49cc35b9e31dba3",
       "version_major": 2,
       "version_minor": 0
      },
      "text/plain": [
       "FigureWidget({\n",
       "    'data': [{'colorscale': [[0.0, '#440154'], [0.1111111111111111, '#482878'],\n",
       "               …"
      ]
     },
     "metadata": {},
     "output_type": "display_data"
    },
    {
     "data": {
      "application/vnd.jupyter.widget-view+json": {
       "model_id": "9cb89d3b4c7042459cdf8cadd12a60a5",
       "version_major": 2,
       "version_minor": 0
      },
      "text/plain": [
       "FigureWidget({\n",
       "    'data': [{'colorscale': [[0.0, '#440154'], [0.1111111111111111, '#482878'],\n",
       "               …"
      ]
     },
     "metadata": {},
     "output_type": "display_data"
    },
    {
     "data": {
      "application/vnd.jupyter.widget-view+json": {
       "model_id": "0ac0010792934c9f97b0a144da8534c9",
       "version_major": 2,
       "version_minor": 0
      },
      "text/plain": [
       "FigureWidget({\n",
       "    'data': [{'colorscale': [[0.0, '#440154'], [0.1111111111111111, '#482878'],\n",
       "               …"
      ]
     },
     "metadata": {},
     "output_type": "display_data"
    },
    {
     "data": {
      "application/vnd.jupyter.widget-view+json": {
       "model_id": "5e7f136108b0464c88b6344af2249cae",
       "version_major": 2,
       "version_minor": 0
      },
      "text/plain": [
       "FigureWidget({\n",
       "    'data': [{'colorscale': [[0.0, '#440154'], [0.1111111111111111, '#482878'],\n",
       "               …"
      ]
     },
     "metadata": {},
     "output_type": "display_data"
    },
    {
     "data": {
      "application/vnd.jupyter.widget-view+json": {
       "model_id": "f66a6f4d9e0c4744ac4ad7420fdd91cf",
       "version_major": 2,
       "version_minor": 0
      },
      "text/plain": [
       "FigureWidget({\n",
       "    'data': [{'colorscale': [[0.0, '#440154'], [0.1111111111111111, '#482878'],\n",
       "               …"
      ]
     },
     "metadata": {},
     "output_type": "display_data"
    },
    {
     "data": {
      "application/vnd.jupyter.widget-view+json": {
       "model_id": "7eb95ae27a6243648e1afb04c306d68f",
       "version_major": 2,
       "version_minor": 0
      },
      "text/plain": [
       "FigureWidget({\n",
       "    'data': [{'colorscale': [[0.0, '#440154'], [0.1111111111111111, '#482878'],\n",
       "               …"
      ]
     },
     "metadata": {},
     "output_type": "display_data"
    },
    {
     "data": {
      "application/vnd.jupyter.widget-view+json": {
       "model_id": "12ba0285e17b45ab8c509083308f9dba",
       "version_major": 2,
       "version_minor": 0
      },
      "text/plain": [
       "FigureWidget({\n",
       "    'data': [{'colorscale': [[0.0, '#440154'], [0.1111111111111111, '#482878'],\n",
       "               …"
      ]
     },
     "metadata": {},
     "output_type": "display_data"
    }
   ],
   "source": [
    "# Visualization\n",
    "# Choose setup\n",
    "\n",
    "viz = SomViz(sweights, smap_y, smap_x)\n",
    "\n",
    "color='viridis'\n",
    "interp=False\n",
    "data_title='SOMToolBox'\n",
    "\n",
    "k_list = [1,2,3,4]\n",
    "r_list = [0.01,0.05,0.1,0.15]\n",
    "r_list = np.around(np.mean(idata_chainlink)*np.array(r_list), decimals=2) # scale radii to input data\n",
    "\n",
    "# Prepare Neighbourhood Graph\n",
    "%time ng2 = NG(viz.weights, viz.n, viz.m, input_data=idata_chainlink)\n",
    "\n",
    "# U-Matrix\n",
    "display(viz.umatrix(color=color, interp=interp, title='{}: U-Matrix'.format(data_title)))\n",
    "\n",
    "# U-Matrix with Neighbourhood Graph\n",
    "## knn\n",
    "for k in k_list:\n",
    "    display(viz.umatrix(color=color, interp=interp, title='{}: U-Matrix + {}-NN Neighbourhood Graph'.format(data_title, k), adj_mat=ng2.create_graph(knn=k)))\n",
    "## radius\n",
    "for k in r_list:\n",
    "    display(viz.umatrix(color=color, interp=interp, title='{}: U-Matrix + {}-Radius Neighbourhood Graph'.format(data_title, k), adj_mat=ng2.create_graph(radius=k)))\n",
    "\n",
    "# Hit-Hist with Neighbourhood Graph\n",
    "## knn\n",
    "for k in k_list:\n",
    "    display(viz.hithist(idata=idata_chainlink, color=color, interp=interp, title='{}: Hit hist + {}-NN Neighbourhood Graph'.format(data_title, k), adj_mat=ng2.create_graph(knn=k)))\n",
    "## radius\n",
    "for k in r_list:\n",
    "    display(viz.hithist(idata=idata_chainlink, color=color, interp=interp, title='{}: Hit hist + {}-Radius Neighbourhood Graph'.format(data_title, k), adj_mat=ng2.create_graph(radius=k)))\n",
    "\n",
    "\n",
    "\n"
   ]
  },
  {
   "cell_type": "markdown",
   "metadata": {},
   "source": [
    "### Load Trained SOM"
   ]
  },
  {
   "cell_type": "code",
   "execution_count": 10,
   "metadata": {},
   "outputs": [],
   "source": [
    "##########################################\n",
    "######## read from SOMToolBox ############\n",
    "##########################################\n",
    "\n",
    "smap_chainlink_from_file = SOMToolBox_Parse('../input/chainlink/maps/chainlink.wgt.gz')\n",
    "sweights, sdim, smap_x, smap_y = smap_chainlink_from_file.read_weight_file()\n",
    "sweights = sweights.values.reshape(-1,sdim)"
   ]
  },
  {
   "cell_type": "code",
   "execution_count": 11,
   "metadata": {},
   "outputs": [
    {
     "data": {
      "application/vnd.jupyter.widget-view+json": {
       "model_id": "acee66c43a234937ac12c8d45ad6719d",
       "version_major": 2,
       "version_minor": 0
      },
      "text/plain": [
       "FigureWidget({\n",
       "    'data': [{'colorscale': [[0.0, '#440154'], [0.1111111111111111, '#482878'],\n",
       "               …"
      ]
     },
     "metadata": {},
     "output_type": "display_data"
    },
    {
     "data": {
      "application/vnd.jupyter.widget-view+json": {
       "model_id": "83cd6131a9ce4653a8669470ede41b9e",
       "version_major": 2,
       "version_minor": 0
      },
      "text/plain": [
       "FigureWidget({\n",
       "    'data': [{'colorscale': [[0.0, '#440154'], [0.1111111111111111, '#482878'],\n",
       "               …"
      ]
     },
     "metadata": {},
     "output_type": "display_data"
    },
    {
     "data": {
      "application/vnd.jupyter.widget-view+json": {
       "model_id": "1704c6063b594ca4a4366ebb2322d137",
       "version_major": 2,
       "version_minor": 0
      },
      "text/plain": [
       "FigureWidget({\n",
       "    'data': [{'colorscale': [[0.0, '#440154'], [0.1111111111111111, '#482878'],\n",
       "               …"
      ]
     },
     "metadata": {},
     "output_type": "display_data"
    },
    {
     "data": {
      "application/vnd.jupyter.widget-view+json": {
       "model_id": "0f1500d2ac7f44e1aa4763e3fc2ae150",
       "version_major": 2,
       "version_minor": 0
      },
      "text/plain": [
       "FigureWidget({\n",
       "    'data': [{'colorscale': [[0.0, '#440154'], [0.1111111111111111, '#482878'],\n",
       "               …"
      ]
     },
     "metadata": {},
     "output_type": "display_data"
    },
    {
     "data": {
      "application/vnd.jupyter.widget-view+json": {
       "model_id": "bc7da2e2a7d4401aad823fcd3fda3837",
       "version_major": 2,
       "version_minor": 0
      },
      "text/plain": [
       "FigureWidget({\n",
       "    'data': [{'colorscale': [[0.0, '#440154'], [0.1111111111111111, '#482878'],\n",
       "               …"
      ]
     },
     "metadata": {},
     "output_type": "display_data"
    },
    {
     "data": {
      "application/vnd.jupyter.widget-view+json": {
       "model_id": "cc856857090d46ae8da4f69967c5ab72",
       "version_major": 2,
       "version_minor": 0
      },
      "text/plain": [
       "FigureWidget({\n",
       "    'data': [{'colorscale': [[0.0, '#440154'], [0.1111111111111111, '#482878'],\n",
       "               …"
      ]
     },
     "metadata": {},
     "output_type": "display_data"
    },
    {
     "data": {
      "application/vnd.jupyter.widget-view+json": {
       "model_id": "d6ba5bc7747446cea62852da639935dc",
       "version_major": 2,
       "version_minor": 0
      },
      "text/plain": [
       "FigureWidget({\n",
       "    'data': [{'colorscale': [[0.0, '#440154'], [0.1111111111111111, '#482878'],\n",
       "               …"
      ]
     },
     "metadata": {},
     "output_type": "display_data"
    },
    {
     "data": {
      "application/vnd.jupyter.widget-view+json": {
       "model_id": "834d04ca9b2b408fa757ae2e5ab35710",
       "version_major": 2,
       "version_minor": 0
      },
      "text/plain": [
       "FigureWidget({\n",
       "    'data': [{'colorscale': [[0.0, '#440154'], [0.1111111111111111, '#482878'],\n",
       "               …"
      ]
     },
     "metadata": {},
     "output_type": "display_data"
    },
    {
     "data": {
      "application/vnd.jupyter.widget-view+json": {
       "model_id": "e7b8e13d14c04494a911cd3bf6863d86",
       "version_major": 2,
       "version_minor": 0
      },
      "text/plain": [
       "FigureWidget({\n",
       "    'data': [{'colorscale': [[0.0, '#440154'], [0.1111111111111111, '#482878'],\n",
       "               …"
      ]
     },
     "metadata": {},
     "output_type": "display_data"
    },
    {
     "data": {
      "application/vnd.jupyter.widget-view+json": {
       "model_id": "791fc0a591b04f369beab7fb8803ad40",
       "version_major": 2,
       "version_minor": 0
      },
      "text/plain": [
       "FigureWidget({\n",
       "    'data': [{'colorscale': [[0.0, '#440154'], [0.1111111111111111, '#482878'],\n",
       "               …"
      ]
     },
     "metadata": {},
     "output_type": "display_data"
    },
    {
     "data": {
      "application/vnd.jupyter.widget-view+json": {
       "model_id": "23b4f746a6654f9c816ef07984ce9f58",
       "version_major": 2,
       "version_minor": 0
      },
      "text/plain": [
       "FigureWidget({\n",
       "    'data': [{'colorscale': [[0.0, '#440154'], [0.1111111111111111, '#482878'],\n",
       "               …"
      ]
     },
     "metadata": {},
     "output_type": "display_data"
    },
    {
     "data": {
      "application/vnd.jupyter.widget-view+json": {
       "model_id": "48d5990f04cb4d2bb1386579ba29e87e",
       "version_major": 2,
       "version_minor": 0
      },
      "text/plain": [
       "FigureWidget({\n",
       "    'data': [{'colorscale': [[0.0, '#440154'], [0.1111111111111111, '#482878'],\n",
       "               …"
      ]
     },
     "metadata": {},
     "output_type": "display_data"
    },
    {
     "data": {
      "application/vnd.jupyter.widget-view+json": {
       "model_id": "49fd1457a33047ea9cfc141902f108d0",
       "version_major": 2,
       "version_minor": 0
      },
      "text/plain": [
       "FigureWidget({\n",
       "    'data': [{'colorscale': [[0.0, '#440154'], [0.1111111111111111, '#482878'],\n",
       "               …"
      ]
     },
     "metadata": {},
     "output_type": "display_data"
    },
    {
     "data": {
      "application/vnd.jupyter.widget-view+json": {
       "model_id": "3254c2c6f6c24bc090854808f322d44d",
       "version_major": 2,
       "version_minor": 0
      },
      "text/plain": [
       "FigureWidget({\n",
       "    'data': [{'colorscale': [[0.0, '#440154'], [0.1111111111111111, '#482878'],\n",
       "               …"
      ]
     },
     "metadata": {},
     "output_type": "display_data"
    },
    {
     "data": {
      "application/vnd.jupyter.widget-view+json": {
       "model_id": "a8c470e820e34dffb72774995594f5db",
       "version_major": 2,
       "version_minor": 0
      },
      "text/plain": [
       "FigureWidget({\n",
       "    'data': [{'colorscale': [[0.0, '#440154'], [0.1111111111111111, '#482878'],\n",
       "               …"
      ]
     },
     "metadata": {},
     "output_type": "display_data"
    },
    {
     "data": {
      "application/vnd.jupyter.widget-view+json": {
       "model_id": "f932970959a14d9e80c189c094e53890",
       "version_major": 2,
       "version_minor": 0
      },
      "text/plain": [
       "FigureWidget({\n",
       "    'data': [{'colorscale': [[0.0, '#440154'], [0.1111111111111111, '#482878'],\n",
       "               …"
      ]
     },
     "metadata": {},
     "output_type": "display_data"
    },
    {
     "data": {
      "application/vnd.jupyter.widget-view+json": {
       "model_id": "35b80ae14da2429f840a6f58df2ebe79",
       "version_major": 2,
       "version_minor": 0
      },
      "text/plain": [
       "FigureWidget({\n",
       "    'data': [{'colorscale': [[0.0, '#440154'], [0.1111111111111111, '#482878'],\n",
       "               …"
      ]
     },
     "metadata": {},
     "output_type": "display_data"
    }
   ],
   "source": [
    "viz = SomViz(sweights, smap_y, smap_x)\n",
    "\n",
    "color='viridis'\n",
    "interp=False\n",
    "data_title='SOMToolBox'\n",
    "\n",
    "k_list = [1,2,3,4]\n",
    "r_list = [0.01,0.05,0.1,0.15]\n",
    "r_list = np.around(np.mean(idata_chainlink)*np.array(r_list), decimals=2)\n",
    "\n",
    "# Prepare Neighbourhood Graph\n",
    "ng2 = NG(viz.weights, viz.n, viz.m, input_data=idata_chainlink)\n",
    "\n",
    "## U-Matrix\n",
    "display(viz.umatrix(color=color, interp=interp, title='{}: U-Matrix'.format(data_title)))\n",
    "\n",
    "## U-Matrix with Neighbourhood Graph\n",
    "# knn\n",
    "for k in k_list:\n",
    "    display(viz.umatrix(color=color, interp=interp, title='{}: U-Matrix + {}-NN Neighbourhood Graph'.format(data_title, k), adj_mat=ng2.create_graph(knn=k)))\n",
    "# radius\n",
    "for k in r_list:\n",
    "    display(viz.umatrix(color=color, interp=interp, title='{}: U-Matrix + {}-Radius Neighbourhood Graph'.format(data_title, k), adj_mat=ng2.create_graph(radius=k)))\n",
    "\n",
    "## Hit-Hist with Neighbourhood Graph\n",
    "# knn\n",
    "for k in k_list:\n",
    "    display(viz.hithist(idata=idata_chainlink, color=color, interp=interp, title='{}: Hit hist + {}-NN Neighbourhood Graph'.format(data_title, k), adj_mat=ng2.create_graph(knn=k)))\n",
    "# radius\n",
    "for k in r_list:\n",
    "    display(viz.hithist(idata=idata_chainlink, color=color, interp=interp, title='{}: Hit hist + {}-Radius Neighbourhood Graph'.format(data_title, k), adj_mat=ng2.create_graph(radius=k)))\n",
    "\n"
   ]
  },
  {
   "cell_type": "code",
   "execution_count": null,
   "metadata": {},
   "outputs": [],
   "source": []
  }
 ],
 "metadata": {
  "kernelspec": {
   "display_name": "Python 3",
   "language": "python",
   "name": "python3"
  },
  "language_info": {
   "codemirror_mode": {
    "name": "ipython",
    "version": 3
   },
   "file_extension": ".py",
   "mimetype": "text/x-python",
   "name": "python",
   "nbconvert_exporter": "python",
   "pygments_lexer": "ipython3",
   "version": "3.8.0"
  }
 },
 "nbformat": 4,
 "nbformat_minor": 2
}
