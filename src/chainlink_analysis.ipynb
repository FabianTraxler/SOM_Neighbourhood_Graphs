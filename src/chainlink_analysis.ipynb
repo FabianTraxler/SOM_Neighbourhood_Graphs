{
 "cells": [
  {
   "cell_type": "markdown",
   "metadata": {
    "pycharm": {
     "name": "#%% md\n"
    }
   },
   "source": [
    "SOS2020_ExSOM-C_group12_1553958_01126793\n",
    "# C) Evaluation Report - Chainlink Dataset\n",
    "\n",
    "## Overview\n",
    "We trained and loaded 40x20 and 100x60 maps and visualized the results as overlay over U-matrices.\n",
    "We used the following parameters for Neighbourhood Graphs:\n",
    "  * k-NN: [1, 5, 20]\n",
    "  * Radius: [0.03, 0.1, 0.2, 1]"
   ]
  },
  {
   "cell_type": "code",
   "execution_count": 55,
   "metadata": {
    "pycharm": {
     "name": "#%%\n"
    }
   },
   "outputs": [],
   "source": [
    "import numpy as np\n",
    "import minisom as som\n",
    "from IPython.core.display import display\n",
    "from ipywidgets import HBox\n",
    "from sklearn import datasets, preprocessing\n",
    "\n",
    "from NeighbourhoodGraph import NeighbourhoodGraph\n",
    "from som_vis import SomViz, SOMToolBox_Parse\n",
    "from src.util import create_visualizations"
   ]
  },
  {
   "cell_type": "code",
   "execution_count": 56,
   "metadata": {
    "pycharm": {
     "name": "#%%\n"
    }
   },
   "outputs": [],
   "source": [
    "# Set this parameter to False to run Notebook without training new SOMs\n",
    "do_training = True\n",
    "\n",
    "# Set this parameter to False to run Notebook without loading pretrained SOMs\n",
    "do_loading = True\n",
    "\n",
    "# Set plots_save_dir to None if you do not want to save plots\n",
    "plots_save_dir = \"../plots/\"\n",
    "plots_save_file_type = \"png\"\n",
    "\n",
    "# Set"
   ]
  },
  {
   "cell_type": "markdown",
   "metadata": {},
   "source": [
    "### Load and prepare input data"
   ]
  },
  {
   "cell_type": "code",
   "execution_count": 57,
   "metadata": {
    "pycharm": {
     "name": "#%%\n"
    }
   },
   "outputs": [],
   "source": [
    "ivec = SOMToolBox_Parse('../input/chainlink/chainlink.vec')\n",
    "idata, idim, _, _ = ivec.read_weight_file()\n",
    "idata = idata.to_numpy()"
   ]
  },
  {
   "cell_type": "markdown",
   "metadata": {
    "pycharm": {
     "name": "#%% md\n"
    }
   },
   "source": [
    "## 40x20 Sized Maps"
   ]
  },
  {
   "cell_type": "code",
   "execution_count": 58,
   "metadata": {
    "pycharm": {
     "name": "#%%\n"
    }
   },
   "outputs": [],
   "source": [
    "smap_x=40\n",
    "smap_y=20\n",
    "weights_path = '../input/chainlink/chainlink4020/chainlink.wgt.gz'\n",
    "data_title = \"Chainlink 40x20\"\n",
    "\n",
    "_k_list = [1, 5, 20]\n",
    "_r_list = [0.03, 0.1, 0.2, 1]"
   ]
  },
  {
   "cell_type": "markdown",
   "metadata": {},
   "source": [
    "### Train New SOM"
   ]
  },
  {
   "cell_type": "code",
   "execution_count": 59,
   "metadata": {
    "pycharm": {
     "name": "#%%\n"
    }
   },
   "outputs": [
    {
     "name": "stdout",
     "output_type": "stream",
     "text": [
      "Wall time: 1min 28s\n"
     ]
    }
   ],
   "source": [
    "if do_training:\n",
    "    # Train\n",
    "    smap_small = som.MiniSom(smap_y, smap_x, idata.shape[1], sigma=7, learning_rate=0.7)\n",
    "    %time smap_small.train_random(idata, 10000, verbose=False)"
   ]
  },
  {
   "cell_type": "code",
   "execution_count": 60,
   "outputs": [
    {
     "data": {
      "text/plain": "FigureWidget({\n    'data': [{'colorscale': [[0.0, '#440154'], [0.1111111111111111, '#482878'],\n               …",
      "application/vnd.jupyter.widget-view+json": {
       "version_major": 2,
       "version_minor": 0,
       "model_id": "74ee3be99d744d2fb45821fdbf313175"
      }
     },
     "metadata": {},
     "output_type": "display_data"
    },
    {
     "data": {
      "text/plain": "FigureWidget({\n    'data': [{'colorscale': [[0.0, '#440154'], [0.1111111111111111, '#482878'],\n               …",
      "application/vnd.jupyter.widget-view+json": {
       "version_major": 2,
       "version_minor": 0,
       "model_id": "ecb2923ec88b4a438cb2c221bc1d2470"
      }
     },
     "metadata": {},
     "output_type": "display_data"
    },
    {
     "data": {
      "text/plain": "FigureWidget({\n    'data': [{'colorscale': [[0.0, '#440154'], [0.1111111111111111, '#482878'],\n               …",
      "application/vnd.jupyter.widget-view+json": {
       "version_major": 2,
       "version_minor": 0,
       "model_id": "7223dd53dd5e4de5ababff825a04ccf6"
      }
     },
     "metadata": {},
     "output_type": "display_data"
    },
    {
     "data": {
      "text/plain": "FigureWidget({\n    'data': [{'colorscale': [[0.0, '#440154'], [0.1111111111111111, '#482878'],\n               …",
      "application/vnd.jupyter.widget-view+json": {
       "version_major": 2,
       "version_minor": 0,
       "model_id": "c1d97fa546ae4884b3902d6e946dee37"
      }
     },
     "metadata": {},
     "output_type": "display_data"
    },
    {
     "data": {
      "text/plain": "FigureWidget({\n    'data': [{'colorscale': [[0.0, '#440154'], [0.1111111111111111, '#482878'],\n               …",
      "application/vnd.jupyter.widget-view+json": {
       "version_major": 2,
       "version_minor": 0,
       "model_id": "414f7f0c8d84418f89978304b1e72317"
      }
     },
     "metadata": {},
     "output_type": "display_data"
    },
    {
     "data": {
      "text/plain": "FigureWidget({\n    'data': [{'colorscale': [[0.0, '#440154'], [0.1111111111111111, '#482878'],\n               …",
      "application/vnd.jupyter.widget-view+json": {
       "version_major": 2,
       "version_minor": 0,
       "model_id": "5f0124f337e0402796150b861f94e7d3"
      }
     },
     "metadata": {},
     "output_type": "display_data"
    },
    {
     "data": {
      "text/plain": "FigureWidget({\n    'data': [{'colorscale': [[0.0, '#440154'], [0.1111111111111111, '#482878'],\n               …",
      "application/vnd.jupyter.widget-view+json": {
       "version_major": 2,
       "version_minor": 0,
       "model_id": "a9e336c7258c46a5b9fec362f7f7e1ef"
      }
     },
     "metadata": {},
     "output_type": "display_data"
    }
   ],
   "source": [
    "    # Visualize\n",
    "    sweights = smap_small._weights.reshape(-1,idim)\n",
    "    create_visualizations(sweights,smap_y,smap_x,idata,\n",
    "                          data_title=data_title + \" Trained\",\n",
    "                          k_list=_k_list,\n",
    "                          r_list=_r_list,\n",
    "                          save_dir=plots_save_dir,\n",
    "                          save_file_type=plots_save_file_type)"
   ],
   "metadata": {
    "collapsed": false,
    "pycharm": {
     "name": "#%%\n"
    }
   }
  },
  {
   "cell_type": "markdown",
   "metadata": {},
   "source": [
    "### Load Trained SOM"
   ]
  },
  {
   "cell_type": "code",
   "execution_count": 61,
   "metadata": {
    "pycharm": {
     "name": "#%%\n"
    }
   },
   "outputs": [
    {
     "data": {
      "text/plain": "FigureWidget({\n    'data': [{'colorscale': [[0.0, '#440154'], [0.1111111111111111, '#482878'],\n               …",
      "application/vnd.jupyter.widget-view+json": {
       "version_major": 2,
       "version_minor": 0,
       "model_id": "197f591923864f20880c8bbd3f1ddc5a"
      }
     },
     "metadata": {},
     "output_type": "display_data"
    },
    {
     "data": {
      "text/plain": "FigureWidget({\n    'data': [{'colorscale': [[0.0, '#440154'], [0.1111111111111111, '#482878'],\n               …",
      "application/vnd.jupyter.widget-view+json": {
       "version_major": 2,
       "version_minor": 0,
       "model_id": "bd3d6b28b0de45aeab620d3a9b96eabd"
      }
     },
     "metadata": {},
     "output_type": "display_data"
    },
    {
     "data": {
      "text/plain": "FigureWidget({\n    'data': [{'colorscale': [[0.0, '#440154'], [0.1111111111111111, '#482878'],\n               …",
      "application/vnd.jupyter.widget-view+json": {
       "version_major": 2,
       "version_minor": 0,
       "model_id": "2064f99113db4b57a0e83fd93e773bef"
      }
     },
     "metadata": {},
     "output_type": "display_data"
    },
    {
     "data": {
      "text/plain": "FigureWidget({\n    'data': [{'colorscale': [[0.0, '#440154'], [0.1111111111111111, '#482878'],\n               …",
      "application/vnd.jupyter.widget-view+json": {
       "version_major": 2,
       "version_minor": 0,
       "model_id": "f5254cb982074f269153aae2b3e1ff2e"
      }
     },
     "metadata": {},
     "output_type": "display_data"
    },
    {
     "data": {
      "text/plain": "FigureWidget({\n    'data': [{'colorscale': [[0.0, '#440154'], [0.1111111111111111, '#482878'],\n               …",
      "application/vnd.jupyter.widget-view+json": {
       "version_major": 2,
       "version_minor": 0,
       "model_id": "46b8a5bdcf37410583ff294b848f6521"
      }
     },
     "metadata": {},
     "output_type": "display_data"
    },
    {
     "data": {
      "text/plain": "FigureWidget({\n    'data': [{'colorscale': [[0.0, '#440154'], [0.1111111111111111, '#482878'],\n               …",
      "application/vnd.jupyter.widget-view+json": {
       "version_major": 2,
       "version_minor": 0,
       "model_id": "07407154f442446bbee82a1f074bdc34"
      }
     },
     "metadata": {},
     "output_type": "display_data"
    },
    {
     "data": {
      "text/plain": "FigureWidget({\n    'data': [{'colorscale': [[0.0, '#440154'], [0.1111111111111111, '#482878'],\n               …",
      "application/vnd.jupyter.widget-view+json": {
       "version_major": 2,
       "version_minor": 0,
       "model_id": "85a5707326a945ca9d8ca4a4ee81bdae"
      }
     },
     "metadata": {},
     "output_type": "display_data"
    }
   ],
   "source": [
    "if do_loading:\n",
    "    # Load\n",
    "    smap_small_loaded = SOMToolBox_Parse(weights_path)\n",
    "    sweights, sdim, smap_x, smap_y = smap_small_loaded.read_weight_file()\n",
    "\n",
    "    # Fix orientation\n",
    "    sweights = sweights.values.reshape(smap_y,smap_x,sdim)\n",
    "    sweights = np.flip(sweights,0)\n",
    "    sweights = sweights.reshape(-1,sdim)\n",
    "\n",
    "    # Visualize\n",
    "    create_visualizations(sweights,smap_y,smap_x,idata,\n",
    "                          data_title=data_title + \" Loaded\",\n",
    "                          k_list=_k_list,\n",
    "                          r_list=_r_list,\n",
    "                          save_dir=plots_save_dir,\n",
    "                          save_file_type=plots_save_file_type)"
   ]
  },
  {
   "cell_type": "markdown",
   "source": [
    "### Results - Comparison & Analysis\n",
    "\n",
    "<img src=\"../plots/Chainlink 40x20 Loaded_umatrix_neighbourhoodgraph--knn-1.png\">\n",
    "<img src=\"../input/chainlink/chainlink4020/SOMToolbox Vis/NeighbourhoodKnn__key=1.png\">\n",
    "\n",
    "![alt text](../plots/Chainlink 40x20 Loaded_umatrix_neighbourhoodgraph--knn-1.png \"Title\")"
   ],
   "metadata": {
    "collapsed": false,
    "pycharm": {
     "name": "#%% md\n"
    }
   }
  },
  {
   "cell_type": "markdown",
   "metadata": {},
   "source": [
    "## 100x60 Sized Map"
   ]
  },
  {
   "cell_type": "code",
   "execution_count": 62,
   "metadata": {
    "pycharm": {
     "name": "#%%\n"
    }
   },
   "outputs": [],
   "source": [
    "smap_x=100\n",
    "smap_y=60\n",
    "weights_path = '../input/chainlink/chainlink10060/chainlink.wgt.gz'\n",
    "data_title = \"Chainlink 100x60\"\n",
    "\n",
    "_k_list = [1, 5, 20]\n",
    "_r_list = [0.03, 0.1, 0.2, 1]"
   ]
  },
  {
   "cell_type": "markdown",
   "metadata": {},
   "source": [
    "### Train New SOM"
   ]
  },
  {
   "cell_type": "code",
   "execution_count": 63,
   "metadata": {
    "pycharm": {
     "name": "#%%\n"
    }
   },
   "outputs": [
    {
     "ename": "KeyboardInterrupt",
     "evalue": "",
     "output_type": "error",
     "traceback": [
      "\u001B[1;31m---------------------------------------------------------------------------\u001B[0m",
      "\u001B[1;31mKeyboardInterrupt\u001B[0m                         Traceback (most recent call last)",
      "\u001B[1;32m<timed eval>\u001B[0m in \u001B[0;36m<module>\u001B[1;34m\u001B[0m\n",
      "\u001B[1;32m~\\miniconda3\\envs\\sos_ex3_MASTER\\lib\\site-packages\\minisom.py\u001B[0m in \u001B[0;36mtrain_random\u001B[1;34m(self, data, num_iteration, verbose)\u001B[0m\n\u001B[0;32m    308\u001B[0m             \u001B[0mrand_i\u001B[0m \u001B[1;33m=\u001B[0m \u001B[0mself\u001B[0m\u001B[1;33m.\u001B[0m\u001B[0m_random_generator\u001B[0m\u001B[1;33m.\u001B[0m\u001B[0mrandint\u001B[0m\u001B[1;33m(\u001B[0m\u001B[0mlen\u001B[0m\u001B[1;33m(\u001B[0m\u001B[0mdata\u001B[0m\u001B[1;33m)\u001B[0m\u001B[1;33m)\u001B[0m\u001B[1;33m\u001B[0m\u001B[1;33m\u001B[0m\u001B[0m\n\u001B[0;32m    309\u001B[0m             self.update(data[rand_i], self.winner(data[rand_i]),\n\u001B[1;32m--> 310\u001B[1;33m                         iteration, num_iteration)\n\u001B[0m\u001B[0;32m    311\u001B[0m \u001B[1;33m\u001B[0m\u001B[0m\n\u001B[0;32m    312\u001B[0m     \u001B[1;32mdef\u001B[0m \u001B[0mtrain_batch\u001B[0m\u001B[1;33m(\u001B[0m\u001B[0mself\u001B[0m\u001B[1;33m,\u001B[0m \u001B[0mdata\u001B[0m\u001B[1;33m,\u001B[0m \u001B[0mnum_iteration\u001B[0m\u001B[1;33m,\u001B[0m \u001B[0mverbose\u001B[0m\u001B[1;33m=\u001B[0m\u001B[1;32mFalse\u001B[0m\u001B[1;33m)\u001B[0m\u001B[1;33m:\u001B[0m\u001B[1;33m\u001B[0m\u001B[1;33m\u001B[0m\u001B[0m\n",
      "\u001B[1;32m~\\miniconda3\\envs\\sos_ex3_MASTER\\lib\\site-packages\\minisom.py\u001B[0m in \u001B[0;36mupdate\u001B[1;34m(self, x, win, t, max_iteration)\u001B[0m\n\u001B[0;32m    249\u001B[0m             \u001B[1;31m# normalization\u001B[0m\u001B[1;33m\u001B[0m\u001B[1;33m\u001B[0m\u001B[1;33m\u001B[0m\u001B[0m\n\u001B[0;32m    250\u001B[0m             \u001B[0mnorm\u001B[0m \u001B[1;33m=\u001B[0m \u001B[0mfast_norm\u001B[0m\u001B[1;33m(\u001B[0m\u001B[0mself\u001B[0m\u001B[1;33m.\u001B[0m\u001B[0m_weights\u001B[0m\u001B[1;33m[\u001B[0m\u001B[0mit\u001B[0m\u001B[1;33m.\u001B[0m\u001B[0mmulti_index\u001B[0m\u001B[1;33m]\u001B[0m\u001B[1;33m)\u001B[0m\u001B[1;33m\u001B[0m\u001B[1;33m\u001B[0m\u001B[0m\n\u001B[1;32m--> 251\u001B[1;33m             \u001B[0mself\u001B[0m\u001B[1;33m.\u001B[0m\u001B[0m_weights\u001B[0m\u001B[1;33m[\u001B[0m\u001B[0mit\u001B[0m\u001B[1;33m.\u001B[0m\u001B[0mmulti_index\u001B[0m\u001B[1;33m]\u001B[0m \u001B[1;33m=\u001B[0m \u001B[0mself\u001B[0m\u001B[1;33m.\u001B[0m\u001B[0m_weights\u001B[0m\u001B[1;33m[\u001B[0m\u001B[0mit\u001B[0m\u001B[1;33m.\u001B[0m\u001B[0mmulti_index\u001B[0m\u001B[1;33m]\u001B[0m\u001B[1;33m/\u001B[0m\u001B[0mnorm\u001B[0m\u001B[1;33m\u001B[0m\u001B[1;33m\u001B[0m\u001B[0m\n\u001B[0m\u001B[0;32m    252\u001B[0m             \u001B[0mit\u001B[0m\u001B[1;33m.\u001B[0m\u001B[0miternext\u001B[0m\u001B[1;33m(\u001B[0m\u001B[1;33m)\u001B[0m\u001B[1;33m\u001B[0m\u001B[1;33m\u001B[0m\u001B[0m\n\u001B[0;32m    253\u001B[0m \u001B[1;33m\u001B[0m\u001B[0m\n",
      "\u001B[1;31mKeyboardInterrupt\u001B[0m: "
     ]
    }
   ],
   "source": [
    "# Train\n",
    "if do_training:\n",
    "    # Train\n",
    "    smap_big = som.MiniSom(smap_y, smap_x, idata.shape[1], sigma=7, learning_rate=0.7)\n",
    "    %time smap_big.train_random(idata, 10000, verbose=False)"
   ]
  },
  {
   "cell_type": "code",
   "execution_count": 64,
   "outputs": [
    {
     "data": {
      "text/plain": "FigureWidget({\n    'data': [{'colorscale': [[0.0, '#440154'], [0.1111111111111111, '#482878'],\n               …",
      "application/vnd.jupyter.widget-view+json": {
       "version_major": 2,
       "version_minor": 0,
       "model_id": "c47089db8bf947b982a1c7fab22cd45f"
      }
     },
     "metadata": {},
     "output_type": "display_data"
    },
    {
     "data": {
      "text/plain": "FigureWidget({\n    'data': [{'colorscale': [[0.0, '#440154'], [0.1111111111111111, '#482878'],\n               …",
      "application/vnd.jupyter.widget-view+json": {
       "version_major": 2,
       "version_minor": 0,
       "model_id": "403be65cf5ba4f0eaad3693a9267167a"
      }
     },
     "metadata": {},
     "output_type": "display_data"
    },
    {
     "data": {
      "text/plain": "FigureWidget({\n    'data': [{'colorscale': [[0.0, '#440154'], [0.1111111111111111, '#482878'],\n               …",
      "application/vnd.jupyter.widget-view+json": {
       "version_major": 2,
       "version_minor": 0,
       "model_id": "3375f4c391904be1aa0e0dbc11f06b42"
      }
     },
     "metadata": {},
     "output_type": "display_data"
    },
    {
     "data": {
      "text/plain": "FigureWidget({\n    'data': [{'colorscale': [[0.0, '#440154'], [0.1111111111111111, '#482878'],\n               …",
      "application/vnd.jupyter.widget-view+json": {
       "version_major": 2,
       "version_minor": 0,
       "model_id": "cc3bdb83eb274e049f27c3102c3355ae"
      }
     },
     "metadata": {},
     "output_type": "display_data"
    },
    {
     "data": {
      "text/plain": "FigureWidget({\n    'data': [{'colorscale': [[0.0, '#440154'], [0.1111111111111111, '#482878'],\n               …",
      "application/vnd.jupyter.widget-view+json": {
       "version_major": 2,
       "version_minor": 0,
       "model_id": "23f6d736f7ef48268d318a57822e18f5"
      }
     },
     "metadata": {},
     "output_type": "display_data"
    },
    {
     "data": {
      "text/plain": "FigureWidget({\n    'data': [{'colorscale': [[0.0, '#440154'], [0.1111111111111111, '#482878'],\n               …",
      "application/vnd.jupyter.widget-view+json": {
       "version_major": 2,
       "version_minor": 0,
       "model_id": "f3029cbf3513463b9ae29ff09d8d6f3d"
      }
     },
     "metadata": {},
     "output_type": "display_data"
    },
    {
     "data": {
      "text/plain": "FigureWidget({\n    'data': [{'colorscale': [[0.0, '#440154'], [0.1111111111111111, '#482878'],\n               …",
      "application/vnd.jupyter.widget-view+json": {
       "version_major": 2,
       "version_minor": 0,
       "model_id": "4911a255404e42c5bd14bb9c757a81bf"
      }
     },
     "metadata": {},
     "output_type": "display_data"
    }
   ],
   "source": [
    "    # Visualize\n",
    "    sweights = smap_big._weights.reshape(-1,idim)\n",
    "    create_visualizations(sweights,smap_y,smap_x,idata,\n",
    "                          data_title=data_title + \" Trained\",\n",
    "                          k_list=_k_list,\n",
    "                          r_list=_r_list,\n",
    "                          save_dir=plots_save_dir,\n",
    "                          save_file_type=plots_save_file_type)"
   ],
   "metadata": {
    "collapsed": false,
    "pycharm": {
     "name": "#%%\n"
    }
   }
  },
  {
   "cell_type": "markdown",
   "metadata": {},
   "source": [
    "### Load Trained SOM"
   ]
  },
  {
   "cell_type": "code",
   "execution_count": 65,
   "metadata": {
    "pycharm": {
     "name": "#%%\n"
    }
   },
   "outputs": [
    {
     "data": {
      "text/plain": "FigureWidget({\n    'data': [{'colorscale': [[0.0, '#440154'], [0.1111111111111111, '#482878'],\n               …",
      "application/vnd.jupyter.widget-view+json": {
       "version_major": 2,
       "version_minor": 0,
       "model_id": "1d814fa0ff5e4a4d9597cc8d1033b478"
      }
     },
     "metadata": {},
     "output_type": "display_data"
    },
    {
     "data": {
      "text/plain": "FigureWidget({\n    'data': [{'colorscale': [[0.0, '#440154'], [0.1111111111111111, '#482878'],\n               …",
      "application/vnd.jupyter.widget-view+json": {
       "version_major": 2,
       "version_minor": 0,
       "model_id": "27afae431b484ba6bd9bf8ad8e7c561c"
      }
     },
     "metadata": {},
     "output_type": "display_data"
    },
    {
     "data": {
      "text/plain": "FigureWidget({\n    'data': [{'colorscale': [[0.0, '#440154'], [0.1111111111111111, '#482878'],\n               …",
      "application/vnd.jupyter.widget-view+json": {
       "version_major": 2,
       "version_minor": 0,
       "model_id": "b5fd9fe6b7614017a9799d70348fec94"
      }
     },
     "metadata": {},
     "output_type": "display_data"
    },
    {
     "data": {
      "text/plain": "FigureWidget({\n    'data': [{'colorscale': [[0.0, '#440154'], [0.1111111111111111, '#482878'],\n               …",
      "application/vnd.jupyter.widget-view+json": {
       "version_major": 2,
       "version_minor": 0,
       "model_id": "6e673bfcddc94fb6b56bb22d34817b64"
      }
     },
     "metadata": {},
     "output_type": "display_data"
    },
    {
     "data": {
      "text/plain": "FigureWidget({\n    'data': [{'colorscale': [[0.0, '#440154'], [0.1111111111111111, '#482878'],\n               …",
      "application/vnd.jupyter.widget-view+json": {
       "version_major": 2,
       "version_minor": 0,
       "model_id": "68be14ecf5d4405d9db90a25cf2aac23"
      }
     },
     "metadata": {},
     "output_type": "display_data"
    },
    {
     "data": {
      "text/plain": "FigureWidget({\n    'data': [{'colorscale': [[0.0, '#440154'], [0.1111111111111111, '#482878'],\n               …",
      "application/vnd.jupyter.widget-view+json": {
       "version_major": 2,
       "version_minor": 0,
       "model_id": "d83c752a84cd496aa8193faf5e53aca7"
      }
     },
     "metadata": {},
     "output_type": "display_data"
    },
    {
     "data": {
      "text/plain": "FigureWidget({\n    'data': [{'colorscale': [[0.0, '#440154'], [0.1111111111111111, '#482878'],\n               …",
      "application/vnd.jupyter.widget-view+json": {
       "version_major": 2,
       "version_minor": 0,
       "model_id": "5bcb3e561e4543f48ee012a0a49a5251"
      }
     },
     "metadata": {},
     "output_type": "display_data"
    }
   ],
   "source": [
    "if do_loading:\n",
    "    # Load\n",
    "    smap_big_loaded = SOMToolBox_Parse(weights_path)\n",
    "    sweights, sdim, smap_x, smap_y = smap_big_loaded.read_weight_file()\n",
    "\n",
    "    # Fix orientation\n",
    "    sweights = sweights.values.reshape(smap_y,smap_x,sdim)\n",
    "    sweights = np.flip(sweights,0)\n",
    "    sweights = sweights.reshape(-1,sdim)\n",
    "\n",
    "    # Visualize\n",
    "    create_visualizations(sweights,smap_y,smap_x,idata,\n",
    "                          data_title=data_title + \" Loaded\",\n",
    "                          k_list=_k_list,\n",
    "                          r_list=_r_list,\n",
    "                          save_dir=plots_save_dir,\n",
    "                          save_file_type=plots_save_file_type)"
   ]
  },
  {
   "cell_type": "markdown",
   "source": [
    "### Result Comparison\n",
    "\n"
   ],
   "metadata": {
    "collapsed": false,
    "pycharm": {
     "name": "#%% md\n"
    }
   }
  }
 ],
 "metadata": {
  "kernelspec": {
   "name": "pycharm-51fc216",
   "language": "python",
   "display_name": "PyCharm (sos_ex3_MASTER)"
  },
  "language_info": {
   "codemirror_mode": {
    "name": "ipython",
    "version": 3
   },
   "file_extension": ".py",
   "mimetype": "text/x-python",
   "name": "python",
   "nbconvert_exporter": "python",
   "pygments_lexer": "ipython3",
   "version": "3.9.1"
  }
 },
 "nbformat": 4,
 "nbformat_minor": 1
}