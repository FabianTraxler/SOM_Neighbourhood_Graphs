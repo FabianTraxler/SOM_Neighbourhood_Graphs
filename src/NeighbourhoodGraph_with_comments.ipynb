{
 "cells": [
  {
   "cell_type": "markdown",
   "source": [
    "## Comments on NeighbourhoodGraph.py"
   ],
   "metadata": {
    "collapsed": false,
    "pycharm": {
     "name": "#%% md\n"
    }
   }
  },
  {
   "cell_type": "code",
   "execution_count": null,
   "outputs": [],
   "source": [
    "# -*- coding: utf-8 -*-\n",
    "\"\"\"Neighbourhood Graph Visualization Tool\n",
    "\n",
    "This module is used to create a Neighbourhood Graph based on a trained SOM.\n",
    "Therefore the Class NeighbourhoodGraph should be used to initialize the Neighbourhood graph.\n",
    "\n",
    "After initialization the instance can be used to generate a so called trace which can be displayed over any other visualization (eg. U-Matrix)\n",
    "\n",
    "@author Lukas Lehner\n",
    "@author Fabian Traxler\n",
    "\"\"\"\n",
    "import numpy as np\n",
    "from scipy import spatial\n",
    "from typing import List\n",
    "import plotly.graph_objects as go\n",
    "import networkx as nx"
   ],
   "metadata": {
    "collapsed": false,
    "pycharm": {
     "name": "#%%\n"
    }
   }
  },
  {
   "cell_type": "markdown",
   "source": [
    "Instead of calculating distances between each input data sample every time we look for samples in a neighbourhood,\n",
    "we calculate the distance matrix of the input data once, and store it in the main class.\n",
    "We chose to write a separate class for the distance matrix, s.t. it can be stored and loaded into\n",
    "the main class more easily. It has two functions to calculate knn- and radius-based neighbourhoods."
   ],
   "metadata": {
    "collapsed": false,
    "pycharm": {
     "name": "#%% md\n"
    }
   }
  },
  {
   "cell_type": "code",
   "execution_count": null,
   "outputs": [],
   "source": [
    "class DistanceMatrix:\n",
    "    \"\"\" Class to calculate the (euclidean) distance between each input data sample\n",
    "     and derive the knn- or radius-based neighbourhood of each sample in input space.\"\"\"\n",
    "\n",
    "    def __init__(self, input_data: np.ndarray = []):\n",
    "        \"\"\"\n",
    "        Initialize the Distance Matrix with the input data.\n",
    "\n",
    "        Args:\n",
    "            input_data (np.ndarray): The input data used for training the SOM (also possible to use different data in same dimension)\n",
    "        \"\"\"\n",
    "        self.distance_matrix = spatial.distance_matrix(input_data, input_data)"
   ],
   "metadata": {
    "collapsed": false,
    "pycharm": {
     "name": "#%%\n"
    }
   }
  },
  {
   "cell_type": "markdown",
   "source": [
    "The two functions for calculating the neighbourhoods are rather straight forward:\n",
    "for knn we sort the distances and for radius we use np.where() to find close samples."
   ],
   "metadata": {
    "collapsed": false,
    "pycharm": {
     "name": "#%% md\n"
    }
   }
  },
  {
   "cell_type": "code",
   "execution_count": null,
   "outputs": [],
   "source": [
    "    def get_knn(self, k: int, index: int = None) -> List:\n",
    "        \"\"\"\n",
    "        Get the indices of the k-nearest neighbours.\n",
    "        If index is none return knn for all input data samples (matrix).\n",
    "\n",
    "        Args\n",
    "            k (int): Number of nearest neighbours to look for\n",
    "            index (int): Index of the sample in focus\n",
    "\n",
    "        Return\n",
    "            List[int]: Integer indices of the neighbouring samples\n",
    "        \"\"\"\n",
    "        if index is not None:\n",
    "            neighbours = self.distance_matrix[index].argsort()[\n",
    "                         :k + 1]  # add 1 because distance to self is 0 and therefore always included\n",
    "            return neighbours[neighbours != index]\n",
    "        else:\n",
    "            neighbours = self.distance_matrix.argsort()[:, :k + 1]\n",
    "            return [row[row != idx] for idx, row in enumerate(neighbours)]\n",
    "\n",
    "    def get_samples_in_radius(self, radius: float, index: int = None) -> List:\n",
    "        \"\"\"\n",
    "        Get the indices of the samples which lie within a specified radius of the index-sample.\n",
    "        If index is none return samples in radius for all input data samples (matrix).\n",
    "\n",
    "        Args\n",
    "            radius (float): Radius of the hypersphere around the index-sample\n",
    "            index (int): Index of the sample in focus\n",
    "\n",
    "        Return\n",
    "            List[int]: Integer indices of samples in the hypersphere\n",
    "        \"\"\"\n",
    "        if index is not None:\n",
    "            close_samples = np.where(self.distance_matrix[index] < radius)[0]\n",
    "            return close_samples[close_samples != index]\n",
    "        else:\n",
    "            close_samples = [np.where(row < radius)[0] for row in self.distance_matrix]\n",
    "            return [row[row != idx] for idx, row in enumerate(close_samples)]"
   ],
   "metadata": {
    "collapsed": false,
    "pycharm": {
     "name": "#%%\n"
    }
   }
  },
  {
   "cell_type": "markdown",
   "source": [
    "The main Neighbourhood Graph (NG) class stores the weights of a map, the maps width and height,\n",
    "a set of input data (which could be omitted) and the corresponding distance matrix,\n",
    "as well an array of best matching unit indices, i.e. a mapping from input_data indices to unit_weights indices.\n",
    "\n",
    "We again decided to do preprocessing, i.e. pre-calculate the best matching units (\"clac_bmu_arrray\"), rather than calculate BMUs on the fly.\n",
    "\n"
   ],
   "metadata": {
    "collapsed": false,
    "pycharm": {
     "name": "#%% md\n"
    }
   }
  },
  {
   "cell_type": "code",
   "execution_count": null,
   "outputs": [],
   "source": [
    "class NeighbourhoodGraph:\n",
    "    \"\"\"Class representing the Neighbourhood Graph, including functions for visualization.\"\"\"\n",
    "\n",
    "    def __init__(self, unit_weights: np.ndarray, m: int, n: int, input_data: np.ndarray,\n",
    "                 distance_mat: DistanceMatrix = None, bmu_array: np.ndarray = None):\n",
    "        \"\"\"\n",
    "        Initialize the NeighbourhoodGraph Instance with the trained SOM and the used input data.\n",
    "\n",
    "        Args:\n",
    "            unit_weights (np.ndarray): The Weights of the Units in Input space\n",
    "            m (int): Height of the SOM\n",
    "            n (int): Width of the SOM\n",
    "            input_data (np.ndarray): The Input data used for training the SOM (also possible to use different data in same dimension)\n",
    "            distance_mat (DistanceMatrix): Optional: A Matrix representing the distance between each input data sample. If none is provided, the Distance Matrix is calculated using input_data.\n",
    "            bmu_array (np.ndarray): Optional: Best Matching Unit for each input data sample. If none is provided, the array is calculated using unit_weights and input_data.\n",
    "        \"\"\"\n",
    "\n",
    "        assert m * n == len(unit_weights), \\\n",
    "            \"NeighbourhoodGraph __init__: Weights and specified input dimensions m & n do not match\"\n",
    "\n",
    "        self.unit_weights = unit_weights\n",
    "        self.m = m\n",
    "        self.n = n\n",
    "        self.input_data = input_data\n",
    "\n",
    "        self.distance_mat = DistanceMatrix(input_data) if distance_mat is None else distance_mat\n",
    "        self.bmu_array = self.calc_bmu_array(unit_weights, input_data) if bmu_array is None else bmu_array\n",
    "\n",
    "    def calc_bmu_array(self, _unit_weights: np.ndarray, _input_data: np.ndarray) -> np.ndarray:\n",
    "        \"\"\"\n",
    "        Calculate Best Matching Unit for every sample.\n",
    "        Use the Euclidean Distance (L2) to find BMUs.\n",
    "        If multiple units have the same distance to a sample, the unit with the lowest index is chosen.\n",
    "        Args:\n",
    "            _unit_weights (ndarray): Trained unit weights\n",
    "            _input_data (ndarray): Input data\n",
    "        Returns\n",
    "            np.ndarray: Array of indices of the Best Matching Units\n",
    "        \"\"\"\n",
    "        return np.array(\n",
    "            [np.argmin(np.sqrt(np.sum(np.power(_unit_weights - _input_data[index], 2), axis=1)))\n",
    "             for index in np.arange(self.input_data.shape[0])])"
   ],
   "metadata": {
    "collapsed": false,
    "pycharm": {
     "name": "#%%\n"
    }
   }
  },
  {
   "cell_type": "markdown",
   "source": [
    "This function takes a neighbourhood parameter and returns the adjacency matrix of the corresponding neighbourhood graph.\n",
    "As mentioned before, the calculations are based on the preprocessed distance_mat and bmu_array.\n"
   ],
   "metadata": {
    "collapsed": false,
    "pycharm": {
     "name": "#%% md\n"
    }
   }
  },
  {
   "cell_type": "code",
   "execution_count": null,
   "outputs": [],
   "source": [
    "    def calc_adjacency_matrix(self, radius: float = None, knn: int = None) -> np.ndarray:\n",
    "        \"\"\"\n",
    "        Calculate the adjacency matrix of the Neighbourhood Graph corresponding to the specified neighbourhood.\n",
    "        Use KNN or Radius Approach to define neighbourhood (depends on which argument is specified - if both are specified KNN is used)\n",
    "\n",
    "        Args:\n",
    "            radius (float): Radius size (if specified, use radius method)\n",
    "            knn (int): Number of neighbours (if specified, use KNN)\n",
    "\n",
    "        Returns:\n",
    "            np.ndarray: The Adjacency Matrix of the Neighbourhood Graph\n",
    "        \"\"\"\n",
    "        assert (radius is not None or knn is not None), \\\n",
    "            \"NeighbourhoodGraph create_graph: radius or knn must be specified\"\n",
    "        assert (radius is None or radius > 0), \"NeighbourhoodGraph create_graph: radius must be > 0\"\n",
    "        assert (knn is None or knn > 0), \"NeighbourhoodGraph create_graph: knn must be > 0\"\n",
    "\n",
    "        adjacency_mat = np.zeros((self.n * self.m, self.n * self.m))\n",
    "\n",
    "        if knn is not None:\n",
    "            neighbours = self.distance_mat.get_knn(knn)\n",
    "        else:\n",
    "            neighbours = self.distance_mat.get_samples_in_radius(radius)\n",
    "\n",
    "        for index, neighbour_idxs in enumerate(neighbours):\n",
    "            bmu = self.bmu_array[index]\n",
    "            for neighbour_idx in neighbour_idxs:\n",
    "                neighbour_bmu = self.bmu_array[neighbour_idx]\n",
    "                if bmu != neighbour_bmu:\n",
    "                    adjacency_mat[bmu, neighbour_bmu] = 1\n",
    "\n",
    "        return adjacency_mat"
   ],
   "metadata": {
    "collapsed": false,
    "pycharm": {
     "name": "#%%\n"
    }
   }
  },
  {
   "cell_type": "markdown",
   "source": [
    "With the help of the *networkx* package we can easily turn an adjacency matrix into a graph (i.e. nodes & edges).\n",
    "The position of each node can be passed as a parameter to the function,\n",
    "but by default the nodes are arranged on an m x n equidistant grid with cell size 1.\n",
    "\n",
    "The nx graph and the node positions are then converted into x and y data readable by a plotly graph object.\n",
    "A Scatter plot of that data is returned and can be used as a trace in any existing FigureWidget using *add_trace*.\n"
   ],
   "metadata": {
    "collapsed": false,
    "pycharm": {
     "name": "#%% md\n"
    }
   }
  },
  {
   "cell_type": "code",
   "execution_count": null,
   "outputs": [],
   "source": [
    "    def get_trace(self, radius: float = None, knn: int = None, adjacency_matrix: np.ndarray = None,\n",
    "                  line_width: float = 3, line_color:str='#fff', pos: dict = None) -> go.Scatter:\n",
    "        \"\"\"\n",
    "        Build a plotly Scatter Plot of the Neighbourhood Graph (can be used as trace in a FigureWidget).\n",
    "\n",
    "        Args:\n",
    "            radius (float): Radius size (if specified use radius method)\n",
    "            knn (int): Number of neighbours (if specified use KNN)\n",
    "            adjacency_matrix (np.ndarray): Optional: An adjacency matrix of a Neighbourhood Graph. If none is provided, an adjacency matrix is calculated based on the specified neighbourhood parameter (radius or knn).\n",
    "            line_width (float): The width of the edges in the plot\n",
    "            line_color (str): The color of the edges (in HEX Hash)\n",
    "            pos (dict): Optional: The position of the Units in the 2D plot. If none is provided, the units are laid out on an m x n grid with cell size=1.\n",
    "        Returns:\n",
    "            plotly.graph_objects.Scatter: A Scatter Plot Object\n",
    "        \"\"\"\n",
    "        if adjacency_matrix is None:\n",
    "            adjacency_matrix = self.calc_adjacency_matrix(radius, knn)\n",
    "\n",
    "        # Make networkx graph from input adjacency matrix\n",
    "        G = nx.from_numpy_matrix(adjacency_matrix, parallel_edges=True)\n",
    "\n",
    "        # # If no unit positions are provided, units are arranged on an m x n grid with grid cell size = 1\n",
    "        if pos is None:\n",
    "            pos = {}\n",
    "            counter = 0\n",
    "            for i in range(self.m):\n",
    "                for j in range(self.n):\n",
    "                    pos.update({counter: (j, i)})\n",
    "                    counter += 1\n",
    "        nx.set_node_attributes(G, pos, 'pos')\n",
    "\n",
    "        # Convert nx graph to plotly trace data\n",
    "        edge_x = []\n",
    "        edge_y = []\n",
    "        for edge in G.edges():\n",
    "            x0, y0 = G.nodes[edge[0]]['pos']\n",
    "            x1, y1 = G.nodes[edge[1]]['pos']\n",
    "            edge_x.append(x0)\n",
    "            edge_x.append(x1)\n",
    "            edge_x.append(None)\n",
    "            edge_y.append(y0)\n",
    "            edge_y.append(y1)\n",
    "            edge_y.append(None)\n",
    "\n",
    "        return go.Scatter(\n",
    "            x=edge_x, y=edge_y,\n",
    "            line=dict(width=line_width, color=line_color),\n",
    "            hoverinfo='skip',\n",
    "            mode='lines')\n"
   ],
   "metadata": {
    "collapsed": false,
    "pycharm": {
     "name": "#%%\n"
    }
   }
  },
  {
   "cell_type": "markdown",
   "source": [
    "## Comments on util.py"
   ],
   "metadata": {
    "collapsed": false
   }
  },
  {
   "cell_type": "code",
   "execution_count": null,
   "outputs": [],
   "source": [
    "\"\"\"\n",
    "This file define a utility function that is used to create multiple visualizations at once\n",
    "\"\"\"\n",
    "import numpy as np\n",
    "from IPython.core.display import display\n",
    "from ipywidgets import HBox\n",
    "\n",
    "from NeighbourhoodGraph import NeighbourhoodGraph\n",
    "from som_vis import SomViz"
   ],
   "metadata": {
    "collapsed": false,
    "pycharm": {
     "name": "#%%\n"
    }
   }
  },
  {
   "cell_type": "markdown",
   "source": [
    "We wanted a single function that could produce meaningful visualizations given weights and input data.\n",
    "Thus we wrote this. By default it plots a Neighbourhood Graph as overlay over a U-Matrix\n",
    "for every parameter in k_list (knn approach) and r_list (radius approach).\n",
    "It can also be told to show the hit histogram as underlying visualization."
   ],
   "metadata": {
    "collapsed": false,
    "pycharm": {
     "name": "#%% md\n"
    }
   }
  },
  {
   "cell_type": "code",
   "execution_count": null,
   "outputs": [],
   "source": [
    "def create_visualizations(sweights: np.ndarray, smap_y: int, smap_x: int, idata,\n",
    "                          color='viridis', interp=False, data_title='Chainlink',\n",
    "                          k_list=[1, 2, 3, 4],\n",
    "                          r_list=[0.03, 0.09, 0.15, 0.21],\n",
    "                          width=700, height=None,\n",
    "                          scale_to_mean=False,\n",
    "                          show_hithist=False,\n",
    "                          save_dir=None, save_file_type=\"svg\",\n",
    "                          display_mode=False):\n",
    "    \"\"\"\n",
    "    Create multiple Visualizations with different Parameters at once\n",
    "    Displays a plot for every parameter in k_list, and r_list\n",
    "    Also Scales the plots to width\n",
    "\n",
    "    Args:\n",
    "        sweights (np.ndarray): The unit weights of the SOM in input space\n",
    "        smap_y (int): The y-size of the SOM\n",
    "        smap_x (int): The x-size of the SOM\n",
    "        color (str): The color palette to be used,\n",
    "        interp (bool): Use interpolation or not\n",
    "        data_title (str): The Title of the dataset for the plots\n",
    "        k_list (list): KNNs to be visualized\n",
    "        r_list (list): Radii to be visualized\n",
    "        width (int): Width of the plots\n",
    "        height (int): Height of the plots\n",
    "        scale_to_mean (bool): Specify if data should be scaled (only relevant for Radius method)\n",
    "        show_hithist (bool): Specify if also a HitHistogram should be used\n",
    "        save_dir (str): If specified, all plots are stored in this directory\n",
    "        save_file_type (str): String of file type plots should be saves as. E.g.: \"png\", \"svg\"\n",
    "        display_mode (bool): If true, IPython.core.display.display is used to display the figures. fig.show() is used otherwise\n",
    "    \"\"\"\n",
    "    # Visualization\n",
    "    viz = SomViz(sweights, smap_y, smap_x)\n",
    "\n",
    "    if scale_to_mean:  # scale radii to input data\n",
    "        r_list = np.around(np.mean(idata) * np.array(r_list), decimals=8)\n",
    "\n",
    "    if height is None: height = width * (smap_y / smap_x)\n",
    "\n",
    "    save_file_title = \"{}_umatrix_\".format(data_title)\n",
    "    if show_hithist: save_file_title += \"hithist_\"\n",
    "    save_file_title += \"neighbourhoodgraph-\"\n",
    "\n",
    "    # Prepare Neighbourhood Graph\n",
    "    ng = NeighbourhoodGraph(viz.weights, viz.m, viz.n, input_data=idata)\n",
    "    traces = []\n",
    "    for val in k_list:\n",
    "        traces.append(ng.get_trace(knn=val))\n",
    "    for val in r_list:\n",
    "        traces.append(ng.get_trace(radius=val))\n",
    "\n",
    "    # Prepare underlying visualizations\n",
    "    umatrix_title = '{}: U-Matrix'.format(data_title)\n",
    "    hithist_title = '{}: Hit hist'.format(data_title)\n",
    "\n",
    "    # Show underlying visualizations with Neighbourhood Graph overlay\n",
    "    for i, trace in enumerate(traces):\n",
    "        if i < len(k_list):\n",
    "            title_suffix = \" + Neighbourhood Graph ({}-NN)\".format(k_list[i])\n",
    "            save_file_suffix = \"-knn-{}\".format(k_list[i])\n",
    "        else:\n",
    "            title_suffix = \" + Neighbourhood Graph (radius: {})\".format(r_list[i - len(k_list)])\n",
    "            save_file_suffix = \"-rad-{}\".format(r_list[i - len(k_list)])\n",
    "\n",
    "        umatrix = viz.umatrix(color=color, interp=interp, title=umatrix_title + title_suffix)\n",
    "        umatrix.layout.width = width\n",
    "        umatrix.layout.height = height\n",
    "        umatrix.add_trace(trace)\n",
    "\n",
    "        fig = umatrix\n",
    "\n",
    "        if show_hithist:\n",
    "            hithist = viz.hithist(idata=idata, color=color, interp=interp, title=hithist_title + title_suffix)\n",
    "            hithist.layout.width = width\n",
    "            hithist.layout.height = height\n",
    "            hithist.add_trace(trace)\n",
    "\n",
    "            fig = HBox([umatrix, hithist])\n",
    "\n",
    "        if save_dir is not None:\n",
    "            fig.write_image(save_dir + save_file_title + save_file_suffix + \".\" + save_file_type)\n",
    "\n",
    "        if display_mode:\n",
    "            display(fig)\n",
    "        else:\n",
    "            fig.show()\n"
   ],
   "metadata": {
    "collapsed": false,
    "pycharm": {
     "name": "#%%\n"
    }
   }
  }
 ],
 "metadata": {
  "kernelspec": {
   "display_name": "Python 3",
   "language": "python",
   "name": "python3"
  },
  "language_info": {
   "codemirror_mode": {
    "name": "ipython",
    "version": 2
   },
   "file_extension": ".py",
   "mimetype": "text/x-python",
   "name": "python",
   "nbconvert_exporter": "python",
   "pygments_lexer": "ipython2",
   "version": "2.7.6"
  }
 },
 "nbformat": 4,
 "nbformat_minor": 0
}