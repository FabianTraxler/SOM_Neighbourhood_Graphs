{
 "cells": [
  {
   "cell_type": "code",
   "execution_count": 85,
   "metadata": {},
   "outputs": [],
   "source": [
    "import pandas as pd\n",
    "import numpy as np\n",
    "import gzip\n",
    "\n",
    "\n",
    "class SOMToolBox_Parse:\n",
    "    \n",
    "    def __init__(self, filename):\n",
    "        self.filename = filename\n",
    "    \n",
    "    def read_weight_file(self,):\n",
    "        df = pd.DataFrame()\n",
    "        if self.filename[-3:len(self.filename)] == '.gz':\n",
    "            with gzip.open(self.filename, 'rb') as file:\n",
    "                df, vec_dim, xdim, ydim = self._read_vector_file_to_df(df, file)\n",
    "        else:\n",
    "            with open(self.filename, 'rb') as file:\n",
    "                df, vec_dim, xdim, ydim = self._read_vector_file_to_df(df, file)\n",
    "\n",
    "        file.close()            \n",
    "        return df.astype('float64'), vec_dim, xdim, ydim\n",
    "\n",
    "\n",
    "    def _read_vector_file_to_df(self, df, file):\n",
    "        xdim, ydim, vec_dim, position = 0, 0, 0, 0\n",
    "        for byte in file:\n",
    "            line = byte.decode('UTF-8')\n",
    "            if line.startswith('$'):\n",
    "                xdim, ydim, vec_dim = self._parse_vector_file_metadata(line, xdim, ydim, vec_dim)\n",
    "                if xdim > 0 and ydim > 0 and len(df.columns) == 0:\n",
    "                    df = pd.DataFrame(index=range(0, ydim * xdim), columns=range(0, vec_dim))\n",
    "            else:\n",
    "                if len(df.columns) == 0 or vec_dim == 0:\n",
    "                    raise ValueError('Weight file has no correct Dimensional information.')\n",
    "                position = self._parse_weight_file_data(line, position, vec_dim, df)\n",
    "        return df, vec_dim, xdim, ydim\n",
    "\n",
    "\n",
    "    def _parse_weight_file_data(self, line, position, vec_dim, df):\n",
    "        splitted=line.split(' ')\n",
    "        try:\n",
    "            df.values[position] = list(np.array(splitted[0:vec_dim]).astype(float))\n",
    "            position += 1\n",
    "        except: raise ValueError('The input-vector file does not match its unit-dimension.') \n",
    "        return  position\n",
    "\n",
    "\n",
    "    def _parse_vector_file_metadata(self, line, xdim, ydim, vec_dim):\n",
    "        splitted = line.split(' ')\n",
    "        if splitted[0] == '$XDIM':      xdim = int(splitted[1])\n",
    "        elif splitted[0] == '$YDIM':    ydim = int(splitted[1])\n",
    "        elif splitted[0] == '$VEC_DIM': vec_dim = int(splitted[1])\n",
    "        return xdim, ydim, vec_dim \n",
    "        "
   ]
  },
  {
   "cell_type": "code",
   "execution_count": 86,
   "metadata": {},
   "outputs": [
    {
     "data": {
      "text/plain": "<IPython.core.display.HTML object>",
      "text/html": "<style>.container { width:100% !important; }</style>"
     },
     "metadata": {},
     "output_type": "display_data"
    }
   ],
   "source": [
    "import numpy as np\n",
    "from scipy.spatial import distance_matrix, distance\n",
    "from ipywidgets import Layout, HBox, Box, widgets, interact\n",
    "import plotly.graph_objects as go\n",
    "import networkx as nx\n",
    "\n",
    "from IPython.core.display import display, HTML\n",
    "display(HTML(\"<style>.container { width:100% !important; }</style>\")) \n",
    "\n",
    "class SomViz:\n",
    "    \n",
    "    def __init__(self, weights=[], m=None, n=None):\n",
    "        self.weights = weights\n",
    "        self.m = m\n",
    "        self.n = n\n",
    "\n",
    "    def get_test_adj_mat(self, prob = 0.05):\n",
    "        size = self.n * self.m\n",
    "        test_mat = 1 * ((np.random.sample((size, size))) <= prob)\n",
    "        #test_mat[np.tril_indices(size)] = 0\n",
    "        return test_mat\n",
    "\n",
    "    def umatrix(self, som_map=None, color=\"Viridis\", interp = \"best\", title=\"\", adj_mat=None):\n",
    "        um =np.zeros((self.m *self.n, 1))\n",
    "        neuron_locs = list()\n",
    "        for i in range(self.m):\n",
    "            for j in range(self.n):\n",
    "                neuron_locs.append(np.array([i, j]))\n",
    "        neuron_distmat = distance_matrix(neuron_locs,neuron_locs)\n",
    "\n",
    "        for i in range(self.m * self.n):\n",
    "            neighbor_idxs = neuron_distmat[i] <= 1\n",
    "            neighbor_weights = self.weights[neighbor_idxs]\n",
    "            um[i] = distance_matrix(np.expand_dims(self.weights[i], 0), neighbor_weights).mean()\n",
    "\n",
    "        if som_map==None: return self.plot(um.reshape(self.m,self.n), color=color, interp=interp, title=title, adj_mat=adj_mat)\n",
    "        else: som_map.data[0].z = um.reshape(self.m,self.n)\n",
    "\n",
    "    def hithist(self, som_map=None, idata = [], color='RdBu', interp = \"best\", title=\"\", adj_mat=None):\n",
    "        hist = [0] *self.n *self.m\n",
    "        for v in idata: \n",
    "            position =np.argmin(np.sqrt(np.sum(np.power(self.weights - v, 2), axis=1)))\n",
    "            hist[position] += 1    \n",
    "        \n",
    "        if som_map==None: return self.plot(np.array(hist).reshape(self.m,self.n), color=color, interp=interp, title=title, adj_mat=adj_mat)\n",
    "        else:  som_map.data[0].z = np.array(hist).reshape(self.m,self.n)\n",
    "\n",
    "\n",
    "    def neighgraph(self, adj_mat, line_width=8, line_color='#fff', pos=None):\n",
    "\n",
    "        # Delete lower triangle (and diagonal) of adjacency matrix\n",
    "        adj_mat[np.tril_indices(adj_mat.shape[0])] = 0\n",
    "\n",
    "        # Make networkx graph from input adjacency matrix\n",
    "        G = nx.from_numpy_matrix(adj_mat, parallel_edges=True)\n",
    "\n",
    "        if pos is None:\n",
    "            pos = {}\n",
    "            counter = 0\n",
    "            for i in range(self.m):\n",
    "                for j in range(self.n):\n",
    "                    pos.update({counter : (j, i)})\n",
    "                    counter += 1\n",
    "\n",
    "        nx.set_node_attributes(G, pos, 'pos')\n",
    "\n",
    "        # Convert nx graph to plotly trace data\n",
    "        edge_x = []\n",
    "        edge_y = []\n",
    "        for edge in G.edges():\n",
    "            x0, y0 = G.nodes[edge[0]]['pos']\n",
    "            x1, y1 = G.nodes[edge[1]]['pos']\n",
    "            edge_x.append(x0)\n",
    "            edge_x.append(x1)\n",
    "            edge_x.append(None)\n",
    "            edge_y.append(y0)\n",
    "            edge_y.append(y1)\n",
    "            edge_y.append(None)\n",
    "\n",
    "        return go.Scatter(\n",
    "            x=edge_x, y=edge_y,\n",
    "            line=dict(width=line_width, color=line_color),\n",
    "            hoverinfo='none',\n",
    "            mode='lines')\n",
    "\n",
    "    def component_plane(self, som_map=None, component=0, color=\"Viridis\", interp = \"best\", title=\"\"):\n",
    "        if som_map==None: return self.plot(self.weights[:,component].reshape(-1,self.n), color=color, interp=interp, title=title)   \n",
    "        else:  som_map.data[0].z = self.weights[:,component].reshape(-1,n)\n",
    "\n",
    "    def sdh(self, som_map=None, idata=[], sdh_type=1, factor=1, draw=True, color=\"Cividis\", interp = \"best\", title=\"\"):\n",
    "\n",
    "        import heapq\n",
    "        sdh_m = [0] *self.m *self.n\n",
    "\n",
    "        cs=0\n",
    "        for i in range(0,factor): cs += factor-i\n",
    "\n",
    "        for vector in idata:\n",
    "            dist = np.sqrt(np.sum(np.power(self.weights - vector, 2), axis=1))\n",
    "            c = heapq.nsmallest(factor, range(len(dist)), key=dist.__getitem__)\n",
    "            if (sdh_type==1): \n",
    "                for j in range(0,factor):  sdh_m[c[j]] += (factor-j)/cs # normalized\n",
    "            if (sdh_type==2):\n",
    "                for j in range(0,factor): sdh_m[c[j]] += 1.0/dist[c[j]] # based on distance\n",
    "            if (sdh_type==3): \n",
    "                dmin = min(dist)\n",
    "                for j in range(0,factor): sdh_m[c[j]] += 1.0 - (dist[c[j]]-dmin)/(max(dist)-dmin)  \n",
    "\n",
    "        if som_map==None: return self.plot(np.array(sdh_m).reshape(-1,self.n), color=color, interp=interp, title=title)      \n",
    "        else: som_map.data[0].z = np.array(sdh_m).reshape(-1,self.n)\n",
    "        \n",
    "    def project_data(self,som_m=None, idata=[], title=\"\"):\n",
    "\n",
    "        data_y = []\n",
    "        data_x = []\n",
    "        for v in idata:\n",
    "            position =np.argmin(np.sqrt(np.sum(np.power(self.weights - v, 2), axis=1)))\n",
    "            x,y = position % self.n, position // self.n\n",
    "            data_x.extend([x])\n",
    "            data_y.extend([y])\n",
    "            \n",
    "        if som_m!=None: som_m.add_trace(go.Scatter(x=data_x, y=data_y, mode = \"markers\", marker_color='rgba(255, 255, 255, 0.8)',))\n",
    "    \n",
    "    def time_series(self, som_m=None, idata=[], wsize=50, title=\"\"): #not tested\n",
    "             \n",
    "        data_y = []\n",
    "        data_x = [i for i in range(0,len(idata))]\n",
    "        \n",
    "        data_x2 = []\n",
    "        data_y2 = []\n",
    "        \n",
    "        qmin = np.Inf\n",
    "        qmax = 0\n",
    "        \n",
    "        step=1\n",
    "        \n",
    "        ps = []\n",
    "        for v in idata:\n",
    "            matrix = np.sqrt(np.sum(np.power(self.weights - v, 2), axis=1))\n",
    "            position = np.argmin(matrix)\n",
    "            qerror = matrix[position]\n",
    "            if qmin>qerror: qmin = qerror\n",
    "            if qmax<qerror: qmax = qerror\n",
    "            ps.append((position, qerror))\n",
    "       \n",
    "        markerc=[]    \n",
    "        for v in ps:\n",
    "            data_y.extend([v[0]])\n",
    "            rez = v[1]/qmax\n",
    " \n",
    "            markerc.append('rgba(0, 0, 0, '+str(rez)+')') \n",
    "            \n",
    "            x,y = v[0] % self.n, v[0] // self.n \n",
    "            if    x==0: y = np.random.uniform(low=y, high=y+.1)\n",
    "            elif  x==self.m-1: y = np.random.uniform(low=y-.1, high=y)\n",
    "            elif  y==0: x = np.random.uniform(low=x, high=x+.1)\n",
    "            elif  y==self.n-1: x = np.random.uniform(low=x-.1, high=x)\n",
    "            else: x,y = np.random.uniform(low=x-.1, high=x+.1), np.random.uniform(low=y-.1, high=y+.1)                           \n",
    "            \n",
    "            data_x2.extend([x])\n",
    "            data_y2.extend([y]) \n",
    "    \n",
    "        ts_plot = go.FigureWidget(go.Scatter(x=[], y=[], mode = \"markers\", marker_color=markerc, marker=dict(colorscale='Viridis', showscale=True, color=np.random.randn(500))))\n",
    "        ts_plot.update_xaxes(range=[0, wsize])       \n",
    "\n",
    "        \n",
    "        ts_plot.data[0].x, ts_plot.data[0].y = data_x, data_y\n",
    "        som_m.add_trace(go.Scatter(x=data_x2, y=data_y2, mode = \"markers\",))\n",
    "  \n",
    "        som_m.layout.height = 500\n",
    "        ts_plot.layout.height = 500\n",
    "        som_m.layout.width = 500\n",
    "        ts_plot.layout.width = 1300\n",
    "        \n",
    "        return HBox([go.FigureWidget(som_m), go.FigureWidget(ts_plot)])\n",
    "    \n",
    "    def plot(self, matrix, color=\"Viridis\", interp = \"best\", title=\"\", adj_mat=None):\n",
    "        heat_trace = go.Heatmap(z=matrix, zsmooth=interp, showscale=False, colorscale=color)\n",
    "        data = [heat_trace]\n",
    "\n",
    "        if adj_mat is not None:\n",
    "            data = [heat_trace, self.neighgraph(adj_mat)]\n",
    "\n",
    "        return go.FigureWidget(data = data, layout=go.Layout(width=700, height=700,title=title, title_x=0.5,))"
   ]
  },
  {
   "cell_type": "code",
   "execution_count": 87,
   "metadata": {},
   "outputs": [],
   "source": [
    "import pandas as pd\n",
    "import minisom as som\n",
    "from sklearn import datasets, preprocessing\n",
    "from src.NeighbourhoodGraph import NeighbourhoodGraph as NG\n",
    "#interp: False, 'best', 'fast', \n",
    "#color = 'viridis': https://plotly.com/python/builtin-colorscales/\n",
    "min_max_scaler = preprocessing.MinMaxScaler()"
   ]
  },
  {
   "cell_type": "code",
   "execution_count": 88,
   "outputs": [
    {
     "name": "stdout",
     "output_type": "stream",
     "text": [
      "Wall time: 9.66 s\n"
     ]
    }
   ],
   "source": [
    "#############################\n",
    "######## miniSOM ############1/0\n",
    "#############################\n",
    "m=10\n",
    "n=10\n",
    "\n",
    "# Pre-processing \n",
    "ivec_iris_online = datasets.load_iris().data\n",
    "ivec_iris_online = min_max_scaler.fit_transform(ivec_iris_online)   # optional\n",
    "idim = ivec_iris_online.shape[0]\n",
    "\n",
    "# Train\n",
    "smap_iris_new = som.MiniSom(m, n, ivec_iris_online.shape[1], sigma=0.8, learning_rate=0.7)\n",
    "%time smap_iris_new.train_random(ivec_iris_online, 10000, verbose=False)\n",
    "\n",
    "sweights = smap_iris_new._weights.reshape(-1,4)\n",
    "sdim = sweights.shape[0]\n",
    "smap_x = n\n",
    "smap_y = m"
   ],
   "metadata": {
    "collapsed": false,
    "pycharm": {
     "name": "#%%\n"
    }
   }
  },
  {
   "cell_type": "markdown",
   "source": [
    "Visualization"
   ],
   "metadata": {
    "collapsed": false,
    "pycharm": {
     "name": "#%% md\n"
    }
   }
  },
  {
   "cell_type": "code",
   "execution_count": 89,
   "outputs": [
    {
     "data": {
      "text/plain": "FigureWidget({\n    'data': [{'colorscale': [[0.0, '#000004'], [0.1111111111111111, '#180f3d'],\n               …",
      "application/vnd.jupyter.widget-view+json": {
       "version_major": 2,
       "version_minor": 0,
       "model_id": "4db5e4960427456a90237cdedbb65335"
      }
     },
     "metadata": {},
     "output_type": "display_data"
    },
    {
     "data": {
      "text/plain": "FigureWidget({\n    'data': [{'colorscale': [[0.0, '#000004'], [0.1111111111111111, '#180f3d'],\n               …",
      "application/vnd.jupyter.widget-view+json": {
       "version_major": 2,
       "version_minor": 0,
       "model_id": "dce9b2816b5e4dbd86754d9865431c6e"
      }
     },
     "metadata": {},
     "output_type": "display_data"
    },
    {
     "data": {
      "text/plain": "FigureWidget({\n    'data': [{'colorscale': [[0.0, '#000004'], [0.1111111111111111, '#180f3d'],\n               …",
      "application/vnd.jupyter.widget-view+json": {
       "version_major": 2,
       "version_minor": 0,
       "model_id": "751813bb2d8746bbb66ee3219a82b7f9"
      }
     },
     "metadata": {},
     "output_type": "display_data"
    },
    {
     "data": {
      "text/plain": "FigureWidget({\n    'data': [{'colorscale': [[0.0, '#000004'], [0.1111111111111111, '#180f3d'],\n               …",
      "application/vnd.jupyter.widget-view+json": {
       "version_major": 2,
       "version_minor": 0,
       "model_id": "a08ccd9b33c34997ad75e5757b5da34e"
      }
     },
     "metadata": {},
     "output_type": "display_data"
    },
    {
     "data": {
      "text/plain": "FigureWidget({\n    'data': [{'colorscale': [[0.0, '#000004'], [0.1111111111111111, '#180f3d'],\n               …",
      "application/vnd.jupyter.widget-view+json": {
       "version_major": 2,
       "version_minor": 0,
       "model_id": "77c7ad3f26b041ea80fd9dbf347753d1"
      }
     },
     "metadata": {},
     "output_type": "display_data"
    },
    {
     "data": {
      "text/plain": "FigureWidget({\n    'data': [{'colorscale': [[0.0, '#000004'], [0.1111111111111111, '#180f3d'],\n               …",
      "application/vnd.jupyter.widget-view+json": {
       "version_major": 2,
       "version_minor": 0,
       "model_id": "d65504f810d844539b7dc1cb7e8ff309"
      }
     },
     "metadata": {},
     "output_type": "display_data"
    },
    {
     "data": {
      "text/plain": "FigureWidget({\n    'data': [{'colorscale': [[0.0, '#000004'], [0.1111111111111111, '#180f3d'],\n               …",
      "application/vnd.jupyter.widget-view+json": {
       "version_major": 2,
       "version_minor": 0,
       "model_id": "44af00266ff4432caee8d85f9654edf5"
      }
     },
     "metadata": {},
     "output_type": "display_data"
    },
    {
     "data": {
      "text/plain": "FigureWidget({\n    'data': [{'colorscale': [[0.0, '#000004'], [0.1111111111111111, '#180f3d'],\n               …",
      "application/vnd.jupyter.widget-view+json": {
       "version_major": 2,
       "version_minor": 0,
       "model_id": "995b89ebeb7548288b0321847c7f406a"
      }
     },
     "metadata": {},
     "output_type": "display_data"
    },
    {
     "data": {
      "text/plain": "FigureWidget({\n    'data': [{'colorscale': [[0.0, '#000004'], [0.1111111111111111, '#180f3d'],\n               …",
      "application/vnd.jupyter.widget-view+json": {
       "version_major": 2,
       "version_minor": 0,
       "model_id": "26e08b50d9d14ab99b9552fb82508d03"
      }
     },
     "metadata": {},
     "output_type": "display_data"
    },
    {
     "data": {
      "text/plain": "FigureWidget({\n    'data': [{'colorscale': [[0.0, '#000004'], [0.1111111111111111, '#180f3d'],\n               …",
      "application/vnd.jupyter.widget-view+json": {
       "version_major": 2,
       "version_minor": 0,
       "model_id": "b742245f647c4cebb35a4beddeadfcb9"
      }
     },
     "metadata": {},
     "output_type": "display_data"
    },
    {
     "data": {
      "text/plain": "FigureWidget({\n    'data': [{'colorscale': [[0.0, '#000004'], [0.1111111111111111, '#180f3d'],\n               …",
      "application/vnd.jupyter.widget-view+json": {
       "version_major": 2,
       "version_minor": 0,
       "model_id": "7a9836aefb6c417797ff7237a6b5f5fd"
      }
     },
     "metadata": {},
     "output_type": "display_data"
    },
    {
     "data": {
      "text/plain": "FigureWidget({\n    'data': [{'colorscale': [[0.0, '#000004'], [0.1111111111111111, '#180f3d'],\n               …",
      "application/vnd.jupyter.widget-view+json": {
       "version_major": 2,
       "version_minor": 0,
       "model_id": "79c9ad84112e4d7aa9e1deff3f434652"
      }
     },
     "metadata": {},
     "output_type": "display_data"
    },
    {
     "data": {
      "text/plain": "FigureWidget({\n    'data': [{'colorscale': [[0.0, '#000004'], [0.1111111111111111, '#180f3d'],\n               …",
      "application/vnd.jupyter.widget-view+json": {
       "version_major": 2,
       "version_minor": 0,
       "model_id": "292620525e184d99952d6e9768a1b48a"
      }
     },
     "metadata": {},
     "output_type": "display_data"
    },
    {
     "data": {
      "text/plain": "FigureWidget({\n    'data': [{'colorscale': [[0.0, '#000004'], [0.1111111111111111, '#180f3d'],\n               …",
      "application/vnd.jupyter.widget-view+json": {
       "version_major": 2,
       "version_minor": 0,
       "model_id": "5b2977a9ba2b445baed6cdb215c2000e"
      }
     },
     "metadata": {},
     "output_type": "display_data"
    },
    {
     "data": {
      "text/plain": "FigureWidget({\n    'data': [{'colorscale': [[0.0, '#000004'], [0.1111111111111111, '#180f3d'],\n               …",
      "application/vnd.jupyter.widget-view+json": {
       "version_major": 2,
       "version_minor": 0,
       "model_id": "377610886c0746dcbb1d21fa719ef123"
      }
     },
     "metadata": {},
     "output_type": "display_data"
    },
    {
     "data": {
      "text/plain": "FigureWidget({\n    'data': [{'colorscale': [[0.0, '#000004'], [0.1111111111111111, '#180f3d'],\n               …",
      "application/vnd.jupyter.widget-view+json": {
       "version_major": 2,
       "version_minor": 0,
       "model_id": "41b646fa56ac415a944168f53db9b7b6"
      }
     },
     "metadata": {},
     "output_type": "display_data"
    },
    {
     "data": {
      "text/plain": "FigureWidget({\n    'data': [{'colorscale': [[0.0, '#000004'], [0.1111111111111111, '#180f3d'],\n               …",
      "application/vnd.jupyter.widget-view+json": {
       "version_major": 2,
       "version_minor": 0,
       "model_id": "2c548babf82040119f824f684f6bd868"
      }
     },
     "metadata": {},
     "output_type": "display_data"
    }
   ],
   "source": [
    "viz = SomViz(sweights, m, n)\n",
    "color='magma'\n",
    "interp='best'\n",
    "data_title='miniSOM'\n",
    "\n",
    "idata = ivec_iris_online\n",
    "k_list = [1,2,3,4]\n",
    "r_list = [0.01,0.05,0.1,0.15]\n",
    "r_list = np.around(np.mean(idata)*np.array(r_list), decimals=2) # scale radii to input data\n",
    "\n",
    "# Prepare Neighbourhood Graph\n",
    "ng2 = NG(viz.weights, viz.n, viz.m, input_data=idata)\n",
    "\n",
    "## U-Matrix\n",
    "display(viz.umatrix(color=color, interp=interp, title='{}: U-Matrix'.format(data_title)))\n",
    "\n",
    "## U-Matrix with Neighbourhood Graph\n",
    "# knn\n",
    "for k in k_list:\n",
    "    display(viz.umatrix(color=color, interp=interp, title='{}: U-Matrix + {}-NN Neighbourhood Graph'.format(data_title, k), adj_mat=ng2.create_graph(knn=k)))\n",
    "# radius\n",
    "for k in r_list:\n",
    "    display(viz.umatrix(color=color, interp=interp, title='{}: U-Matrix + {}-Radius Neighbourhood Graph'.format(data_title, k), adj_mat=ng2.create_graph(radius=k)))\n",
    "\n",
    "## Hit-Hist with Neighbourhood Graph\n",
    "# knn\n",
    "for k in k_list:\n",
    "    display(viz.hithist(idata=idata, color=color, interp=interp, title='{}: Hit hist + {}-NN Neighbourhood Graph'.format(data_title, k), adj_mat=ng2.create_graph(knn=k)))\n",
    "# radius\n",
    "for k in r_list:\n",
    "    display(viz.hithist(idata=idata, color=color, interp=interp, title='{}: Hit hist + {}-Radius Neighbourhood Graph'.format(data_title, k), adj_mat=ng2.create_graph(radius=k)))\n"
   ],
   "metadata": {
    "collapsed": false,
    "pycharm": {
     "name": "#%%\n"
    }
   }
  },
  {
   "cell_type": "code",
   "execution_count": 90,
   "outputs": [],
   "source": [
    "##########################################\n",
    "######## read from SOMToolBox ############\n",
    "##########################################\n",
    "ivec_iris_from_file = SOMToolBox_Parse('../input/iris/iris.vec')\n",
    "idata, idim, _, _ = ivec_iris_from_file.read_weight_file()\n",
    "idata = idata.to_numpy()\n",
    "\n",
    "smap_iris_from_file = SOMToolBox_Parse('../input/iris/iris.wgt.gz')\n",
    "sweights, sdim, smap_x, smap_y = smap_iris_from_file.read_weight_file()\n",
    "sweights = sweights.values.reshape(-1,sdim)"
   ],
   "metadata": {
    "collapsed": false,
    "pycharm": {
     "name": "#%%\n"
    }
   }
  },
  {
   "cell_type": "markdown",
   "source": [
    "Visualization"
   ],
   "metadata": {
    "collapsed": false,
    "pycharm": {
     "name": "#%% md\n"
    }
   }
  },
  {
   "cell_type": "code",
   "execution_count": 91,
   "outputs": [
    {
     "data": {
      "text/plain": "FigureWidget({\n    'data': [{'colorscale': [[0.0, '#440154'], [0.1111111111111111, '#482878'],\n               …",
      "application/vnd.jupyter.widget-view+json": {
       "version_major": 2,
       "version_minor": 0,
       "model_id": "92087238beca4c04b9e47f4dc21e9b6e"
      }
     },
     "metadata": {},
     "output_type": "display_data"
    },
    {
     "data": {
      "text/plain": "FigureWidget({\n    'data': [{'colorscale': [[0.0, '#440154'], [0.1111111111111111, '#482878'],\n               …",
      "application/vnd.jupyter.widget-view+json": {
       "version_major": 2,
       "version_minor": 0,
       "model_id": "deb425d096c941ceb3701c132eb43197"
      }
     },
     "metadata": {},
     "output_type": "display_data"
    },
    {
     "data": {
      "text/plain": "FigureWidget({\n    'data': [{'colorscale': [[0.0, '#440154'], [0.1111111111111111, '#482878'],\n               …",
      "application/vnd.jupyter.widget-view+json": {
       "version_major": 2,
       "version_minor": 0,
       "model_id": "f446ba1386884c69a660332cdbf12421"
      }
     },
     "metadata": {},
     "output_type": "display_data"
    },
    {
     "data": {
      "text/plain": "FigureWidget({\n    'data': [{'colorscale': [[0.0, '#440154'], [0.1111111111111111, '#482878'],\n               …",
      "application/vnd.jupyter.widget-view+json": {
       "version_major": 2,
       "version_minor": 0,
       "model_id": "8b5d4b0540134736b4260e1f395b4dcc"
      }
     },
     "metadata": {},
     "output_type": "display_data"
    },
    {
     "data": {
      "text/plain": "FigureWidget({\n    'data': [{'colorscale': [[0.0, '#440154'], [0.1111111111111111, '#482878'],\n               …",
      "application/vnd.jupyter.widget-view+json": {
       "version_major": 2,
       "version_minor": 0,
       "model_id": "49213a305cc9447da1e1683070ee2e33"
      }
     },
     "metadata": {},
     "output_type": "display_data"
    },
    {
     "data": {
      "text/plain": "FigureWidget({\n    'data': [{'colorscale': [[0.0, '#440154'], [0.1111111111111111, '#482878'],\n               …",
      "application/vnd.jupyter.widget-view+json": {
       "version_major": 2,
       "version_minor": 0,
       "model_id": "47f6d2832a3d4cee91d3e318b068dc49"
      }
     },
     "metadata": {},
     "output_type": "display_data"
    },
    {
     "data": {
      "text/plain": "FigureWidget({\n    'data': [{'colorscale': [[0.0, '#440154'], [0.1111111111111111, '#482878'],\n               …",
      "application/vnd.jupyter.widget-view+json": {
       "version_major": 2,
       "version_minor": 0,
       "model_id": "35381c7c1a124f109da93179993061f7"
      }
     },
     "metadata": {},
     "output_type": "display_data"
    },
    {
     "data": {
      "text/plain": "FigureWidget({\n    'data': [{'colorscale': [[0.0, '#440154'], [0.1111111111111111, '#482878'],\n               …",
      "application/vnd.jupyter.widget-view+json": {
       "version_major": 2,
       "version_minor": 0,
       "model_id": "c45ebe3c930249b0b4fba73f1c97d2e8"
      }
     },
     "metadata": {},
     "output_type": "display_data"
    },
    {
     "data": {
      "text/plain": "FigureWidget({\n    'data': [{'colorscale': [[0.0, '#440154'], [0.1111111111111111, '#482878'],\n               …",
      "application/vnd.jupyter.widget-view+json": {
       "version_major": 2,
       "version_minor": 0,
       "model_id": "394a97c4d69f4b92bb4c712916b52520"
      }
     },
     "metadata": {},
     "output_type": "display_data"
    },
    {
     "data": {
      "text/plain": "FigureWidget({\n    'data': [{'colorscale': [[0.0, '#440154'], [0.1111111111111111, '#482878'],\n               …",
      "application/vnd.jupyter.widget-view+json": {
       "version_major": 2,
       "version_minor": 0,
       "model_id": "507d18f40c99445589383ed3fe182cde"
      }
     },
     "metadata": {},
     "output_type": "display_data"
    },
    {
     "data": {
      "text/plain": "FigureWidget({\n    'data': [{'colorscale': [[0.0, '#440154'], [0.1111111111111111, '#482878'],\n               …",
      "application/vnd.jupyter.widget-view+json": {
       "version_major": 2,
       "version_minor": 0,
       "model_id": "a042fd69156740b386eda1cf08a20004"
      }
     },
     "metadata": {},
     "output_type": "display_data"
    },
    {
     "data": {
      "text/plain": "FigureWidget({\n    'data': [{'colorscale': [[0.0, '#440154'], [0.1111111111111111, '#482878'],\n               …",
      "application/vnd.jupyter.widget-view+json": {
       "version_major": 2,
       "version_minor": 0,
       "model_id": "4490ee1c21b74cb3a636bbf6571b3e3c"
      }
     },
     "metadata": {},
     "output_type": "display_data"
    },
    {
     "data": {
      "text/plain": "FigureWidget({\n    'data': [{'colorscale': [[0.0, '#440154'], [0.1111111111111111, '#482878'],\n               …",
      "application/vnd.jupyter.widget-view+json": {
       "version_major": 2,
       "version_minor": 0,
       "model_id": "36ba95ef4e264d5b84a6fec587a2598d"
      }
     },
     "metadata": {},
     "output_type": "display_data"
    },
    {
     "data": {
      "text/plain": "FigureWidget({\n    'data': [{'colorscale': [[0.0, '#440154'], [0.1111111111111111, '#482878'],\n               …",
      "application/vnd.jupyter.widget-view+json": {
       "version_major": 2,
       "version_minor": 0,
       "model_id": "446b6af1e6f44616a2fcf1ea5b0b0393"
      }
     },
     "metadata": {},
     "output_type": "display_data"
    },
    {
     "data": {
      "text/plain": "FigureWidget({\n    'data': [{'colorscale': [[0.0, '#440154'], [0.1111111111111111, '#482878'],\n               …",
      "application/vnd.jupyter.widget-view+json": {
       "version_major": 2,
       "version_minor": 0,
       "model_id": "edcb5aa5388c4b2589e3f781a1d30b36"
      }
     },
     "metadata": {},
     "output_type": "display_data"
    },
    {
     "data": {
      "text/plain": "FigureWidget({\n    'data': [{'colorscale': [[0.0, '#440154'], [0.1111111111111111, '#482878'],\n               …",
      "application/vnd.jupyter.widget-view+json": {
       "version_major": 2,
       "version_minor": 0,
       "model_id": "222dbe47f6f14c6cbb2dc8f6acd7dd02"
      }
     },
     "metadata": {},
     "output_type": "display_data"
    },
    {
     "data": {
      "text/plain": "FigureWidget({\n    'data': [{'colorscale': [[0.0, '#440154'], [0.1111111111111111, '#482878'],\n               …",
      "application/vnd.jupyter.widget-view+json": {
       "version_major": 2,
       "version_minor": 0,
       "model_id": "ccd51ec5ad484424a125ea714a6a953f"
      }
     },
     "metadata": {},
     "output_type": "display_data"
    }
   ],
   "source": [
    "viz = SomViz(sweights, smap_y, smap_x)\n",
    "\n",
    "color='viridis'\n",
    "interp=False\n",
    "data_title='SOMToolBox'\n",
    "\n",
    "k_list = [1,2,3,4]\n",
    "r_list = [0.01,0.05,0.1,0.15]\n",
    "r_list = np.around(np.mean(idata)*np.array(r_list), decimals=2)\n",
    "\n",
    "# Prepare Neighbourhood Graph\n",
    "ng2 = NG(viz.weights, viz.n, viz.m, input_data=idata)\n",
    "\n",
    "## U-Matrix\n",
    "display(viz.umatrix(color=color, interp=interp, title='{}: U-Matrix'.format(data_title)))\n",
    "\n",
    "## U-Matrix with Neighbourhood Graph\n",
    "# knn\n",
    "for k in k_list:\n",
    "    display(viz.umatrix(color=color, interp=interp, title='{}: U-Matrix + {}-NN Neighbourhood Graph'.format(data_title, k), adj_mat=ng2.create_graph(knn=k)))\n",
    "# radius\n",
    "for k in r_list:\n",
    "    display(viz.umatrix(color=color, interp=interp, title='{}: U-Matrix + {}-Radius Neighbourhood Graph'.format(data_title, k), adj_mat=ng2.create_graph(radius=k)))\n",
    "\n",
    "## Hit-Hist with Neighbourhood Graph\n",
    "# knn\n",
    "for k in k_list:\n",
    "    display(viz.hithist(idata=idata, color=color, interp=interp, title='{}: Hit hist + {}-NN Neighbourhood Graph'.format(data_title, k), adj_mat=ng2.create_graph(knn=k)))\n",
    "# radius\n",
    "for k in r_list:\n",
    "    display(viz.hithist(idata=idata, color=color, interp=interp, title='{}: Hit hist + {}-Radius Neighbourhood Graph'.format(data_title, k), adj_mat=ng2.create_graph(radius=k)))\n",
    "\n",
    "\n"
   ],
   "metadata": {
    "collapsed": false,
    "pycharm": {
     "name": "#%%\n"
    }
   }
  },
  {
   "cell_type": "code",
   "execution_count": 94,
   "outputs": [
    {
     "name": "stdout",
     "output_type": "stream",
     "text": [
      "Wall time: 11 s\n"
     ]
    }
   ],
   "source": [
    "##########################################\n",
    "######## [Next dataset analysis] ############\n",
    "##########################################\n",
    "ivec = # SOMToolBox_Parse('../input/iris/iris.vec') # set data here\n",
    "idata, idim, _, _ = ivec.read_weight_file()\n",
    "idata = idata.to_numpy()\n",
    "\n",
    "# Load weights\n",
    "smap = # SOMToolBox_Parse('../input/iris/iris.wgt.gz')  # load weights here or train below\n",
    "sweights, sdim, smap_x, smap_y = smap.read_weight_file()\n",
    "sweights = sweights.values.reshape(-1,sdim)\n",
    "\n",
    "# Or train new\n",
    "smap = som.MiniSom(m, n, idata.shape[1], sigma=0.8, learning_rate=0.7)\n",
    "%time smap.train_random(idata, 10000, verbose=False)\n",
    "\n",
    "sweights = smap._weights.reshape(-1,4)\n",
    "sdim = sweights.shape[0]\n",
    "smap_x = n\n",
    "smap_y = m"
   ],
   "metadata": {
    "collapsed": false,
    "pycharm": {
     "name": "#%%\n"
    }
   }
  },
  {
   "cell_type": "code",
   "execution_count": 95,
   "outputs": [
    {
     "name": "stdout",
     "output_type": "stream",
     "text": [
      "Wall time: 997 µs\n"
     ]
    },
    {
     "data": {
      "text/plain": "FigureWidget({\n    'data': [{'colorscale': [[0.0, '#440154'], [0.1111111111111111, '#482878'],\n               …",
      "application/vnd.jupyter.widget-view+json": {
       "version_major": 2,
       "version_minor": 0,
       "model_id": "93eca7de3c1542b29ea97d1d559e3d12"
      }
     },
     "metadata": {},
     "output_type": "display_data"
    },
    {
     "data": {
      "text/plain": "FigureWidget({\n    'data': [{'colorscale': [[0.0, '#440154'], [0.1111111111111111, '#482878'],\n               …",
      "application/vnd.jupyter.widget-view+json": {
       "version_major": 2,
       "version_minor": 0,
       "model_id": "a94cbfcc530740889a2a79ecc01fd50f"
      }
     },
     "metadata": {},
     "output_type": "display_data"
    },
    {
     "data": {
      "text/plain": "FigureWidget({\n    'data': [{'colorscale': [[0.0, '#440154'], [0.1111111111111111, '#482878'],\n               …",
      "application/vnd.jupyter.widget-view+json": {
       "version_major": 2,
       "version_minor": 0,
       "model_id": "adcfebaa8a1443d189c6b49a128507af"
      }
     },
     "metadata": {},
     "output_type": "display_data"
    },
    {
     "data": {
      "text/plain": "FigureWidget({\n    'data': [{'colorscale': [[0.0, '#440154'], [0.1111111111111111, '#482878'],\n               …",
      "application/vnd.jupyter.widget-view+json": {
       "version_major": 2,
       "version_minor": 0,
       "model_id": "efa727b14ee64f5c8e72d7e96d10580f"
      }
     },
     "metadata": {},
     "output_type": "display_data"
    },
    {
     "data": {
      "text/plain": "FigureWidget({\n    'data': [{'colorscale': [[0.0, '#440154'], [0.1111111111111111, '#482878'],\n               …",
      "application/vnd.jupyter.widget-view+json": {
       "version_major": 2,
       "version_minor": 0,
       "model_id": "55392a505c384a32bd314b858d451463"
      }
     },
     "metadata": {},
     "output_type": "display_data"
    },
    {
     "data": {
      "text/plain": "FigureWidget({\n    'data': [{'colorscale': [[0.0, '#440154'], [0.1111111111111111, '#482878'],\n               …",
      "application/vnd.jupyter.widget-view+json": {
       "version_major": 2,
       "version_minor": 0,
       "model_id": "d9ade205903b4ddfa32200202b485a8e"
      }
     },
     "metadata": {},
     "output_type": "display_data"
    },
    {
     "data": {
      "text/plain": "FigureWidget({\n    'data': [{'colorscale': [[0.0, '#440154'], [0.1111111111111111, '#482878'],\n               …",
      "application/vnd.jupyter.widget-view+json": {
       "version_major": 2,
       "version_minor": 0,
       "model_id": "081b16fa4bac422caad9cb4bc41dbc96"
      }
     },
     "metadata": {},
     "output_type": "display_data"
    },
    {
     "data": {
      "text/plain": "FigureWidget({\n    'data': [{'colorscale': [[0.0, '#440154'], [0.1111111111111111, '#482878'],\n               …",
      "application/vnd.jupyter.widget-view+json": {
       "version_major": 2,
       "version_minor": 0,
       "model_id": "3179a1d5e54a46a8848ff0d99a93b63a"
      }
     },
     "metadata": {},
     "output_type": "display_data"
    },
    {
     "data": {
      "text/plain": "FigureWidget({\n    'data': [{'colorscale': [[0.0, '#440154'], [0.1111111111111111, '#482878'],\n               …",
      "application/vnd.jupyter.widget-view+json": {
       "version_major": 2,
       "version_minor": 0,
       "model_id": "2dd28973e8544b3eb499ccc5fff55561"
      }
     },
     "metadata": {},
     "output_type": "display_data"
    },
    {
     "data": {
      "text/plain": "FigureWidget({\n    'data': [{'colorscale': [[0.0, '#440154'], [0.1111111111111111, '#482878'],\n               …",
      "application/vnd.jupyter.widget-view+json": {
       "version_major": 2,
       "version_minor": 0,
       "model_id": "ff1310ac4c6847ae8974942bce6a5c4a"
      }
     },
     "metadata": {},
     "output_type": "display_data"
    },
    {
     "data": {
      "text/plain": "FigureWidget({\n    'data': [{'colorscale': [[0.0, '#440154'], [0.1111111111111111, '#482878'],\n               …",
      "application/vnd.jupyter.widget-view+json": {
       "version_major": 2,
       "version_minor": 0,
       "model_id": "d258a6533e8b424cad476ae1652ba0da"
      }
     },
     "metadata": {},
     "output_type": "display_data"
    },
    {
     "data": {
      "text/plain": "FigureWidget({\n    'data': [{'colorscale': [[0.0, '#440154'], [0.1111111111111111, '#482878'],\n               …",
      "application/vnd.jupyter.widget-view+json": {
       "version_major": 2,
       "version_minor": 0,
       "model_id": "29ddc319f70444f0a59dbbf3872efffb"
      }
     },
     "metadata": {},
     "output_type": "display_data"
    },
    {
     "data": {
      "text/plain": "FigureWidget({\n    'data': [{'colorscale': [[0.0, '#440154'], [0.1111111111111111, '#482878'],\n               …",
      "application/vnd.jupyter.widget-view+json": {
       "version_major": 2,
       "version_minor": 0,
       "model_id": "7abd5af7382b42399c2265deae8b7148"
      }
     },
     "metadata": {},
     "output_type": "display_data"
    },
    {
     "data": {
      "text/plain": "FigureWidget({\n    'data': [{'colorscale': [[0.0, '#440154'], [0.1111111111111111, '#482878'],\n               …",
      "application/vnd.jupyter.widget-view+json": {
       "version_major": 2,
       "version_minor": 0,
       "model_id": "ef8da348ceb14543aa503314914eecf4"
      }
     },
     "metadata": {},
     "output_type": "display_data"
    },
    {
     "data": {
      "text/plain": "FigureWidget({\n    'data': [{'colorscale': [[0.0, '#440154'], [0.1111111111111111, '#482878'],\n               …",
      "application/vnd.jupyter.widget-view+json": {
       "version_major": 2,
       "version_minor": 0,
       "model_id": "19b0afdd2fd445648cbe641cffe89475"
      }
     },
     "metadata": {},
     "output_type": "display_data"
    },
    {
     "data": {
      "text/plain": "FigureWidget({\n    'data': [{'colorscale': [[0.0, '#440154'], [0.1111111111111111, '#482878'],\n               …",
      "application/vnd.jupyter.widget-view+json": {
       "version_major": 2,
       "version_minor": 0,
       "model_id": "c9d0cf7deddf48d5b3b3993f096e4043"
      }
     },
     "metadata": {},
     "output_type": "display_data"
    },
    {
     "data": {
      "text/plain": "FigureWidget({\n    'data': [{'colorscale': [[0.0, '#440154'], [0.1111111111111111, '#482878'],\n               …",
      "application/vnd.jupyter.widget-view+json": {
       "version_major": 2,
       "version_minor": 0,
       "model_id": "111cdb2384674af7b0a589a385045931"
      }
     },
     "metadata": {},
     "output_type": "display_data"
    }
   ],
   "source": [
    "# Visualization\n",
    "# Choose setup\n",
    "viz = SomViz(sweights, smap_y, smap_x)\n",
    "\n",
    "color='viridis'\n",
    "interp=False\n",
    "data_title='SOMToolBox'\n",
    "\n",
    "k_list = [1,2,3,4]\n",
    "r_list = [0.01,0.05,0.1,0.15]\n",
    "r_list = np.around(np.mean(idata)*np.array(r_list), decimals=2) # scale radii to input data\n",
    "\n",
    "# Prepare Neighbourhood Graph\n",
    "%time ng2 = NG(viz.weights, viz.n, viz.m, input_data=idata)\n",
    "\n",
    "# U-Matrix\n",
    "display(viz.umatrix(color=color, interp=interp, title='{}: U-Matrix'.format(data_title)))\n",
    "\n",
    "# U-Matrix with Neighbourhood Graph\n",
    "## knn\n",
    "for k in k_list:\n",
    "    display(viz.umatrix(color=color, interp=interp, title='{}: U-Matrix + {}-NN Neighbourhood Graph'.format(data_title, k), adj_mat=ng2.create_graph(knn=k)))\n",
    "## radius\n",
    "for k in r_list:\n",
    "    display(viz.umatrix(color=color, interp=interp, title='{}: U-Matrix + {}-Radius Neighbourhood Graph'.format(data_title, k), adj_mat=ng2.create_graph(radius=k)))\n",
    "\n",
    "# Hit-Hist with Neighbourhood Graph\n",
    "## knn\n",
    "for k in k_list:\n",
    "    display(viz.hithist(idata=idata, color=color, interp=interp, title='{}: Hit hist + {}-NN Neighbourhood Graph'.format(data_title, k), adj_mat=ng2.create_graph(knn=k)))\n",
    "## radius\n",
    "for k in r_list:\n",
    "    display(viz.hithist(idata=idata, color=color, interp=interp, title='{}: Hit hist + {}-Radius Neighbourhood Graph'.format(data_title, k), adj_mat=ng2.create_graph(radius=k)))\n",
    "\n",
    "\n",
    "\n"
   ],
   "metadata": {
    "collapsed": false,
    "pycharm": {
     "name": "#%%\n"
    }
   }
  }
 ],
 "metadata": {
  "kernelspec": {
   "name": "pycharm-51fc216",
   "language": "python",
   "display_name": "PyCharm (sos_ex3_MASTER)"
  },
  "language_info": {
   "codemirror_mode": {
    "name": "ipython",
    "version": 3
   },
   "file_extension": ".py",
   "mimetype": "text/x-python",
   "name": "python",
   "nbconvert_exporter": "python",
   "pygments_lexer": "ipython3",
   "version": "3.6.9"
  }
 },
 "nbformat": 4,
 "nbformat_minor": 2
}