{
 "cells": [
  {
   "cell_type": "code",
   "execution_count": null,
   "outputs": [],
   "source": [
    "import numpy as np\n",
    "import minisom as som\n",
    "from IPython.core.display import display\n",
    "from sklearn import datasets, preprocessing\n",
    "\n",
    "from src.NeighbourhoodGraph import NeighbourhoodGraph as NG\n",
    "from src.som_vis import SomViz, SOMToolBox_Parse"
   ],
   "metadata": {
    "collapsed": false,
    "pycharm": {
     "name": "#%%\n"
    }
   }
  },
  {
   "cell_type": "code",
   "execution_count": null,
   "outputs": [],
   "source": [
    "def create_visualizations(sweights,smap_y,smap_x,idata,\n",
    "                          color='viridis',interp=False,data_title='SOMToolBox',\n",
    "                          k_list = [1,2,3,4],\n",
    "                          r_list = [0.01,0.05,0.1,0.15]):\n",
    "    # Visualization\n",
    "    # Choose setup\n",
    "\n",
    "    viz = SomViz(sweights, smap_y, smap_x)\n",
    "\n",
    "    k_list = [1,2,3,4]\n",
    "    r_list = [0.01,0.05,0.1,0.15]\n",
    "    r_list = np.around(np.mean(idata)*np.array(r_list), decimals=2) # scale radii to input data\n",
    "\n",
    "    # Prepare Neighbourhood Graph\n",
    "    ng2 = NG(viz.weights, viz.n, viz.m, input_data=idata)\n",
    "\n",
    "    # U-Matrix\n",
    "    display(viz.umatrix(color=color, interp=interp, title='{}: U-Matrix'.format(data_title)))\n",
    "\n",
    "    # U-Matrix with Neighbourhood Graph\n",
    "    ## knn\n",
    "    for k in k_list:\n",
    "        display(viz.umatrix(color=color, interp=interp, title='{}: U-Matrix + {}-NN Neighbourhood Graph'.format(data_title, k), adj_mat=ng2.create_graph(knn=k)))\n",
    "    ## radius\n",
    "    for k in r_list:\n",
    "        display(viz.umatrix(color=color, interp=interp, title='{}: U-Matrix + {}-Radius Neighbourhood Graph'.format(data_title, k), adj_mat=ng2.create_graph(radius=k)))\n",
    "\n",
    "    # Hit-Hist with Neighbourhood Graph\n",
    "    ## knn\n",
    "    for k in k_list:\n",
    "        display(viz.hithist(idata=idata, color=color, interp=interp, title='{}: Hit hist + {}-NN Neighbourhood Graph'.format(data_title, k), adj_mat=ng2.create_graph(knn=k)))\n",
    "    ## radius\n",
    "    for k in r_list:\n",
    "        display(viz.hithist(idata=idata, color=color, interp=interp, title='{}: Hit hist + {}-Radius Neighbourhood Graph'.format(data_title, k), adj_mat=ng2.create_graph(radius=k)))\n"
   ],
   "metadata": {
    "collapsed": false,
    "pycharm": {
     "name": "#%%\n"
    }
   }
  },
  {
   "cell_type": "markdown",
   "source": [
    "# Chain Link Dataset"
   ],
   "metadata": {
    "collapsed": false
   }
  },
  {
   "cell_type": "markdown",
   "source": [
    "## 40x20 Sized Maps"
   ],
   "metadata": {
    "collapsed": false
   }
  },
  {
   "cell_type": "markdown",
   "source": [
    "### Train new SOM"
   ],
   "metadata": {
    "collapsed": false
   }
  },
  {
   "cell_type": "code",
   "execution_count": null,
   "outputs": [],
   "source": [
    "smap_x=40\n",
    "smap_y=20\n",
    "\n",
    "# Pre-processing\n",
    "ivec = SOMToolBox_Parse('../input/chainlink/chainlink.vec') # set data here\n",
    "idata, idim, _, _ = ivec.read_weight_file()\n",
    "idata_chainlink = idata.to_numpy()\n",
    "\n",
    "idim = idata_chainlink.shape[1]\n",
    "\n",
    "# Train\n",
    "smap_chainlink = som.MiniSom(smap_y, smap_x, idata_chainlink.shape[1], sigma=7, learning_rate=0.7)\n",
    "%time smap_chainlink.train_random(idata_chainlink, 10000, verbose=False)\n",
    "\n",
    "sweights = smap_chainlink._weights.reshape(-1,idim)\n",
    "sdim = sweights.shape[0]\n",
    "\n",
    "create_visualizations(sweights,smap_y,smap_x,idata_chainlink)"
   ],
   "metadata": {
    "collapsed": false,
    "pycharm": {
     "name": "#%%\n"
    }
   }
  },
  {
   "cell_type": "markdown",
   "source": [
    "### Load Trained SOM"
   ],
   "metadata": {
    "collapsed": false
   }
  },
  {
   "cell_type": "code",
   "execution_count": null,
   "outputs": [],
   "source": [
    "smap_chainlink_from_file = SOMToolBox_Parse('../input/chainlink/chainlink4020/chainlink.wgt.gz')\n",
    "sweights, sdim, smap_x, smap_y = smap_chainlink_from_file.read_weight_file()\n",
    "\n",
    "# get in correct orientation\n",
    "sweights = sweights.values.reshape(smap_y,smap_x,sdim)\n",
    "sweights = np.flip(sweights,0)\n",
    "sweights = sweights.reshape(-1,sdim)\n",
    "\n",
    "create_visualizations(sweights,smap_y,smap_x,idata_chainlink)"
   ],
   "metadata": {
    "collapsed": false,
    "pycharm": {
     "name": "#%%\n"
    }
   }
  },
  {
   "cell_type": "markdown",
   "source": [
    "## 100x60 Sized Map"
   ],
   "metadata": {
    "collapsed": false
   }
  },
  {
   "cell_type": "markdown",
   "source": [
    "### Train new SOM"
   ],
   "metadata": {
    "collapsed": false
   }
  },
  {
   "cell_type": "code",
   "execution_count": null,
   "outputs": [],
   "source": [
    "smap_x=100\n",
    "smap_y=60\n",
    "\n",
    "# Pre-processing\n",
    "ivec = SOMToolBox_Parse('../input/chainlink/chainlink.vec') # set data here\n",
    "idata, idim, _, _ = ivec.read_weight_file()\n",
    "idata_chainlink = idata.to_numpy()\n",
    "\n",
    "idim = idata_chainlink.shape[1]\n",
    "\n",
    "# Train\n",
    "smap_chainlink = som.MiniSom(smap_y, smap_x, idata_chainlink.shape[1], sigma=7, learning_rate=0.7)\n",
    "%time smap_chainlink.train_random(idata_chainlink, 10000, verbose=False)\n",
    "\n",
    "sweights = smap_chainlink._weights.reshape(-1,idim)\n",
    "sdim = sweights.shape[0]\n",
    "\n",
    "create_visualizations(sweights,smap_y,smap_x,idata_chainlink)"
   ],
   "metadata": {
    "collapsed": false,
    "pycharm": {
     "name": "#%%\n"
    }
   }
  },
  {
   "cell_type": "markdown",
   "source": [
    "### Load Trained SOM"
   ],
   "metadata": {
    "collapsed": false
   }
  },
  {
   "cell_type": "code",
   "execution_count": null,
   "outputs": [],
   "source": [
    "smap_chainlink_from_file = SOMToolBox_Parse('../input/chainlink/chainlink10060/chainlink.wgt.gz')\n",
    "sweights, sdim, smap_x, smap_y = smap_chainlink_from_file.read_weight_file()\n",
    "\n",
    "# get in correct orientation\n",
    "sweights = sweights.values.reshape(smap_y,smap_x,sdim)\n",
    "sweights = np.flip(sweights,0)\n",
    "\n",
    "sweights = sweights.reshape(-1,sdim)\n",
    "\n",
    "create_visualizations(sweights,smap_y,smap_x,idata_chainlink)"
   ],
   "metadata": {
    "collapsed": false,
    "pycharm": {
     "name": "#%%\n"
    }
   }
  },
  {
   "cell_type": "markdown",
   "source": [
    "# 10-Clusters Dataset"
   ],
   "metadata": {
    "collapsed": false
   }
  },
  {
   "cell_type": "markdown",
   "source": [
    "## 40x20 Sized Maps"
   ],
   "metadata": {
    "collapsed": false
   }
  },
  {
   "cell_type": "markdown",
   "source": [
    "### Train new SOM"
   ],
   "metadata": {
    "collapsed": false
   }
  },
  {
   "cell_type": "code",
   "execution_count": null,
   "outputs": [],
   "source": [
    "smap_x=40\n",
    "smap_y=20\n",
    "\n",
    "# Pre-processing\n",
    "ivec = SOMToolBox_Parse('../input/10clusters/10clusters.vec') # set data here\n",
    "idata, idim, _, _ = ivec.read_weight_file()\n",
    "idata_10clusters = idata.to_numpy()\n",
    "\n",
    "idim = idata_10clusters.shape[1]\n",
    "\n",
    "# Train\n",
    "smap_10clusters = som.MiniSom(smap_y, smap_x, idata_10clusters.shape[1], sigma=7, learning_rate=0.7)\n",
    "%time smap_10clusters.train_random(idata_10clusters, 10000, verbose=False)\n",
    "\n",
    "sweights = smap_10clusters._weights.reshape(-1,idim)\n",
    "sdim = sweights.shape[0]\n",
    "\n",
    "create_visualizations(sweights,smap_y,smap_x,idata_10clusters)"
   ],
   "metadata": {
    "collapsed": false,
    "pycharm": {
     "name": "#%%\n"
    }
   }
  },
  {
   "cell_type": "markdown",
   "source": [
    "### Load Trained SOM"
   ],
   "metadata": {
    "collapsed": false
   }
  },
  {
   "cell_type": "code",
   "execution_count": null,
   "outputs": [],
   "source": [
    "smap_10clusters_from_file = SOMToolBox_Parse('../input/10clusters/10clusters4020/10clusters.wgt.gz')\n",
    "sweights, sdim, smap_x, smap_y = smap_10clusters_from_file.read_weight_file()\n",
    "\n",
    "# get in correct orientation\n",
    "sweights = sweights.values.reshape(smap_y,smap_x,sdim)\n",
    "sweights = np.flip(sweights,0)\n",
    "sweights = sweights.reshape(-1,sdim)\n",
    "\n",
    "create_visualizations(sweights,smap_y,smap_x,idata_10clusters)"
   ],
   "metadata": {
    "collapsed": false,
    "pycharm": {
     "name": "#%%\n"
    }
   }
  },
  {
   "cell_type": "markdown",
   "source": [
    "## 100x60 Sized Map"
   ],
   "metadata": {
    "collapsed": false
   }
  },
  {
   "cell_type": "markdown",
   "source": [
    "### Train new SOM"
   ],
   "metadata": {
    "collapsed": false
   }
  },
  {
   "cell_type": "code",
   "execution_count": null,
   "outputs": [],
   "source": [
    "smap_x=100\n",
    "smap_y=60\n",
    "\n",
    "# Pre-processing\n",
    "ivec = SOMToolBox_Parse('../input/10clusters/10clusters.vec') # set data here\n",
    "idata, idim, _, _ = ivec.read_weight_file()\n",
    "idata_10clusters = idata.to_numpy()\n",
    "\n",
    "idim = idata_10clusters.shape[1]\n",
    "\n",
    "# Train\n",
    "smap_chainlink = som.MiniSom(smap_y, smap_x, idata_10clusters.shape[1], sigma=7, learning_rate=0.7)\n",
    "%time smap_chainlink.train_random(idata_10clusters, 10000, verbose=False)\n",
    "\n",
    "sweights = smap_chainlink._weights.reshape(-1,idim)\n",
    "sdim = sweights.shape[0]\n",
    "\n",
    "create_visualizations(sweights,smap_y,smap_x,idata_10clusters)"
   ],
   "metadata": {
    "collapsed": false,
    "pycharm": {
     "name": "#%%\n"
    }
   }
  },
  {
   "cell_type": "markdown",
   "source": [
    "### Load Trained SOM"
   ],
   "metadata": {
    "collapsed": false
   }
  },
  {
   "cell_type": "code",
   "execution_count": null,
   "outputs": [],
   "source": [
    "smap_10clusters_from_file = SOMToolBox_Parse('../input/10clusters/10clusters10060/10clusters.wgt.gz')\n",
    "sweights, sdim, smap_x, smap_y = smap_10clusters_from_file.read_weight_file()\n",
    "\n",
    "# get in correct orientation\n",
    "sweights = sweights.values.reshape(smap_y,smap_x,sdim)\n",
    "sweights = np.flip(sweights,0)\n",
    "sweights = sweights.reshape(-1,sdim)\n",
    "\n",
    "create_visualizations(sweights,smap_y,smap_x,idata_10clusters)"
   ],
   "metadata": {
    "collapsed": false,
    "pycharm": {
     "name": "#%%\n"
    }
   }
  },
  {
   "cell_type": "markdown",
   "source": [
    "smap_10clusters_from_file = SOMToolBox_Parse('../input/10clusters/10clusters10060/10clusters.wgt.gz')\n",
    "sweights, sdim, smap_x, smap_y = smap_10clusters_from_file.read_weight_file()\n",
    "\n",
    "# get in correct orientation\n",
    "sweights = sweights.values.reshape(smap_y,smap_x,sdim)\n",
    "sweights = np.flip(sweights,0)\n",
    "sweights = sweights.reshape(-1,sdim)\n",
    "\n",
    "create_visualizations(sweights,smap_y,smap_x,idata_10clusters)"
   ],
   "metadata": {
    "collapsed": false
   }
  },
  {
   "cell_type": "code",
   "execution_count": null,
   "outputs": [],
   "source": [
    "smap_10clusters_from_file = SOMToolBox_Parse('../input/10clusters/10clusters10060/10clusters.wgt.gz')\n",
    "sweights, sdim, smap_x, smap_y = smap_10clusters_from_file.read_weight_file()\n",
    "\n",
    "# get in correct orientation\n",
    "sweights = sweights.values.reshape(smap_y,smap_x,sdim)\n",
    "sweights = np.flip(sweights,0)\n",
    "sweights = sweights.reshape(-1,sdim)\n",
    "\n",
    "create_visualizations(sweights,smap_y,smap_x,idata_10clusters)"
   ],
   "metadata": {
    "collapsed": false,
    "pycharm": {
     "name": "#%%\n"
    }
   }
  }
 ],
 "metadata": {
  "kernelspec": {
   "display_name": "Python 3",
   "language": "python",
   "name": "python3"
  },
  "language_info": {
   "codemirror_mode": {
    "name": "ipython",
    "version": 2
   },
   "file_extension": ".py",
   "mimetype": "text/x-python",
   "name": "python",
   "nbconvert_exporter": "python",
   "pygments_lexer": "ipython2",
   "version": "2.7.6"
  }
 },
 "nbformat": 4,
 "nbformat_minor": 0
}