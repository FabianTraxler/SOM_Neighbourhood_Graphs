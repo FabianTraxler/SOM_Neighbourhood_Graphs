{
 "cells": [
  {
   "cell_type": "markdown",
   "source": [
    "SOS2020_ExSOM-C_group12_1553958_01126793\n",
    "# C) Evaluation Report\n",
    "\n",
    "todo: intro\n",
    "\n",
    "## Overview\n",
    "* We trained and loaded 40x20 and 100x60 maps\n",
    "* Chainlink Dataset - parameters used for Neighbourhood Graphs:\n",
    "   * k-NN: 1, 2, 3, 4, 20\n",
    "   * Radius: 0.03, 0.09, 0.15, 0.21, 1\n",
    "* 10-Clusters Dataset  - parameters used for Neighbourhood Graphs:\n",
    "   * k-NN: 1, 2, 3, 4, 20\n",
    "   * Radius: 0.03, 0.09, 0.15, 0.21, 1"
   ],
   "metadata": {
    "collapsed": false,
    "pycharm": {
     "name": "#%% md\n"
    }
   }
  },
  {
   "cell_type": "code",
   "execution_count": 8,
   "outputs": [],
   "source": [
    "import numpy as np\n",
    "import minisom as som\n",
    "from IPython.core.display import display\n",
    "from ipywidgets import HBox\n",
    "from sklearn import datasets, preprocessing\n",
    "\n",
    "from src.NeighbourhoodGraph import NeighbourhoodGraph\n",
    "from src.som_vis import SomViz, SOMToolBox_Parse"
   ],
   "metadata": {
    "collapsed": false,
    "pycharm": {
     "name": "#%%\n"
    }
   }
  },
  {
   "cell_type": "code",
   "execution_count": 9,
   "outputs": [],
   "source": [
    "# Set this parameter to False to run Notebook without training new SOMs\n",
    "do_training = False\n"
   ],
   "metadata": {
    "collapsed": false,
    "pycharm": {
     "name": "#%%\n"
    }
   }
  },
  {
   "cell_type": "code",
   "execution_count": 10,
   "outputs": [],
   "source": [
    "def create_visualizations(sweights, smap_y:int, smap_x:int, idata,\n",
    "                          color='viridis', interp=False, data_title='Chainlink',\n",
    "                          k_list = [1,2,3,4],\n",
    "                          r_list = [0.03,0.09,0.15,0.21],\n",
    "                          width = 700, height = None,\n",
    "                          scale_to_mean = False):\n",
    "    # Visualization\n",
    "    viz = SomViz(sweights, smap_y, smap_x)\n",
    "\n",
    "    if scale_to_mean: # scale radii to input data\n",
    "        r_list = np.around(np.mean(idata)*np.array(r_list), decimals=8)\n",
    "\n",
    "    if height is None: height = width * (smap_y/smap_x)\n",
    "\n",
    "    # Prepare Neighbourhood Graph\n",
    "    ng = NeighbourhoodGraph(viz.weights, viz.m, viz.n, input_data=idata)\n",
    "    traces = []\n",
    "    for val in k_list:\n",
    "        traces.append(ng.get_trace(knn=val))\n",
    "    for val in r_list:\n",
    "        traces.append(ng.get_trace(radius=val))\n",
    "\n",
    "    # Prepare underlying visualizations\n",
    "    umatrix_title = '{}: U-Matrix'.format(data_title)\n",
    "    hithist_title = '{}: Hit hist'.format(data_title)\n",
    "\n",
    "    # Show underlying visualizations with Neighbourhood Graph overlay\n",
    "    for i, trace in enumerate(traces):\n",
    "        if i < len(k_list):\n",
    "            title_suffix = \" + Neighbourhood Graph ({}-NN)\".format(k_list[i])\n",
    "        else:\n",
    "            title_suffix = \" + Neighbourhood Graph (radius: {})\".format(r_list[i-len(k_list)])\n",
    "\n",
    "        umatrix = viz.umatrix(color=color, interp=interp, title=umatrix_title + title_suffix)\n",
    "        umatrix.layout.width = width\n",
    "        umatrix.layout.height = height\n",
    "        umatrix.add_trace(trace)\n",
    "\n",
    "        hithist = viz.hithist(idata=idata, color=color, interp=interp, title=hithist_title + title_suffix)\n",
    "        hithist.layout.width = width\n",
    "        hithist.layout.height = height\n",
    "        hithist.add_trace(trace)\n",
    "\n",
    "        display(HBox([umatrix, hithist]))"
   ],
   "metadata": {
    "collapsed": false,
    "pycharm": {
     "name": "#%%\n"
    }
   }
  },
  {
   "cell_type": "markdown",
   "source": [
    "# Chainlink Dataset"
   ],
   "metadata": {
    "collapsed": false
   }
  },
  {
   "cell_type": "code",
   "execution_count": 11,
   "outputs": [],
   "source": [
    "# Load and prepare input data\n",
    "ivec = SOMToolBox_Parse('../input/chainlink/chainlink.vec')\n",
    "idata, idim, _, _ = ivec.read_weight_file()\n",
    "idata_chainlink = idata.to_numpy()\n",
    "\n",
    "# Set default parameters\n",
    "_k_list = [1, 2, 3, 4, 20]\n",
    "_r_list = [0.03, 0.09, 0.15, 0.21, 1]"
   ],
   "metadata": {
    "collapsed": false,
    "pycharm": {
     "name": "#%%\n"
    }
   }
  },
  {
   "cell_type": "markdown",
   "source": [
    "## 40x20 Sized Maps"
   ],
   "metadata": {
    "collapsed": false,
    "pycharm": {
     "name": "#%% md\n"
    }
   }
  },
  {
   "cell_type": "code",
   "execution_count": 12,
   "outputs": [],
   "source": [
    "smap_x=40\n",
    "smap_y=20\n",
    "weights_path = '../input/chainlink/chainlink4020/chainlink.wgt.gz'\n",
    "data_title = \"Chainlink 40x20\""
   ],
   "metadata": {
    "collapsed": false,
    "pycharm": {
     "name": "#%%\n"
    }
   }
  },
  {
   "cell_type": "markdown",
   "source": [
    "### Train New SOM"
   ],
   "metadata": {
    "collapsed": false
   }
  },
  {
   "cell_type": "code",
   "execution_count": 13,
   "outputs": [],
   "source": [
    "if do_training:\n",
    "    # Train\n",
    "    smap_chainlink = som.MiniSom(smap_y, smap_x, idata_chainlink.shape[1], sigma=7, learning_rate=0.7)\n",
    "    %time smap_chainlink.train_random(idata_chainlink, 10000, verbose=False)\n",
    "    sweights = smap_chainlink._weights.reshape(-1,idim)\n",
    "\n",
    "    # Visualize\n",
    "    create_visualizations(sweights,smap_y,smap_x,idata_chainlink,\n",
    "                          data_title=data_title,\n",
    "                          k_list=_k_list,\n",
    "                          r_list=_r_list)"
   ],
   "metadata": {
    "collapsed": false,
    "pycharm": {
     "name": "#%%\n"
    }
   }
  },
  {
   "cell_type": "markdown",
   "source": [
    "### Load Trained SOM"
   ],
   "metadata": {
    "collapsed": false
   }
  },
  {
   "cell_type": "code",
   "execution_count": 14,
   "outputs": [
    {
     "data": {
      "text/plain": "HBox(children=(FigureWidget({\n    'data': [{'colorscale': [[0.0, '#440154'], [0.1111111111111111, '#482878'],\n…",
      "application/vnd.jupyter.widget-view+json": {
       "version_major": 2,
       "version_minor": 0,
       "model_id": "ef3e5dc0dfbb47518ac74aea0c697693"
      }
     },
     "metadata": {},
     "output_type": "display_data"
    },
    {
     "data": {
      "text/plain": "HBox(children=(FigureWidget({\n    'data': [{'colorscale': [[0.0, '#440154'], [0.1111111111111111, '#482878'],\n…",
      "application/vnd.jupyter.widget-view+json": {
       "version_major": 2,
       "version_minor": 0,
       "model_id": "e0ae4c7fbfab4093bc854bb1e102c17a"
      }
     },
     "metadata": {},
     "output_type": "display_data"
    },
    {
     "data": {
      "text/plain": "HBox(children=(FigureWidget({\n    'data': [{'colorscale': [[0.0, '#440154'], [0.1111111111111111, '#482878'],\n…",
      "application/vnd.jupyter.widget-view+json": {
       "version_major": 2,
       "version_minor": 0,
       "model_id": "f9617f3ebbb8482fb8fe32a1697a76ca"
      }
     },
     "metadata": {},
     "output_type": "display_data"
    },
    {
     "data": {
      "text/plain": "HBox(children=(FigureWidget({\n    'data': [{'colorscale': [[0.0, '#440154'], [0.1111111111111111, '#482878'],\n…",
      "application/vnd.jupyter.widget-view+json": {
       "version_major": 2,
       "version_minor": 0,
       "model_id": "e15385b37cf049d1a6739c3876033380"
      }
     },
     "metadata": {},
     "output_type": "display_data"
    },
    {
     "data": {
      "text/plain": "HBox(children=(FigureWidget({\n    'data': [{'colorscale': [[0.0, '#440154'], [0.1111111111111111, '#482878'],\n…",
      "application/vnd.jupyter.widget-view+json": {
       "version_major": 2,
       "version_minor": 0,
       "model_id": "7c5c9b68089746c7a4cc84035c922072"
      }
     },
     "metadata": {},
     "output_type": "display_data"
    },
    {
     "data": {
      "text/plain": "HBox(children=(FigureWidget({\n    'data': [{'colorscale': [[0.0, '#440154'], [0.1111111111111111, '#482878'],\n…",
      "application/vnd.jupyter.widget-view+json": {
       "version_major": 2,
       "version_minor": 0,
       "model_id": "3fa2baf5f289456abdab3b753a26c4b1"
      }
     },
     "metadata": {},
     "output_type": "display_data"
    },
    {
     "data": {
      "text/plain": "HBox(children=(FigureWidget({\n    'data': [{'colorscale': [[0.0, '#440154'], [0.1111111111111111, '#482878'],\n…",
      "application/vnd.jupyter.widget-view+json": {
       "version_major": 2,
       "version_minor": 0,
       "model_id": "a7e03ff7c6f945fbb5bbb76ff1a7b2a6"
      }
     },
     "metadata": {},
     "output_type": "display_data"
    },
    {
     "data": {
      "text/plain": "HBox(children=(FigureWidget({\n    'data': [{'colorscale': [[0.0, '#440154'], [0.1111111111111111, '#482878'],\n…",
      "application/vnd.jupyter.widget-view+json": {
       "version_major": 2,
       "version_minor": 0,
       "model_id": "b97794718b3644f6b20877e6bc9a33fa"
      }
     },
     "metadata": {},
     "output_type": "display_data"
    },
    {
     "data": {
      "text/plain": "HBox(children=(FigureWidget({\n    'data': [{'colorscale': [[0.0, '#440154'], [0.1111111111111111, '#482878'],\n…",
      "application/vnd.jupyter.widget-view+json": {
       "version_major": 2,
       "version_minor": 0,
       "model_id": "2c2b7eeeb3e443e8b06475ab2b9ad698"
      }
     },
     "metadata": {},
     "output_type": "display_data"
    },
    {
     "data": {
      "text/plain": "HBox(children=(FigureWidget({\n    'data': [{'colorscale': [[0.0, '#440154'], [0.1111111111111111, '#482878'],\n…",
      "application/vnd.jupyter.widget-view+json": {
       "version_major": 2,
       "version_minor": 0,
       "model_id": "b5df17e4597a4b318d510588c3b068d9"
      }
     },
     "metadata": {},
     "output_type": "display_data"
    }
   ],
   "source": [
    "# Load\n",
    "smap_chainlink_from_file = SOMToolBox_Parse(weights_path)\n",
    "sweights, sdim, smap_x, smap_y = smap_chainlink_from_file.read_weight_file()\n",
    "\n",
    "# Fix orientation\n",
    "sweights = sweights.values.reshape(smap_y,smap_x,sdim)\n",
    "sweights = np.flip(sweights,0)\n",
    "sweights = sweights.reshape(-1,sdim)\n",
    "\n",
    "# Visualize\n",
    "create_visualizations(sweights,smap_y,smap_x,idata_chainlink,\n",
    "                      data_title=data_title,\n",
    "                      k_list=_k_list,\n",
    "                      r_list=_r_list)"
   ],
   "metadata": {
    "collapsed": false,
    "pycharm": {
     "name": "#%%\n"
    }
   }
  },
  {
   "cell_type": "markdown",
   "source": [
    "## 100x60 Sized Map"
   ],
   "metadata": {
    "collapsed": false
   }
  },
  {
   "cell_type": "code",
   "execution_count": 15,
   "outputs": [],
   "source": [
    "smap_x=100\n",
    "smap_y=60\n",
    "weights_path = '../input/chainlink/chainlink10060/chainlink.wgt.gz'\n",
    "data_title = \"Chainlink 100x60\""
   ],
   "metadata": {
    "collapsed": false,
    "pycharm": {
     "name": "#%%\n"
    }
   }
  },
  {
   "cell_type": "markdown",
   "source": [
    "### Train New SOM"
   ],
   "metadata": {
    "collapsed": false
   }
  },
  {
   "cell_type": "code",
   "execution_count": 16,
   "outputs": [],
   "source": [
    "# Train\n",
    "if do_training:\n",
    "    # Train\n",
    "    smap_chainlink = som.MiniSom(smap_y, smap_x, idata_chainlink.shape[1], sigma=7, learning_rate=0.7)\n",
    "    %time smap_chainlink.train_random(idata_chainlink, 10000, verbose=False)\n",
    "    sweights = smap_chainlink._weights.reshape(-1,idim)\n",
    "\n",
    "    # Visualize\n",
    "    create_visualizations(sweights,smap_y,smap_x,idata_chainlink,\n",
    "                          data_title=data_title,\n",
    "                          k_list=_k_list,\n",
    "                          r_list=_r_list)"
   ],
   "metadata": {
    "collapsed": false,
    "pycharm": {
     "name": "#%%\n"
    }
   }
  },
  {
   "cell_type": "markdown",
   "source": [
    "### Load Trained SOM"
   ],
   "metadata": {
    "collapsed": false
   }
  },
  {
   "cell_type": "code",
   "execution_count": 17,
   "outputs": [
    {
     "data": {
      "text/plain": "HBox(children=(FigureWidget({\n    'data': [{'colorscale': [[0.0, '#440154'], [0.1111111111111111, '#482878'],\n…",
      "application/vnd.jupyter.widget-view+json": {
       "version_major": 2,
       "version_minor": 0,
       "model_id": "ebc5e3acd1024be09aee77e5abe845c1"
      }
     },
     "metadata": {},
     "output_type": "display_data"
    },
    {
     "data": {
      "text/plain": "HBox(children=(FigureWidget({\n    'data': [{'colorscale': [[0.0, '#440154'], [0.1111111111111111, '#482878'],\n…",
      "application/vnd.jupyter.widget-view+json": {
       "version_major": 2,
       "version_minor": 0,
       "model_id": "e9261029b6ce410d8cdfb08d142f641f"
      }
     },
     "metadata": {},
     "output_type": "display_data"
    },
    {
     "data": {
      "text/plain": "HBox(children=(FigureWidget({\n    'data': [{'colorscale': [[0.0, '#440154'], [0.1111111111111111, '#482878'],\n…",
      "application/vnd.jupyter.widget-view+json": {
       "version_major": 2,
       "version_minor": 0,
       "model_id": "d8788cf04d7041e7bf69668fffd8abb5"
      }
     },
     "metadata": {},
     "output_type": "display_data"
    },
    {
     "data": {
      "text/plain": "HBox(children=(FigureWidget({\n    'data': [{'colorscale': [[0.0, '#440154'], [0.1111111111111111, '#482878'],\n…",
      "application/vnd.jupyter.widget-view+json": {
       "version_major": 2,
       "version_minor": 0,
       "model_id": "db9864eb26444df7a0047fbeca52f9e6"
      }
     },
     "metadata": {},
     "output_type": "display_data"
    },
    {
     "data": {
      "text/plain": "HBox(children=(FigureWidget({\n    'data': [{'colorscale': [[0.0, '#440154'], [0.1111111111111111, '#482878'],\n…",
      "application/vnd.jupyter.widget-view+json": {
       "version_major": 2,
       "version_minor": 0,
       "model_id": "b63fab937507400384d5c9067bd1ef3d"
      }
     },
     "metadata": {},
     "output_type": "display_data"
    },
    {
     "data": {
      "text/plain": "HBox(children=(FigureWidget({\n    'data': [{'colorscale': [[0.0, '#440154'], [0.1111111111111111, '#482878'],\n…",
      "application/vnd.jupyter.widget-view+json": {
       "version_major": 2,
       "version_minor": 0,
       "model_id": "7f3919508ad54e6ba46a0f93b61dc181"
      }
     },
     "metadata": {},
     "output_type": "display_data"
    },
    {
     "data": {
      "text/plain": "HBox(children=(FigureWidget({\n    'data': [{'colorscale': [[0.0, '#440154'], [0.1111111111111111, '#482878'],\n…",
      "application/vnd.jupyter.widget-view+json": {
       "version_major": 2,
       "version_minor": 0,
       "model_id": "593db9234e334494a7b1545cdee024da"
      }
     },
     "metadata": {},
     "output_type": "display_data"
    },
    {
     "data": {
      "text/plain": "HBox(children=(FigureWidget({\n    'data': [{'colorscale': [[0.0, '#440154'], [0.1111111111111111, '#482878'],\n…",
      "application/vnd.jupyter.widget-view+json": {
       "version_major": 2,
       "version_minor": 0,
       "model_id": "03a41464bc954d9887479dd5596af1df"
      }
     },
     "metadata": {},
     "output_type": "display_data"
    },
    {
     "data": {
      "text/plain": "HBox(children=(FigureWidget({\n    'data': [{'colorscale': [[0.0, '#440154'], [0.1111111111111111, '#482878'],\n…",
      "application/vnd.jupyter.widget-view+json": {
       "version_major": 2,
       "version_minor": 0,
       "model_id": "47d1e34991594c46b1fa37c8e9e7bcc4"
      }
     },
     "metadata": {},
     "output_type": "display_data"
    },
    {
     "data": {
      "text/plain": "HBox(children=(FigureWidget({\n    'data': [{'colorscale': [[0.0, '#440154'], [0.1111111111111111, '#482878'],\n…",
      "application/vnd.jupyter.widget-view+json": {
       "version_major": 2,
       "version_minor": 0,
       "model_id": "c51d81a76e064cb88e66a35c0fa0e1c3"
      }
     },
     "metadata": {},
     "output_type": "display_data"
    }
   ],
   "source": [
    "# Load\n",
    "smap_chainlink_from_file = SOMToolBox_Parse(weights_path)\n",
    "sweights, sdim, smap_x, smap_y = smap_chainlink_from_file.read_weight_file()\n",
    "\n",
    "# Fix orientation\n",
    "sweights = sweights.values.reshape(smap_y,smap_x,sdim)\n",
    "sweights = np.flip(sweights,0)\n",
    "sweights = sweights.reshape(-1,sdim)\n",
    "\n",
    "# Visualize\n",
    "create_visualizations(sweights,smap_y,smap_x,idata_chainlink,\n",
    "                      data_title=data_title,\n",
    "                      k_list=_k_list,\n",
    "                      r_list=_r_list)"
   ],
   "metadata": {
    "collapsed": false,
    "pycharm": {
     "name": "#%%\n"
    }
   }
  },
  {
   "cell_type": "markdown",
   "source": [
    "# 10-Clusters Dataset"
   ],
   "metadata": {
    "collapsed": false
   }
  },
  {
   "cell_type": "code",
   "execution_count": 18,
   "outputs": [],
   "source": [
    "# Load and prepare input data\n",
    "ivec = SOMToolBox_Parse('../input/10clusters/10clusters.vec')\n",
    "idata, idim, _, _ = ivec.read_weight_file()\n",
    "idata_chainlink = idata.to_numpy()\n",
    "\n",
    "# Set default parameters\n",
    "_k_list = [1, 2, 3, 4, 20]\n",
    "_r_list = [0.03, 0.09, 0.15, 0.21, 1]"
   ],
   "metadata": {
    "collapsed": false,
    "pycharm": {
     "name": "#%%\n"
    }
   }
  },
  {
   "cell_type": "markdown",
   "source": [
    "## 40x20 Sized Maps"
   ],
   "metadata": {
    "collapsed": false
   }
  },
  {
   "cell_type": "code",
   "execution_count": 19,
   "outputs": [],
   "source": [
    "smap_x=40\n",
    "smap_y=20\n",
    "weights_path = '../input/10clusters/10clusters4020/10clusters.wgt.gz'\n",
    "data_title = \"10-Clusters 40x20\""
   ],
   "metadata": {
    "collapsed": false,
    "pycharm": {
     "name": "#%%\n"
    }
   }
  },
  {
   "cell_type": "markdown",
   "source": [
    "### Train New SOM"
   ],
   "metadata": {
    "collapsed": false
   }
  },
  {
   "cell_type": "code",
   "execution_count": 20,
   "outputs": [],
   "source": [
    "if do_training:\n",
    "    # Train\n",
    "    smap_chainlink = som.MiniSom(smap_y, smap_x, idata_chainlink.shape[1], sigma=7, learning_rate=0.7)\n",
    "    %time smap_chainlink.train_random(idata_chainlink, 10000, verbose=False)\n",
    "    sweights = smap_chainlink._weights.reshape(-1,idim)\n",
    "\n",
    "    # Visualize\n",
    "    create_visualizations(sweights,smap_y,smap_x,idata_chainlink,\n",
    "                          data_title=data_title,\n",
    "                          k_list=_k_list,\n",
    "                          r_list=_r_list)"
   ],
   "metadata": {
    "collapsed": false,
    "pycharm": {
     "name": "#%%\n"
    }
   }
  },
  {
   "cell_type": "markdown",
   "source": [
    "### Load Trained SOM"
   ],
   "metadata": {
    "collapsed": false
   }
  },
  {
   "cell_type": "code",
   "execution_count": 21,
   "outputs": [
    {
     "data": {
      "text/plain": "HBox(children=(FigureWidget({\n    'data': [{'colorscale': [[0.0, '#440154'], [0.1111111111111111, '#482878'],\n…",
      "application/vnd.jupyter.widget-view+json": {
       "version_major": 2,
       "version_minor": 0,
       "model_id": "58baad5234b34f5799a8522f55fcb20c"
      }
     },
     "metadata": {},
     "output_type": "display_data"
    },
    {
     "data": {
      "text/plain": "HBox(children=(FigureWidget({\n    'data': [{'colorscale': [[0.0, '#440154'], [0.1111111111111111, '#482878'],\n…",
      "application/vnd.jupyter.widget-view+json": {
       "version_major": 2,
       "version_minor": 0,
       "model_id": "72d69c6693a84002b0d390f082fc9194"
      }
     },
     "metadata": {},
     "output_type": "display_data"
    },
    {
     "data": {
      "text/plain": "HBox(children=(FigureWidget({\n    'data': [{'colorscale': [[0.0, '#440154'], [0.1111111111111111, '#482878'],\n…",
      "application/vnd.jupyter.widget-view+json": {
       "version_major": 2,
       "version_minor": 0,
       "model_id": "d3369b5e420e48c59321ce47ea2095b9"
      }
     },
     "metadata": {},
     "output_type": "display_data"
    },
    {
     "data": {
      "text/plain": "HBox(children=(FigureWidget({\n    'data': [{'colorscale': [[0.0, '#440154'], [0.1111111111111111, '#482878'],\n…",
      "application/vnd.jupyter.widget-view+json": {
       "version_major": 2,
       "version_minor": 0,
       "model_id": "3bbd33ef8e874d798b6dd22c614d63d2"
      }
     },
     "metadata": {},
     "output_type": "display_data"
    },
    {
     "data": {
      "text/plain": "HBox(children=(FigureWidget({\n    'data': [{'colorscale': [[0.0, '#440154'], [0.1111111111111111, '#482878'],\n…",
      "application/vnd.jupyter.widget-view+json": {
       "version_major": 2,
       "version_minor": 0,
       "model_id": "a09fc66e3b48458da4619742f2a31fb4"
      }
     },
     "metadata": {},
     "output_type": "display_data"
    },
    {
     "data": {
      "text/plain": "HBox(children=(FigureWidget({\n    'data': [{'colorscale': [[0.0, '#440154'], [0.1111111111111111, '#482878'],\n…",
      "application/vnd.jupyter.widget-view+json": {
       "version_major": 2,
       "version_minor": 0,
       "model_id": "e905d990fd6744fbb071fc7a9afdd4f9"
      }
     },
     "metadata": {},
     "output_type": "display_data"
    },
    {
     "data": {
      "text/plain": "HBox(children=(FigureWidget({\n    'data': [{'colorscale': [[0.0, '#440154'], [0.1111111111111111, '#482878'],\n…",
      "application/vnd.jupyter.widget-view+json": {
       "version_major": 2,
       "version_minor": 0,
       "model_id": "8673346a1d154a5084ea7df8a1408446"
      }
     },
     "metadata": {},
     "output_type": "display_data"
    },
    {
     "data": {
      "text/plain": "HBox(children=(FigureWidget({\n    'data': [{'colorscale': [[0.0, '#440154'], [0.1111111111111111, '#482878'],\n…",
      "application/vnd.jupyter.widget-view+json": {
       "version_major": 2,
       "version_minor": 0,
       "model_id": "03f9c9736513462ca14685d4d5783999"
      }
     },
     "metadata": {},
     "output_type": "display_data"
    },
    {
     "data": {
      "text/plain": "HBox(children=(FigureWidget({\n    'data': [{'colorscale': [[0.0, '#440154'], [0.1111111111111111, '#482878'],\n…",
      "application/vnd.jupyter.widget-view+json": {
       "version_major": 2,
       "version_minor": 0,
       "model_id": "8120bb88f538497ba8974cbcb501cebb"
      }
     },
     "metadata": {},
     "output_type": "display_data"
    },
    {
     "data": {
      "text/plain": "HBox(children=(FigureWidget({\n    'data': [{'colorscale': [[0.0, '#440154'], [0.1111111111111111, '#482878'],\n…",
      "application/vnd.jupyter.widget-view+json": {
       "version_major": 2,
       "version_minor": 0,
       "model_id": "9a9eb865925241b5b05e68daebde698d"
      }
     },
     "metadata": {},
     "output_type": "display_data"
    }
   ],
   "source": [
    "# Load\n",
    "smap_chainlink_from_file = SOMToolBox_Parse(weights_path)\n",
    "sweights, sdim, smap_x, smap_y = smap_chainlink_from_file.read_weight_file()\n",
    "\n",
    "# Fix orientation\n",
    "sweights = sweights.values.reshape(smap_y,smap_x,sdim)\n",
    "sweights = np.flip(sweights,0)\n",
    "sweights = sweights.reshape(-1,sdim)\n",
    "\n",
    "# Visualize\n",
    "create_visualizations(sweights,smap_y,smap_x,idata_chainlink,\n",
    "                      data_title=data_title,\n",
    "                      k_list=_k_list,\n",
    "                      r_list=_r_list)"
   ],
   "metadata": {
    "collapsed": false,
    "pycharm": {
     "name": "#%%\n"
    }
   }
  },
  {
   "cell_type": "markdown",
   "source": [
    "## 100x60 Sized Map"
   ],
   "metadata": {
    "collapsed": false
   }
  },
  {
   "cell_type": "code",
   "execution_count": 22,
   "outputs": [],
   "source": [
    "smap_x=100\n",
    "smap_y=60\n",
    "weights_path = '../input/10clusters/10clusters10060/10clusters.wgt.gz'\n",
    "data_title = \"10-Clusters 100x60\""
   ],
   "metadata": {
    "collapsed": false,
    "pycharm": {
     "name": "#%%\n"
    }
   }
  },
  {
   "cell_type": "markdown",
   "source": [
    "### Train New SOM"
   ],
   "metadata": {
    "collapsed": false
   }
  },
  {
   "cell_type": "code",
   "execution_count": 23,
   "outputs": [],
   "source": [
    "# Train\n",
    "if do_training:\n",
    "    # Train\n",
    "    smap_chainlink = som.MiniSom(smap_y, smap_x, idata_chainlink.shape[1], sigma=7, learning_rate=0.7)\n",
    "    %time smap_chainlink.train_random(idata_chainlink, 10000, verbose=False)\n",
    "    sweights = smap_chainlink._weights.reshape(-1,idim)\n",
    "\n",
    "    # Visualize\n",
    "    create_visualizations(sweights,smap_y,smap_x,idata_chainlink,\n",
    "                          data_title=data_title,\n",
    "                          k_list=_k_list,\n",
    "                          r_list=_r_list)"
   ],
   "metadata": {
    "collapsed": false,
    "pycharm": {
     "name": "#%%\n"
    }
   }
  },
  {
   "cell_type": "markdown",
   "source": [
    "### Load Trained SOM"
   ],
   "metadata": {
    "collapsed": false
   }
  },
  {
   "cell_type": "code",
   "execution_count": null,
   "outputs": [
    {
     "data": {
      "text/plain": "HBox(children=(FigureWidget({\n    'data': [{'colorscale': [[0.0, '#440154'], [0.1111111111111111, '#482878'],\n…",
      "application/vnd.jupyter.widget-view+json": {
       "version_major": 2,
       "version_minor": 0,
       "model_id": "8ad867c4588a4ef7a97d8216e54e28ba"
      }
     },
     "metadata": {},
     "output_type": "display_data"
    }
   ],
   "source": [
    "# Load\n",
    "smap_chainlink_from_file = SOMToolBox_Parse(weights_path)\n",
    "sweights, sdim, smap_x, smap_y = smap_chainlink_from_file.read_weight_file()\n",
    "\n",
    "# Fix orientation\n",
    "sweights = sweights.values.reshape(smap_y,smap_x,sdim)\n",
    "sweights = np.flip(sweights,0)\n",
    "sweights = sweights.reshape(-1,sdim)\n",
    "\n",
    "# Visualize\n",
    "create_visualizations(sweights,smap_y,smap_x,idata_chainlink,\n",
    "                      data_title=data_title,\n",
    "                      k_list=_k_list,\n",
    "                      r_list=_r_list)\n"
   ],
   "metadata": {
    "collapsed": false,
    "pycharm": {
     "name": "#%%\n",
     "is_executing": true
    }
   }
  }
 ],
 "metadata": {
  "kernelspec": {
   "name": "pycharm-51fc216",
   "language": "python",
   "display_name": "PyCharm (sos_ex3_MASTER)"
  },
  "language_info": {
   "codemirror_mode": {
    "name": "ipython",
    "version": 2
   },
   "file_extension": ".py",
   "mimetype": "text/x-python",
   "name": "python",
   "nbconvert_exporter": "python",
   "pygments_lexer": "ipython2",
   "version": "2.7.6"
  }
 },
 "nbformat": 4,
 "nbformat_minor": 0
}