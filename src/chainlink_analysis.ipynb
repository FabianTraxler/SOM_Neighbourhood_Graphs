{
 "cells": [
  {
   "cell_type": "markdown",
   "metadata": {
    "pycharm": {
     "name": "#%% md\n"
    }
   },
   "source": [
    "SOS2020_ExSOM-C_group12_1553958_01126793\n",
    "\n",
    "# C) Evaluation Report - Chainlink Dataset\n",
    "\n",
    "## Overview\n",
    "We trained and loaded 40x20 and 100x60 maps and visualized the results as overlay over U-matrices.\n",
    "We used the following parameters for Neighbourhood Graphs:\n",
    "  * k-NN: [1, 5, 20]\n",
    "  * Radius: [0.03, 0.1, 0.2, 0.5]"
   ]
  },
  {
   "cell_type": "code",
   "execution_count": 23,
   "metadata": {
    "pycharm": {
     "name": "#%%\n"
    }
   },
   "outputs": [],
   "source": [
    "import numpy as np\n",
    "import minisom as som\n",
    "from IPython.core.display import display\n",
    "from ipywidgets import HBox\n",
    "from sklearn import datasets, preprocessing\n",
    "\n",
    "from NeighbourhoodGraph import NeighbourhoodGraph\n",
    "from som_vis import SomViz, SOMToolBox_Parse\n",
    "from src.util import create_visualizations\n",
    "\n",
    "import plotly.io as pio\n",
    "pio.renderers.default = \"notebook+pdf\""
   ]
  },
  {
   "cell_type": "code",
   "execution_count": 24,
   "metadata": {
    "pycharm": {
     "name": "#%%\n"
    }
   },
   "outputs": [],
   "source": [
    "# Set this parameter to False to run Notebook without training new SOMs\n",
    "do_training = True\n",
    "\n",
    "# Set this parameter to False to run Notebook without loading pretrained SOMs\n",
    "do_loading = True\n",
    "\n",
    "# Set plots_save_dir to None if you do not want to save plots\n",
    "plots_save_dir = \"../plots/\"\n",
    "plots_save_file_type = \"png\"\n",
    "\n",
    "#\n",
    "display_mode = True\n",
    "\n",
    "# Set"
   ]
  },
  {
   "cell_type": "markdown",
   "metadata": {},
   "source": [
    "### Load and prepare input data"
   ]
  },
  {
   "cell_type": "code",
   "execution_count": 25,
   "metadata": {
    "pycharm": {
     "name": "#%%\n"
    }
   },
   "outputs": [],
   "source": [
    "ivec = SOMToolBox_Parse('../input/chainlink/chainlink.vec')\n",
    "idata, idim, _, _ = ivec.read_weight_file()\n",
    "idata = idata.to_numpy()"
   ]
  },
  {
   "cell_type": "markdown",
   "metadata": {
    "pycharm": {
     "name": "#%% md\n"
    }
   },
   "source": [
    "## 40x20 Sized Maps"
   ]
  },
  {
   "cell_type": "code",
   "execution_count": 26,
   "metadata": {
    "pycharm": {
     "name": "#%%\n"
    }
   },
   "outputs": [],
   "source": [
    "smap_x=40\n",
    "smap_y=20\n",
    "weights_path = '../input/chainlink/chainlink4020/chainlink.wgt.gz'\n",
    "data_title = \"Chainlink 40x20\"\n",
    "\n",
    "_k_list = [1, 5, 20]\n",
    "_r_list = [0.03, 0.1, 0.2, 0.5]"
   ]
  },
  {
   "cell_type": "markdown",
   "metadata": {},
   "source": [
    "### Train New SOM"
   ]
  },
  {
   "cell_type": "code",
   "execution_count": 27,
   "metadata": {
    "pycharm": {
     "name": "#%%\n"
    }
   },
   "outputs": [
    {
     "name": "stdout",
     "output_type": "stream",
     "text": [
      "Wall time: 1min 21s\n"
     ]
    }
   ],
   "source": [
    "if do_training:\n",
    "    # Train\n",
    "    smap_small = som.MiniSom(smap_y, smap_x, idata.shape[1], sigma=7, learning_rate=0.7)\n",
    "    %time smap_small.train_random(idata, 10000, verbose=False)"
   ]
  },
  {
   "cell_type": "code",
   "execution_count": 28,
   "metadata": {
    "pycharm": {
     "name": "#%%\n"
    }
   },
   "outputs": [
    {
     "data": {
      "text/plain": "FigureWidget({\n    'data': [{'colorscale': [[0.0, '#440154'], [0.1111111111111111, '#482878'],\n               …",
      "application/vnd.jupyter.widget-view+json": {
       "version_major": 2,
       "version_minor": 0,
       "model_id": "9c565d4699994de4a29ef93716f3de08"
      }
     },
     "metadata": {},
     "output_type": "display_data"
    },
    {
     "data": {
      "text/plain": "FigureWidget({\n    'data': [{'colorscale': [[0.0, '#440154'], [0.1111111111111111, '#482878'],\n               …",
      "application/vnd.jupyter.widget-view+json": {
       "version_major": 2,
       "version_minor": 0,
       "model_id": "415fbb8dfb53411d9b05dee851353b4b"
      }
     },
     "metadata": {},
     "output_type": "display_data"
    },
    {
     "data": {
      "text/plain": "FigureWidget({\n    'data': [{'colorscale': [[0.0, '#440154'], [0.1111111111111111, '#482878'],\n               …",
      "application/vnd.jupyter.widget-view+json": {
       "version_major": 2,
       "version_minor": 0,
       "model_id": "4e0be328cae04284a972beeb52c08045"
      }
     },
     "metadata": {},
     "output_type": "display_data"
    },
    {
     "data": {
      "text/plain": "FigureWidget({\n    'data': [{'colorscale': [[0.0, '#440154'], [0.1111111111111111, '#482878'],\n               …",
      "application/vnd.jupyter.widget-view+json": {
       "version_major": 2,
       "version_minor": 0,
       "model_id": "46b60adbb02c46aa8be02df0f0f56fa7"
      }
     },
     "metadata": {},
     "output_type": "display_data"
    },
    {
     "data": {
      "text/plain": "FigureWidget({\n    'data': [{'colorscale': [[0.0, '#440154'], [0.1111111111111111, '#482878'],\n               …",
      "application/vnd.jupyter.widget-view+json": {
       "version_major": 2,
       "version_minor": 0,
       "model_id": "6d5cc070d9a6471aac8ce6552ba96170"
      }
     },
     "metadata": {},
     "output_type": "display_data"
    },
    {
     "data": {
      "text/plain": "FigureWidget({\n    'data': [{'colorscale': [[0.0, '#440154'], [0.1111111111111111, '#482878'],\n               …",
      "application/vnd.jupyter.widget-view+json": {
       "version_major": 2,
       "version_minor": 0,
       "model_id": "167d74d22fcf4a35bd57ad27eb400d98"
      }
     },
     "metadata": {},
     "output_type": "display_data"
    },
    {
     "data": {
      "text/plain": "FigureWidget({\n    'data': [{'colorscale': [[0.0, '#440154'], [0.1111111111111111, '#482878'],\n               …",
      "application/vnd.jupyter.widget-view+json": {
       "version_major": 2,
       "version_minor": 0,
       "model_id": "89ef295b0a4f4b57b450a9f07f6c7132"
      }
     },
     "metadata": {},
     "output_type": "display_data"
    }
   ],
   "source": [
    "if do_training:\n",
    "    # Visualize\n",
    "    sweights = smap_small._weights.reshape(-1,idim)\n",
    "    create_visualizations(sweights,smap_y,smap_x,idata,\n",
    "                          data_title=data_title + \" Trained\",\n",
    "                          k_list=_k_list,\n",
    "                          r_list=_r_list,\n",
    "                          save_dir=plots_save_dir,\n",
    "                          save_file_type=plots_save_file_type,\n",
    "                          display_mode=display_mode)"
   ]
  },
  {
   "cell_type": "markdown",
   "metadata": {},
   "source": [
    "### Load Trained SOM"
   ]
  },
  {
   "cell_type": "code",
   "execution_count": 29,
   "metadata": {
    "pycharm": {
     "name": "#%%\n"
    },
    "scrolled": false
   },
   "outputs": [
    {
     "data": {
      "text/plain": "FigureWidget({\n    'data': [{'colorscale': [[0.0, '#440154'], [0.1111111111111111, '#482878'],\n               …",
      "application/vnd.jupyter.widget-view+json": {
       "version_major": 2,
       "version_minor": 0,
       "model_id": "88315b00d27f413ba04295790328454e"
      }
     },
     "metadata": {},
     "output_type": "display_data"
    },
    {
     "data": {
      "text/plain": "FigureWidget({\n    'data': [{'colorscale': [[0.0, '#440154'], [0.1111111111111111, '#482878'],\n               …",
      "application/vnd.jupyter.widget-view+json": {
       "version_major": 2,
       "version_minor": 0,
       "model_id": "caa01ddeb93645debbac304a2afceb9d"
      }
     },
     "metadata": {},
     "output_type": "display_data"
    },
    {
     "data": {
      "text/plain": "FigureWidget({\n    'data': [{'colorscale': [[0.0, '#440154'], [0.1111111111111111, '#482878'],\n               …",
      "application/vnd.jupyter.widget-view+json": {
       "version_major": 2,
       "version_minor": 0,
       "model_id": "53134ddf2b2244089068c64e99dd2e22"
      }
     },
     "metadata": {},
     "output_type": "display_data"
    },
    {
     "data": {
      "text/plain": "FigureWidget({\n    'data': [{'colorscale': [[0.0, '#440154'], [0.1111111111111111, '#482878'],\n               …",
      "application/vnd.jupyter.widget-view+json": {
       "version_major": 2,
       "version_minor": 0,
       "model_id": "c6511f4680a94e0481f6e04c867cf5a2"
      }
     },
     "metadata": {},
     "output_type": "display_data"
    },
    {
     "data": {
      "text/plain": "FigureWidget({\n    'data': [{'colorscale': [[0.0, '#440154'], [0.1111111111111111, '#482878'],\n               …",
      "application/vnd.jupyter.widget-view+json": {
       "version_major": 2,
       "version_minor": 0,
       "model_id": "b6a3cacf65834360b6d3e12fa9b7e0b4"
      }
     },
     "metadata": {},
     "output_type": "display_data"
    },
    {
     "data": {
      "text/plain": "FigureWidget({\n    'data': [{'colorscale': [[0.0, '#440154'], [0.1111111111111111, '#482878'],\n               …",
      "application/vnd.jupyter.widget-view+json": {
       "version_major": 2,
       "version_minor": 0,
       "model_id": "62f4621eff414120a9e19a774892ec77"
      }
     },
     "metadata": {},
     "output_type": "display_data"
    },
    {
     "data": {
      "text/plain": "FigureWidget({\n    'data': [{'colorscale': [[0.0, '#440154'], [0.1111111111111111, '#482878'],\n               …",
      "application/vnd.jupyter.widget-view+json": {
       "version_major": 2,
       "version_minor": 0,
       "model_id": "c1d3f84cb7874512bed9e717664eba35"
      }
     },
     "metadata": {},
     "output_type": "display_data"
    }
   ],
   "source": [
    "if do_loading:\n",
    "    # Load\n",
    "    smap_small_loaded = SOMToolBox_Parse(weights_path)\n",
    "    sweights, sdim, smap_x, smap_y = smap_small_loaded.read_weight_file()\n",
    "\n",
    "    # Fix orientation\n",
    "    sweights = sweights.values.reshape(smap_y,smap_x,sdim)\n",
    "    sweights = np.flip(sweights,0)\n",
    "    sweights = sweights.reshape(-1,sdim)\n",
    "\n",
    "    # Visualize\n",
    "    create_visualizations(sweights,smap_y,smap_x,idata,\n",
    "                          data_title=data_title + \" Loaded\",\n",
    "                          k_list=_k_list,\n",
    "                          r_list=_r_list,\n",
    "                          save_dir=plots_save_dir,\n",
    "                          save_file_type=plots_save_file_type,\n",
    "                          display_mode=display_mode)\n"
   ]
  },
  {
   "cell_type": "markdown",
   "metadata": {},
   "source": [
    "## 100x60 Sized Map"
   ]
  },
  {
   "cell_type": "code",
   "execution_count": 30,
   "metadata": {
    "pycharm": {
     "name": "#%%\n"
    }
   },
   "outputs": [],
   "source": [
    "smap_x=100\n",
    "smap_y=60\n",
    "weights_path = '../input/chainlink/chainlink10060/chainlink.wgt.gz'\n",
    "data_title = \"Chainlink 100x60\"\n",
    "\n",
    "_k_list = [1, 5, 20]\n",
    "_r_list = [0.03, 0.1, 0.2, 0.5]"
   ]
  },
  {
   "cell_type": "markdown",
   "metadata": {},
   "source": [
    "### Train New SOM"
   ]
  },
  {
   "cell_type": "code",
   "execution_count": 31,
   "metadata": {
    "pycharm": {
     "name": "#%%\n"
    }
   },
   "outputs": [
    {
     "name": "stdout",
     "output_type": "stream",
     "text": [
      "Wall time: 10min 54s\n"
     ]
    }
   ],
   "source": [
    "# Train\n",
    "if do_training:\n",
    "    # Train\n",
    "    smap_big = som.MiniSom(smap_y, smap_x, idata.shape[1], sigma=7, learning_rate=0.7)\n",
    "    %time smap_big.train_random(idata, 10000, verbose=False)"
   ]
  },
  {
   "cell_type": "code",
   "execution_count": 32,
   "metadata": {
    "pycharm": {
     "name": "#%%\n"
    }
   },
   "outputs": [
    {
     "data": {
      "text/plain": "FigureWidget({\n    'data': [{'colorscale': [[0.0, '#440154'], [0.1111111111111111, '#482878'],\n               …",
      "application/vnd.jupyter.widget-view+json": {
       "version_major": 2,
       "version_minor": 0,
       "model_id": "46ac840bbcba4ce5a39b31c999a91e05"
      }
     },
     "metadata": {},
     "output_type": "display_data"
    },
    {
     "data": {
      "text/plain": "FigureWidget({\n    'data': [{'colorscale': [[0.0, '#440154'], [0.1111111111111111, '#482878'],\n               …",
      "application/vnd.jupyter.widget-view+json": {
       "version_major": 2,
       "version_minor": 0,
       "model_id": "e8472b0242134fb2ac6842e6d7972215"
      }
     },
     "metadata": {},
     "output_type": "display_data"
    },
    {
     "data": {
      "text/plain": "FigureWidget({\n    'data': [{'colorscale': [[0.0, '#440154'], [0.1111111111111111, '#482878'],\n               …",
      "application/vnd.jupyter.widget-view+json": {
       "version_major": 2,
       "version_minor": 0,
       "model_id": "f209e801af174318acdb89b2e900e924"
      }
     },
     "metadata": {},
     "output_type": "display_data"
    },
    {
     "data": {
      "text/plain": "FigureWidget({\n    'data': [{'colorscale': [[0.0, '#440154'], [0.1111111111111111, '#482878'],\n               …",
      "application/vnd.jupyter.widget-view+json": {
       "version_major": 2,
       "version_minor": 0,
       "model_id": "61e2613f87804c3babd68c89b901f5f8"
      }
     },
     "metadata": {},
     "output_type": "display_data"
    },
    {
     "data": {
      "text/plain": "FigureWidget({\n    'data': [{'colorscale': [[0.0, '#440154'], [0.1111111111111111, '#482878'],\n               …",
      "application/vnd.jupyter.widget-view+json": {
       "version_major": 2,
       "version_minor": 0,
       "model_id": "216a1be07f814e21a04d2552a4c54ce1"
      }
     },
     "metadata": {},
     "output_type": "display_data"
    },
    {
     "data": {
      "text/plain": "FigureWidget({\n    'data': [{'colorscale': [[0.0, '#440154'], [0.1111111111111111, '#482878'],\n               …",
      "application/vnd.jupyter.widget-view+json": {
       "version_major": 2,
       "version_minor": 0,
       "model_id": "ddb55aacf8d24b2da3c87c641398a918"
      }
     },
     "metadata": {},
     "output_type": "display_data"
    },
    {
     "data": {
      "text/plain": "FigureWidget({\n    'data': [{'colorscale': [[0.0, '#440154'], [0.1111111111111111, '#482878'],\n               …",
      "application/vnd.jupyter.widget-view+json": {
       "version_major": 2,
       "version_minor": 0,
       "model_id": "630458e0831345d6b4bb4414b061e353"
      }
     },
     "metadata": {},
     "output_type": "display_data"
    }
   ],
   "source": [
    "if do_training:\n",
    "    # Visualize\n",
    "    sweights = smap_big._weights.reshape(-1,idim)\n",
    "    create_visualizations(sweights,smap_y,smap_x,idata,\n",
    "                          data_title=data_title + \" Trained\",\n",
    "                          k_list=_k_list,\n",
    "                          r_list=_r_list,\n",
    "                          save_dir=plots_save_dir,\n",
    "                          save_file_type=plots_save_file_type,\n",
    "                          display_mode=display_mode)"
   ]
  },
  {
   "cell_type": "markdown",
   "metadata": {},
   "source": [
    "### Load Trained SOM"
   ]
  },
  {
   "cell_type": "code",
   "execution_count": 33,
   "metadata": {
    "pycharm": {
     "name": "#%%\n"
    },
    "scrolled": false
   },
   "outputs": [
    {
     "data": {
      "text/plain": "FigureWidget({\n    'data': [{'colorscale': [[0.0, '#440154'], [0.1111111111111111, '#482878'],\n               …",
      "application/vnd.jupyter.widget-view+json": {
       "version_major": 2,
       "version_minor": 0,
       "model_id": "73d8d26926dd41e5b99691aea284720f"
      }
     },
     "metadata": {},
     "output_type": "display_data"
    },
    {
     "data": {
      "text/plain": "FigureWidget({\n    'data': [{'colorscale': [[0.0, '#440154'], [0.1111111111111111, '#482878'],\n               …",
      "application/vnd.jupyter.widget-view+json": {
       "version_major": 2,
       "version_minor": 0,
       "model_id": "ee77b4b250fa4df1baa0ae94b033f43b"
      }
     },
     "metadata": {},
     "output_type": "display_data"
    },
    {
     "data": {
      "text/plain": "FigureWidget({\n    'data': [{'colorscale': [[0.0, '#440154'], [0.1111111111111111, '#482878'],\n               …",
      "application/vnd.jupyter.widget-view+json": {
       "version_major": 2,
       "version_minor": 0,
       "model_id": "863f5614b3a8418ebe05eed1106d168b"
      }
     },
     "metadata": {},
     "output_type": "display_data"
    },
    {
     "data": {
      "text/plain": "FigureWidget({\n    'data': [{'colorscale': [[0.0, '#440154'], [0.1111111111111111, '#482878'],\n               …",
      "application/vnd.jupyter.widget-view+json": {
       "version_major": 2,
       "version_minor": 0,
       "model_id": "469beb61694046e5a4d9588b7617814d"
      }
     },
     "metadata": {},
     "output_type": "display_data"
    },
    {
     "data": {
      "text/plain": "FigureWidget({\n    'data': [{'colorscale': [[0.0, '#440154'], [0.1111111111111111, '#482878'],\n               …",
      "application/vnd.jupyter.widget-view+json": {
       "version_major": 2,
       "version_minor": 0,
       "model_id": "93f989fc392b4d9dbd4d56e75a6e5a92"
      }
     },
     "metadata": {},
     "output_type": "display_data"
    },
    {
     "data": {
      "text/plain": "FigureWidget({\n    'data': [{'colorscale': [[0.0, '#440154'], [0.1111111111111111, '#482878'],\n               …",
      "application/vnd.jupyter.widget-view+json": {
       "version_major": 2,
       "version_minor": 0,
       "model_id": "c7013b65efc443328db9afecf845dedc"
      }
     },
     "metadata": {},
     "output_type": "display_data"
    },
    {
     "data": {
      "text/plain": "FigureWidget({\n    'data': [{'colorscale': [[0.0, '#440154'], [0.1111111111111111, '#482878'],\n               …",
      "application/vnd.jupyter.widget-view+json": {
       "version_major": 2,
       "version_minor": 0,
       "model_id": "cea74d67fac94f44a8108135455bc04c"
      }
     },
     "metadata": {},
     "output_type": "display_data"
    }
   ],
   "source": [
    "if do_loading:\n",
    "    # Load\n",
    "    smap_big_loaded = SOMToolBox_Parse(weights_path)\n",
    "    sweights, sdim, smap_x, smap_y = smap_big_loaded.read_weight_file()\n",
    "\n",
    "    # Fix orientation\n",
    "    sweights = sweights.values.reshape(smap_y,smap_x,sdim)\n",
    "    sweights = np.flip(sweights,0)\n",
    "    sweights = sweights.reshape(-1,sdim)\n",
    "\n",
    "    # Visualize\n",
    "    create_visualizations(sweights,smap_y,smap_x,idata,\n",
    "                          data_title=data_title + \" Loaded\",\n",
    "                          k_list=_k_list,\n",
    "                          r_list=_r_list,\n",
    "                          save_dir=plots_save_dir,\n",
    "                          save_file_type=plots_save_file_type,\n",
    "                          display_mode=display_mode)"
   ]
  },
  {
   "cell_type": "markdown",
   "metadata": {
    "pycharm": {
     "name": "#%% md\n"
    }
   },
   "source": [
    "### Results - Comparison & Analysis\n",
    "\n",
    "\n",
    "Comparing our visualization of the loaded weights with the graph created using the SOMToolbox,\n",
    "we can see that our Neighbourhood Graph implementation performs as expected\n",
    "for both SOM sizes and both neighbourhood approaches:\n",
    "\n",
    "<img src=\"../plots/Chainlink 40x20 Loaded_umatrix_neighbourhoodgraph--knn-1.png\" width=\"600\">\n",
    "<center>Chainlink 40x20: Neighbourhood Graph (1-NN), using SOMToolBox:</center>\n",
    "<img src=\"../input/chainlink/chainlink4020/SOMToolbox Vis/NeighbourhoodKnn__key=1.png\" width=\"500\">\n",
    "\n",
    "<img src=\"../plots/Chainlink 40x20 Loaded_umatrix_neighbourhoodgraph--rad-0.1.png\" width=\"600\">\n",
    "<center>Chainlink 40x20: Neighbourhood Graph (radius: 0.1), using SOMToolBox:</center>\n",
    "<img src=\"../input/chainlink/chainlink4020/SOMToolbox Vis/NeighbourhoodRadius__radius=0.1.png\" width=\"500\">\n",
    "\n",
    "<img src=\"../plots/Chainlink 100x60 Loaded_umatrix_neighbourhoodgraph--knn-1.png\" width=\"600\">\n",
    "<center>Chainlink 100x60: Neighbourhood Graph (1-NN), using SOMToolBox:</center>\n",
    "<img src=\"../input/chainlink/chainlink10060/SOMToolbox Vis/NeighbourhoodKnn__key=1.png\" width=\"500\">\n",
    "\n",
    "<img src=\"../plots/Chainlink 100x60 Loaded_umatrix_neighbourhoodgraph--rad-0.1.png\" width=\"600\">\n",
    "<center>Chainlink 100x60: Neighbourhood Graph (radius: 0.1), using SOMToolBox:</center>\n",
    "<img src=\"../input/chainlink/chainlink10060/SOMToolbox Vis/NeighbourhoodRadius__radius=0.1.png\" width=\"500\">\n",
    "\n",
    "Trying out \"extreme\" neighbourhood parameters (20-NN, 0.5 radius) also results in expected behaviour.\n",
    "Setting the radius to 1 results in an almost completely white image.\n",
    "\n",
    "[Option do not match]\n",
    "The two SOMs we trained do not match the provided weights, which was to be expected.\n",
    "\n",
    "[Option DO match]\n",
    "The two SOMs we trained match the provided weights surprisingly well.\n",
    "The overlaying Neighbourhood Graph indicates the topology violations that are expected from the Chainlink dataset.\n",
    "\n",
    "<img src=\"../plots/Chainlink 40x20 Trained_umatrix_neighbourhoodgraph--knn-1\" width=\"600\">\n",
    "<img src=\"../plots/Chainlink 100x60 Trained_umatrix_neighbourhoodgraph--knn-1.png\" width=\"600\">\n",
    "\n"
   ]
  },
  {
   "cell_type": "code",
   "execution_count": 33,
   "outputs": [],
   "source": [],
   "metadata": {
    "collapsed": false,
    "pycharm": {
     "name": "#%%\n"
    }
   }
  }
 ],
 "metadata": {
  "kernelspec": {
   "display_name": "PyCharm (sos_ex3_MASTER)",
   "language": "python",
   "name": "pycharm-51fc216"
  },
  "language_info": {
   "codemirror_mode": {
    "name": "ipython",
    "version": 3
   },
   "file_extension": ".py",
   "mimetype": "text/x-python",
   "name": "python",
   "nbconvert_exporter": "python",
   "pygments_lexer": "ipython3",
   "version": "3.7.9"
  }
 },
 "nbformat": 4,
 "nbformat_minor": 1
}