{
 "cells": [
  {
   "cell_type": "markdown",
   "source": [
    "SOS2020_ExSOM-C_group12_1553958_01126793\n",
    "# C) Evaluation Report\n",
    "\n",
    "todo: intro\n",
    "\n",
    "## Overview\n",
    "We trained and loaded 40x20 and 100x60 maps and visualized the results as overlay over U-matrices\n",
    "We used the following parameters for Neighbourhood Graphs:\n",
    "* Chainlink Dataset - 40x20\n",
    "   * k-NN: 1, 2, 3, 4, 20\n",
    "   * Radius: 0.03, 0.09, 0.15, 0.21, 1\n",
    "* Chainlink Dataset - 100x60\n",
    "   * k-NN:\n",
    "   * Radius:\n",
    "\n",
    "* 10-Clusters Dataset - 40x20\n",
    "   * k-NN:\n",
    "   * Radius:\n",
    "* 10-Clusters Dataset - 100x60\n",
    "   * k-NN:\n",
    "   * Radius:"
   ],
   "metadata": {
    "collapsed": false,
    "pycharm": {
     "name": "#%% md\n"
    }
   }
  },
  {
   "cell_type": "code",
   "execution_count": 37,
   "outputs": [],
   "source": [
    "import numpy as np\n",
    "import minisom as som\n",
    "from IPython.core.display import display\n",
    "from ipywidgets import HBox\n",
    "from sklearn import datasets, preprocessing\n",
    "\n",
    "from src.NeighbourhoodGraph import NeighbourhoodGraph\n",
    "from src.som_vis import SomViz, SOMToolBox_Parse"
   ],
   "metadata": {
    "collapsed": false,
    "pycharm": {
     "name": "#%%\n"
    }
   }
  },
  {
   "cell_type": "code",
   "execution_count": 38,
   "outputs": [],
   "source": [
    "# Set this parameter to False to run Notebook without training new SOMs\n",
    "do_training = False\n"
   ],
   "metadata": {
    "collapsed": false,
    "pycharm": {
     "name": "#%%\n"
    }
   }
  },
  {
   "cell_type": "code",
   "execution_count": 39,
   "outputs": [],
   "source": [
    "def create_visualizations(sweights, smap_y:int, smap_x:int, idata,\n",
    "                          color='viridis', interp=False, data_title='Chainlink',\n",
    "                          k_list = [1,2,3,4],\n",
    "                          r_list = [0.03,0.09,0.15,0.21],\n",
    "                          width = 700, height = None,\n",
    "                          scale_to_mean = False,\n",
    "                          show_hithist = False):\n",
    "    # Visualization\n",
    "    viz = SomViz(sweights, smap_y, smap_x)\n",
    "\n",
    "    if scale_to_mean: # scale radii to input data\n",
    "        r_list = np.around(np.mean(idata)*np.array(r_list), decimals=8)\n",
    "\n",
    "    if height is None: height = width * (smap_y/smap_x)\n",
    "\n",
    "    # Prepare Neighbourhood Graph\n",
    "    ng = NeighbourhoodGraph(viz.weights, viz.m, viz.n, input_data=idata)\n",
    "    traces = []\n",
    "    for val in k_list:\n",
    "        traces.append(ng.get_trace(knn=val))\n",
    "    for val in r_list:\n",
    "        traces.append(ng.get_trace(radius=val))\n",
    "\n",
    "    # Prepare underlying visualizations\n",
    "    umatrix_title = '{}: U-Matrix'.format(data_title)\n",
    "    hithist_title = '{}: Hit hist'.format(data_title)\n",
    "\n",
    "    # Show underlying visualizations with Neighbourhood Graph overlay\n",
    "    for i, trace in enumerate(traces):\n",
    "        if i < len(k_list):\n",
    "            title_suffix = \" + Neighbourhood Graph ({}-NN)\".format(k_list[i])\n",
    "        else:\n",
    "            title_suffix = \" + Neighbourhood Graph (radius: {})\".format(r_list[i-len(k_list)])\n",
    "\n",
    "        umatrix = viz.umatrix(color=color, interp=interp, title=umatrix_title + title_suffix)\n",
    "        umatrix.layout.width = width\n",
    "        umatrix.layout.height = height\n",
    "        umatrix.add_trace(trace)\n",
    "\n",
    "        if show_hithist:\n",
    "            hithist = viz.hithist(idata=idata, color=color, interp=interp, title=hithist_title + title_suffix)\n",
    "            hithist.layout.width = width\n",
    "            hithist.layout.height = height\n",
    "            hithist.add_trace(trace)\n",
    "\n",
    "            display(HBox([umatrix, hithist]))\n",
    "        else:\n",
    "            display(umatrix)"
   ],
   "metadata": {
    "collapsed": false,
    "pycharm": {
     "name": "#%%\n"
    }
   }
  },
  {
   "cell_type": "markdown",
   "source": [
    "# Chainlink Dataset"
   ],
   "metadata": {
    "collapsed": false
   }
  },
  {
   "cell_type": "code",
   "execution_count": 40,
   "outputs": [],
   "source": [
    "# Load and prepare input data\n",
    "ivec = SOMToolBox_Parse('../input/chainlink/chainlink.vec')\n",
    "idata, idim, _, _ = ivec.read_weight_file()\n",
    "idata_chainlink = idata.to_numpy()"
   ],
   "metadata": {
    "collapsed": false,
    "pycharm": {
     "name": "#%%\n"
    }
   }
  },
  {
   "cell_type": "markdown",
   "source": [
    "## 40x20 Sized Maps"
   ],
   "metadata": {
    "collapsed": false,
    "pycharm": {
     "name": "#%% md\n"
    }
   }
  },
  {
   "cell_type": "code",
   "execution_count": 41,
   "outputs": [],
   "source": [
    "smap_x=40\n",
    "smap_y=20\n",
    "weights_path = '../input/chainlink/chainlink4020/chainlink.wgt.gz'\n",
    "data_title = \"Chainlink 40x20\"\n",
    "\n",
    "_k_list = [1, 2, 3, 4, 20]\n",
    "_r_list = [0.03, 0.09, 0.15, 0.21, 1]"
   ],
   "metadata": {
    "collapsed": false,
    "pycharm": {
     "name": "#%%\n"
    }
   }
  },
  {
   "cell_type": "markdown",
   "source": [
    "### Train New SOM"
   ],
   "metadata": {
    "collapsed": false
   }
  },
  {
   "cell_type": "code",
   "execution_count": 42,
   "outputs": [],
   "source": [
    "if do_training:\n",
    "    # Train\n",
    "    smap_chainlink = som.MiniSom(smap_y, smap_x, idata_chainlink.shape[1], sigma=7, learning_rate=0.7)\n",
    "    %time smap_chainlink.train_random(idata_chainlink, 10000, verbose=False)\n",
    "    sweights = smap_chainlink._weights.reshape(-1,idim)\n",
    "\n",
    "    # Visualize\n",
    "    create_visualizations(sweights,smap_y,smap_x,idata_chainlink,\n",
    "                          data_title=data_title + \" Trained\",\n",
    "                          k_list=_k_list,\n",
    "                          r_list=_r_list)"
   ],
   "metadata": {
    "collapsed": false,
    "pycharm": {
     "name": "#%%\n"
    }
   }
  },
  {
   "cell_type": "markdown",
   "source": [
    "### Load Trained SOM"
   ],
   "metadata": {
    "collapsed": false
   }
  },
  {
   "cell_type": "code",
   "execution_count": 43,
   "outputs": [
    {
     "data": {
      "text/plain": "FigureWidget({\n    'data': [{'colorscale': [[0.0, '#440154'], [0.1111111111111111, '#482878'],\n               …",
      "application/vnd.jupyter.widget-view+json": {
       "version_major": 2,
       "version_minor": 0,
       "model_id": "d4dc1e1d06754a6094f6d96106d499aa"
      }
     },
     "metadata": {},
     "output_type": "display_data"
    },
    {
     "data": {
      "text/plain": "FigureWidget({\n    'data': [{'colorscale': [[0.0, '#440154'], [0.1111111111111111, '#482878'],\n               …",
      "application/vnd.jupyter.widget-view+json": {
       "version_major": 2,
       "version_minor": 0,
       "model_id": "c7589e14f12343ea93d32dea48e80e6c"
      }
     },
     "metadata": {},
     "output_type": "display_data"
    },
    {
     "data": {
      "text/plain": "FigureWidget({\n    'data': [{'colorscale': [[0.0, '#440154'], [0.1111111111111111, '#482878'],\n               …",
      "application/vnd.jupyter.widget-view+json": {
       "version_major": 2,
       "version_minor": 0,
       "model_id": "0fe1f0593c5b43d9aadadcf24204c5b9"
      }
     },
     "metadata": {},
     "output_type": "display_data"
    },
    {
     "data": {
      "text/plain": "FigureWidget({\n    'data': [{'colorscale': [[0.0, '#440154'], [0.1111111111111111, '#482878'],\n               …",
      "application/vnd.jupyter.widget-view+json": {
       "version_major": 2,
       "version_minor": 0,
       "model_id": "cc2d480480db466da2c29ebce7739f91"
      }
     },
     "metadata": {},
     "output_type": "display_data"
    },
    {
     "data": {
      "text/plain": "FigureWidget({\n    'data': [{'colorscale': [[0.0, '#440154'], [0.1111111111111111, '#482878'],\n               …",
      "application/vnd.jupyter.widget-view+json": {
       "version_major": 2,
       "version_minor": 0,
       "model_id": "4d07f8504ecc46fe867e8cc76baa2c8b"
      }
     },
     "metadata": {},
     "output_type": "display_data"
    },
    {
     "data": {
      "text/plain": "FigureWidget({\n    'data': [{'colorscale': [[0.0, '#440154'], [0.1111111111111111, '#482878'],\n               …",
      "application/vnd.jupyter.widget-view+json": {
       "version_major": 2,
       "version_minor": 0,
       "model_id": "6280ff3e055742e7ad0c578ddb876dca"
      }
     },
     "metadata": {},
     "output_type": "display_data"
    },
    {
     "data": {
      "text/plain": "FigureWidget({\n    'data': [{'colorscale': [[0.0, '#440154'], [0.1111111111111111, '#482878'],\n               …",
      "application/vnd.jupyter.widget-view+json": {
       "version_major": 2,
       "version_minor": 0,
       "model_id": "ca487ea6bd7d4506b71ada81710a1476"
      }
     },
     "metadata": {},
     "output_type": "display_data"
    },
    {
     "data": {
      "text/plain": "FigureWidget({\n    'data': [{'colorscale': [[0.0, '#440154'], [0.1111111111111111, '#482878'],\n               …",
      "application/vnd.jupyter.widget-view+json": {
       "version_major": 2,
       "version_minor": 0,
       "model_id": "66922507db9949f184af089c39dd71f4"
      }
     },
     "metadata": {},
     "output_type": "display_data"
    },
    {
     "data": {
      "text/plain": "FigureWidget({\n    'data': [{'colorscale': [[0.0, '#440154'], [0.1111111111111111, '#482878'],\n               …",
      "application/vnd.jupyter.widget-view+json": {
       "version_major": 2,
       "version_minor": 0,
       "model_id": "6d58e535316146fa9b334e3a46101779"
      }
     },
     "metadata": {},
     "output_type": "display_data"
    },
    {
     "data": {
      "text/plain": "FigureWidget({\n    'data': [{'colorscale': [[0.0, '#440154'], [0.1111111111111111, '#482878'],\n               …",
      "application/vnd.jupyter.widget-view+json": {
       "version_major": 2,
       "version_minor": 0,
       "model_id": "175f5fd895014438aa145acafe7a2615"
      }
     },
     "metadata": {},
     "output_type": "display_data"
    }
   ],
   "source": [
    "# Load\n",
    "smap_chainlink_from_file = SOMToolBox_Parse(weights_path)\n",
    "sweights, sdim, smap_x, smap_y = smap_chainlink_from_file.read_weight_file()\n",
    "\n",
    "# Fix orientation\n",
    "sweights = sweights.values.reshape(smap_y,smap_x,sdim)\n",
    "sweights = np.flip(sweights,0)\n",
    "sweights = sweights.reshape(-1,sdim)\n",
    "\n",
    "# Visualize\n",
    "create_visualizations(sweights,smap_y,smap_x,idata_chainlink,\n",
    "                      data_title=data_title + \" Loaded\",\n",
    "                      k_list=_k_list,\n",
    "                      r_list=_r_list)"
   ],
   "metadata": {
    "collapsed": false,
    "pycharm": {
     "name": "#%%\n"
    }
   }
  },
  {
   "cell_type": "markdown",
   "source": [
    "## 100x60 Sized Map"
   ],
   "metadata": {
    "collapsed": false
   }
  },
  {
   "cell_type": "code",
   "execution_count": 44,
   "outputs": [],
   "source": [
    "smap_x=100\n",
    "smap_y=60\n",
    "weights_path = '../input/chainlink/chainlink10060/chainlink.wgt.gz'\n",
    "data_title = \"Chainlink 100x60\"\n",
    "\n",
    "_k_list = [1, 2, 4, 20]\n",
    "_r_list = [0.03, 0.09, 0.4]"
   ],
   "metadata": {
    "collapsed": false,
    "pycharm": {
     "name": "#%%\n"
    }
   }
  },
  {
   "cell_type": "markdown",
   "source": [
    "### Train New SOM"
   ],
   "metadata": {
    "collapsed": false
   }
  },
  {
   "cell_type": "code",
   "execution_count": 45,
   "outputs": [],
   "source": [
    "# Train\n",
    "if do_training:\n",
    "    # Train\n",
    "    smap_chainlink = som.MiniSom(smap_y, smap_x, idata_chainlink.shape[1], sigma=7, learning_rate=0.7)\n",
    "    %time smap_chainlink.train_random(idata_chainlink, 10000, verbose=False)\n",
    "    sweights = smap_chainlink._weights.reshape(-1,idim)\n",
    "\n",
    "    # Visualize\n",
    "    create_visualizations(sweights,smap_y,smap_x,idata_chainlink,\n",
    "                          data_title=data_title + \" Trained\",\n",
    "                          k_list=_k_list,\n",
    "                          r_list=_r_list)"
   ],
   "metadata": {
    "collapsed": false,
    "pycharm": {
     "name": "#%%\n"
    }
   }
  },
  {
   "cell_type": "markdown",
   "source": [
    "### Load Trained SOM"
   ],
   "metadata": {
    "collapsed": false
   }
  },
  {
   "cell_type": "code",
   "execution_count": 46,
   "outputs": [
    {
     "data": {
      "text/plain": "FigureWidget({\n    'data': [{'colorscale': [[0.0, '#440154'], [0.1111111111111111, '#482878'],\n               …",
      "application/vnd.jupyter.widget-view+json": {
       "version_major": 2,
       "version_minor": 0,
       "model_id": "80dfba1bb20d4129bd0186bdcd585d82"
      }
     },
     "metadata": {},
     "output_type": "display_data"
    },
    {
     "data": {
      "text/plain": "FigureWidget({\n    'data': [{'colorscale': [[0.0, '#440154'], [0.1111111111111111, '#482878'],\n               …",
      "application/vnd.jupyter.widget-view+json": {
       "version_major": 2,
       "version_minor": 0,
       "model_id": "41d6b7c18a4945359d531a7b35f5e09d"
      }
     },
     "metadata": {},
     "output_type": "display_data"
    },
    {
     "data": {
      "text/plain": "FigureWidget({\n    'data': [{'colorscale': [[0.0, '#440154'], [0.1111111111111111, '#482878'],\n               …",
      "application/vnd.jupyter.widget-view+json": {
       "version_major": 2,
       "version_minor": 0,
       "model_id": "c191787ffc284a439826564a0a97f649"
      }
     },
     "metadata": {},
     "output_type": "display_data"
    },
    {
     "data": {
      "text/plain": "FigureWidget({\n    'data': [{'colorscale': [[0.0, '#440154'], [0.1111111111111111, '#482878'],\n               …",
      "application/vnd.jupyter.widget-view+json": {
       "version_major": 2,
       "version_minor": 0,
       "model_id": "d35a266caea447e4b86667375b22b207"
      }
     },
     "metadata": {},
     "output_type": "display_data"
    },
    {
     "data": {
      "text/plain": "FigureWidget({\n    'data': [{'colorscale': [[0.0, '#440154'], [0.1111111111111111, '#482878'],\n               …",
      "application/vnd.jupyter.widget-view+json": {
       "version_major": 2,
       "version_minor": 0,
       "model_id": "a3b3584a1999456f9ff87a9a445f41a7"
      }
     },
     "metadata": {},
     "output_type": "display_data"
    },
    {
     "data": {
      "text/plain": "FigureWidget({\n    'data': [{'colorscale': [[0.0, '#440154'], [0.1111111111111111, '#482878'],\n               …",
      "application/vnd.jupyter.widget-view+json": {
       "version_major": 2,
       "version_minor": 0,
       "model_id": "ee2d1424fba941b585ade721447e399c"
      }
     },
     "metadata": {},
     "output_type": "display_data"
    },
    {
     "data": {
      "text/plain": "FigureWidget({\n    'data': [{'colorscale': [[0.0, '#440154'], [0.1111111111111111, '#482878'],\n               …",
      "application/vnd.jupyter.widget-view+json": {
       "version_major": 2,
       "version_minor": 0,
       "model_id": "10827c72d5514f7a90c34415a739d2b4"
      }
     },
     "metadata": {},
     "output_type": "display_data"
    }
   ],
   "source": [
    "# Load\n",
    "smap_chainlink_from_file = SOMToolBox_Parse(weights_path)\n",
    "sweights, sdim, smap_x, smap_y = smap_chainlink_from_file.read_weight_file()\n",
    "\n",
    "# Fix orientation\n",
    "sweights = sweights.values.reshape(smap_y,smap_x,sdim)\n",
    "sweights = np.flip(sweights,0)\n",
    "sweights = sweights.reshape(-1,sdim)\n",
    "\n",
    "# Visualize\n",
    "create_visualizations(sweights,smap_y,smap_x,idata_chainlink,\n",
    "                      data_title=data_title + \" Loaded\",\n",
    "                      k_list=_k_list,\n",
    "                      r_list=_r_list)"
   ],
   "metadata": {
    "collapsed": false,
    "pycharm": {
     "name": "#%%\n"
    }
   }
  },
  {
   "cell_type": "markdown",
   "source": [
    "# 10-Clusters Dataset"
   ],
   "metadata": {
    "collapsed": false
   }
  },
  {
   "cell_type": "code",
   "execution_count": 47,
   "outputs": [],
   "source": [
    "# Load and prepare input data\n",
    "ivec = SOMToolBox_Parse('../input/10clusters/10clusters.vec')\n",
    "idata, idim, _, _ = ivec.read_weight_file()\n",
    "idata_chainlink = idata.to_numpy()"
   ],
   "metadata": {
    "collapsed": false,
    "pycharm": {
     "name": "#%%\n"
    }
   }
  },
  {
   "cell_type": "markdown",
   "source": [
    "## 40x20 Sized Maps"
   ],
   "metadata": {
    "collapsed": false
   }
  },
  {
   "cell_type": "code",
   "execution_count": 48,
   "outputs": [],
   "source": [
    "smap_x=40\n",
    "smap_y=20\n",
    "weights_path = '../input/10clusters/10clusters4020/10clusters.wgt.gz'\n",
    "data_title = \"10-Clusters 40x20\"\n",
    "\n",
    "_k_list = [1, 2, 3, 10]\n",
    "_r_list = [0.03, 0.09, 0.15, 0.21, 0.5]"
   ],
   "metadata": {
    "collapsed": false,
    "pycharm": {
     "name": "#%%\n"
    }
   }
  },
  {
   "cell_type": "markdown",
   "source": [
    "### Train New SOM"
   ],
   "metadata": {
    "collapsed": false
   }
  },
  {
   "cell_type": "code",
   "execution_count": 49,
   "outputs": [],
   "source": [
    "if do_training:\n",
    "    # Train\n",
    "    smap_chainlink = som.MiniSom(smap_y, smap_x, idata_chainlink.shape[1], sigma=7, learning_rate=0.7)\n",
    "    %time smap_chainlink.train_random(idata_chainlink, 10000, verbose=False)\n",
    "    sweights = smap_chainlink._weights.reshape(-1,idim)\n",
    "\n",
    "    # Visualize\n",
    "    create_visualizations(sweights,smap_y,smap_x,idata_chainlink,\n",
    "                          data_title=data_title + \" Trained\",\n",
    "                          k_list=_k_list,\n",
    "                          r_list=_r_list)"
   ],
   "metadata": {
    "collapsed": false,
    "pycharm": {
     "name": "#%%\n"
    }
   }
  },
  {
   "cell_type": "markdown",
   "source": [
    "### Load Trained SOM"
   ],
   "metadata": {
    "collapsed": false
   }
  },
  {
   "cell_type": "code",
   "execution_count": 50,
   "outputs": [
    {
     "data": {
      "text/plain": "FigureWidget({\n    'data': [{'colorscale': [[0.0, '#440154'], [0.1111111111111111, '#482878'],\n               …",
      "application/vnd.jupyter.widget-view+json": {
       "version_major": 2,
       "version_minor": 0,
       "model_id": "926d9a8bb6cb4916a1b4dea60eb70787"
      }
     },
     "metadata": {},
     "output_type": "display_data"
    },
    {
     "data": {
      "text/plain": "FigureWidget({\n    'data': [{'colorscale': [[0.0, '#440154'], [0.1111111111111111, '#482878'],\n               …",
      "application/vnd.jupyter.widget-view+json": {
       "version_major": 2,
       "version_minor": 0,
       "model_id": "47355a4a71714bc0bb1f727153062138"
      }
     },
     "metadata": {},
     "output_type": "display_data"
    },
    {
     "data": {
      "text/plain": "FigureWidget({\n    'data': [{'colorscale': [[0.0, '#440154'], [0.1111111111111111, '#482878'],\n               …",
      "application/vnd.jupyter.widget-view+json": {
       "version_major": 2,
       "version_minor": 0,
       "model_id": "bd06209d0f7f44c68694f4a29ba42e6a"
      }
     },
     "metadata": {},
     "output_type": "display_data"
    },
    {
     "data": {
      "text/plain": "FigureWidget({\n    'data': [{'colorscale': [[0.0, '#440154'], [0.1111111111111111, '#482878'],\n               …",
      "application/vnd.jupyter.widget-view+json": {
       "version_major": 2,
       "version_minor": 0,
       "model_id": "3fa093bed76841e8a309f03bf6ab97e1"
      }
     },
     "metadata": {},
     "output_type": "display_data"
    },
    {
     "data": {
      "text/plain": "FigureWidget({\n    'data': [{'colorscale': [[0.0, '#440154'], [0.1111111111111111, '#482878'],\n               …",
      "application/vnd.jupyter.widget-view+json": {
       "version_major": 2,
       "version_minor": 0,
       "model_id": "560d855d236e4df8b71888577b064b82"
      }
     },
     "metadata": {},
     "output_type": "display_data"
    },
    {
     "data": {
      "text/plain": "FigureWidget({\n    'data': [{'colorscale': [[0.0, '#440154'], [0.1111111111111111, '#482878'],\n               …",
      "application/vnd.jupyter.widget-view+json": {
       "version_major": 2,
       "version_minor": 0,
       "model_id": "88695df7dba34a1bbf9f66815b9f9a4a"
      }
     },
     "metadata": {},
     "output_type": "display_data"
    },
    {
     "data": {
      "text/plain": "FigureWidget({\n    'data': [{'colorscale': [[0.0, '#440154'], [0.1111111111111111, '#482878'],\n               …",
      "application/vnd.jupyter.widget-view+json": {
       "version_major": 2,
       "version_minor": 0,
       "model_id": "efc2fe955d904bf8b6b55424683df3e0"
      }
     },
     "metadata": {},
     "output_type": "display_data"
    },
    {
     "data": {
      "text/plain": "FigureWidget({\n    'data': [{'colorscale': [[0.0, '#440154'], [0.1111111111111111, '#482878'],\n               …",
      "application/vnd.jupyter.widget-view+json": {
       "version_major": 2,
       "version_minor": 0,
       "model_id": "194bca10833c4df7a40d8de56369bbda"
      }
     },
     "metadata": {},
     "output_type": "display_data"
    },
    {
     "data": {
      "text/plain": "FigureWidget({\n    'data': [{'colorscale': [[0.0, '#440154'], [0.1111111111111111, '#482878'],\n               …",
      "application/vnd.jupyter.widget-view+json": {
       "version_major": 2,
       "version_minor": 0,
       "model_id": "adb0ebeb63944d51bbd2c1f743d110d4"
      }
     },
     "metadata": {},
     "output_type": "display_data"
    }
   ],
   "source": [
    "# Load\n",
    "smap_chainlink_from_file = SOMToolBox_Parse(weights_path)\n",
    "sweights, sdim, smap_x, smap_y = smap_chainlink_from_file.read_weight_file()\n",
    "\n",
    "# Fix orientation\n",
    "sweights = sweights.values.reshape(smap_y,smap_x,sdim)\n",
    "sweights = np.flip(sweights,0)\n",
    "sweights = sweights.reshape(-1,sdim)\n",
    "\n",
    "# Visualize\n",
    "create_visualizations(sweights,smap_y,smap_x,idata_chainlink,\n",
    "                      data_title=data_title + \" Loaded\",\n",
    "                      k_list=_k_list,\n",
    "                      r_list=_r_list)"
   ],
   "metadata": {
    "collapsed": false,
    "pycharm": {
     "name": "#%%\n"
    }
   }
  },
  {
   "cell_type": "markdown",
   "source": [
    "## 100x60 Sized Map"
   ],
   "metadata": {
    "collapsed": false
   }
  },
  {
   "cell_type": "code",
   "execution_count": 51,
   "outputs": [],
   "source": [
    "smap_x=100\n",
    "smap_y=60\n",
    "weights_path = '../input/10clusters/10clusters10060/10clusters.wgt.gz'\n",
    "data_title = \"10-Clusters 100x60\"\n",
    "\n",
    "_k_list = [1, 2, 3, 10]\n",
    "_r_list = [0.03, 0.09, 0.15, 0.21, 0.5]"
   ],
   "metadata": {
    "collapsed": false,
    "pycharm": {
     "name": "#%%\n"
    }
   }
  },
  {
   "cell_type": "markdown",
   "source": [
    "### Train New SOM"
   ],
   "metadata": {
    "collapsed": false
   }
  },
  {
   "cell_type": "code",
   "execution_count": 52,
   "outputs": [],
   "source": [
    "# Train\n",
    "if do_training:\n",
    "    # Train\n",
    "    smap_chainlink = som.MiniSom(smap_y, smap_x, idata_chainlink.shape[1], sigma=7, learning_rate=0.7)\n",
    "    %time smap_chainlink.train_random(idata_chainlink, 10000, verbose=False)\n",
    "    sweights = smap_chainlink._weights.reshape(-1,idim)\n",
    "\n",
    "    # Visualize\n",
    "    create_visualizations(sweights,smap_y,smap_x,idata_chainlink,\n",
    "                          data_title=data_title + \" Trained\",\n",
    "                          k_list=_k_list,\n",
    "                          r_list=_r_list)"
   ],
   "metadata": {
    "collapsed": false,
    "pycharm": {
     "name": "#%%\n"
    }
   }
  },
  {
   "cell_type": "markdown",
   "source": [
    "### Load Trained SOM"
   ],
   "metadata": {
    "collapsed": false
   }
  },
  {
   "cell_type": "code",
   "execution_count": 53,
   "outputs": [
    {
     "ename": "KeyboardInterrupt",
     "evalue": "",
     "output_type": "error",
     "traceback": [
      "\u001B[1;31m---------------------------------------------------------------------------\u001B[0m",
      "\u001B[1;31mKeyboardInterrupt\u001B[0m                         Traceback (most recent call last)",
      "\u001B[1;32m<ipython-input-53-c34285e11726>\u001B[0m in \u001B[0;36m<module>\u001B[1;34m\u001B[0m\n\u001B[0;32m     12\u001B[0m                       \u001B[0mdata_title\u001B[0m\u001B[1;33m=\u001B[0m\u001B[0mdata_title\u001B[0m\u001B[1;33m,\u001B[0m\u001B[1;33m\u001B[0m\u001B[1;33m\u001B[0m\u001B[0m\n\u001B[0;32m     13\u001B[0m                       \u001B[0mk_list\u001B[0m\u001B[1;33m=\u001B[0m\u001B[0m_k_list\u001B[0m\u001B[1;33m,\u001B[0m\u001B[1;33m\u001B[0m\u001B[1;33m\u001B[0m\u001B[0m\n\u001B[1;32m---> 14\u001B[1;33m                       r_list=_r_list)\n\u001B[0m\u001B[0;32m     15\u001B[0m \u001B[1;33m\u001B[0m\u001B[0m\n",
      "\u001B[1;32m<ipython-input-39-d86d55c3704a>\u001B[0m in \u001B[0;36mcreate_visualizations\u001B[1;34m(sweights, smap_y, smap_x, idata, color, interp, data_title, k_list, r_list, width, height, scale_to_mean, show_hithist)\u001B[0m\n\u001B[0;32m     15\u001B[0m \u001B[1;33m\u001B[0m\u001B[0m\n\u001B[0;32m     16\u001B[0m     \u001B[1;31m# Prepare Neighbourhood Graph\u001B[0m\u001B[1;33m\u001B[0m\u001B[1;33m\u001B[0m\u001B[1;33m\u001B[0m\u001B[0m\n\u001B[1;32m---> 17\u001B[1;33m     \u001B[0mng\u001B[0m \u001B[1;33m=\u001B[0m \u001B[0mNeighbourhoodGraph\u001B[0m\u001B[1;33m(\u001B[0m\u001B[0mviz\u001B[0m\u001B[1;33m.\u001B[0m\u001B[0mweights\u001B[0m\u001B[1;33m,\u001B[0m \u001B[0mviz\u001B[0m\u001B[1;33m.\u001B[0m\u001B[0mm\u001B[0m\u001B[1;33m,\u001B[0m \u001B[0mviz\u001B[0m\u001B[1;33m.\u001B[0m\u001B[0mn\u001B[0m\u001B[1;33m,\u001B[0m \u001B[0minput_data\u001B[0m\u001B[1;33m=\u001B[0m\u001B[0midata\u001B[0m\u001B[1;33m)\u001B[0m\u001B[1;33m\u001B[0m\u001B[1;33m\u001B[0m\u001B[0m\n\u001B[0m\u001B[0;32m     18\u001B[0m     \u001B[0mtraces\u001B[0m \u001B[1;33m=\u001B[0m \u001B[1;33m[\u001B[0m\u001B[1;33m]\u001B[0m\u001B[1;33m\u001B[0m\u001B[1;33m\u001B[0m\u001B[0m\n\u001B[0;32m     19\u001B[0m     \u001B[1;32mfor\u001B[0m \u001B[0mval\u001B[0m \u001B[1;32min\u001B[0m \u001B[0mk_list\u001B[0m\u001B[1;33m:\u001B[0m\u001B[1;33m\u001B[0m\u001B[1;33m\u001B[0m\u001B[0m\n",
      "\u001B[1;32m~\\Documents\\Meine_Dokumente\\Studium\\20-21-WS\\188.413-Selbstorganisierende-Systeme\\sos_ex3\\option2-coding\\SOM_Neighbourhood_Graphs\\src\\NeighbourhoodGraph.py\u001B[0m in \u001B[0;36m__init__\u001B[1;34m(self, unit_weights, m, n, input_data, distance_mat, bmu_array)\u001B[0m\n\u001B[0;32m     73\u001B[0m \u001B[1;33m\u001B[0m\u001B[0m\n\u001B[0;32m     74\u001B[0m         \u001B[0mself\u001B[0m\u001B[1;33m.\u001B[0m\u001B[0mdistance_mat\u001B[0m \u001B[1;33m=\u001B[0m \u001B[0mDistanceMatrix\u001B[0m\u001B[1;33m(\u001B[0m\u001B[0minput_data\u001B[0m\u001B[1;33m)\u001B[0m \u001B[1;32mif\u001B[0m \u001B[0mdistance_mat\u001B[0m \u001B[1;32mis\u001B[0m \u001B[1;32mNone\u001B[0m \u001B[1;32melse\u001B[0m \u001B[0mdistance_mat\u001B[0m\u001B[1;33m\u001B[0m\u001B[1;33m\u001B[0m\u001B[0m\n\u001B[1;32m---> 75\u001B[1;33m         \u001B[0mself\u001B[0m\u001B[1;33m.\u001B[0m\u001B[0mbmu_array\u001B[0m \u001B[1;33m=\u001B[0m \u001B[0mself\u001B[0m\u001B[1;33m.\u001B[0m\u001B[0mcalc_bmu_array\u001B[0m\u001B[1;33m(\u001B[0m\u001B[0munit_weights\u001B[0m\u001B[1;33m,\u001B[0m \u001B[0minput_data\u001B[0m\u001B[1;33m)\u001B[0m \u001B[1;32mif\u001B[0m \u001B[0mbmu_array\u001B[0m \u001B[1;32mis\u001B[0m \u001B[1;32mNone\u001B[0m \u001B[1;32melse\u001B[0m \u001B[0mbmu_array\u001B[0m\u001B[1;33m\u001B[0m\u001B[1;33m\u001B[0m\u001B[0m\n\u001B[0m\u001B[0;32m     76\u001B[0m \u001B[1;33m\u001B[0m\u001B[0m\n\u001B[0;32m     77\u001B[0m     \u001B[1;32mdef\u001B[0m \u001B[0mcalc_bmu_array\u001B[0m\u001B[1;33m(\u001B[0m\u001B[0mself\u001B[0m\u001B[1;33m,\u001B[0m \u001B[0m_unit_weights\u001B[0m\u001B[1;33m:\u001B[0m \u001B[0mnp\u001B[0m\u001B[1;33m.\u001B[0m\u001B[0mndarray\u001B[0m\u001B[1;33m,\u001B[0m \u001B[0m_input_data\u001B[0m\u001B[1;33m:\u001B[0m \u001B[0mnp\u001B[0m\u001B[1;33m.\u001B[0m\u001B[0mndarray\u001B[0m\u001B[1;33m)\u001B[0m \u001B[1;33m->\u001B[0m \u001B[0mnp\u001B[0m\u001B[1;33m.\u001B[0m\u001B[0mndarray\u001B[0m\u001B[1;33m:\u001B[0m\u001B[1;33m\u001B[0m\u001B[1;33m\u001B[0m\u001B[0m\n",
      "\u001B[1;32m~\\Documents\\Meine_Dokumente\\Studium\\20-21-WS\\188.413-Selbstorganisierende-Systeme\\sos_ex3\\option2-coding\\SOM_Neighbourhood_Graphs\\src\\NeighbourhoodGraph.py\u001B[0m in \u001B[0;36mcalc_bmu_array\u001B[1;34m(self, _unit_weights, _input_data)\u001B[0m\n\u001B[0;32m     88\u001B[0m         return np.array(\n\u001B[0;32m     89\u001B[0m             [np.argmin(np.sqrt(np.sum(np.power(_unit_weights - _input_data[index], 2), axis=1)))\n\u001B[1;32m---> 90\u001B[1;33m              for index in np.arange(self.input_data.shape[0])])\n\u001B[0m\u001B[0;32m     91\u001B[0m \u001B[1;33m\u001B[0m\u001B[0m\n\u001B[0;32m     92\u001B[0m     \u001B[1;32mdef\u001B[0m \u001B[0mcalc_adjacency_matrix\u001B[0m\u001B[1;33m(\u001B[0m\u001B[0mself\u001B[0m\u001B[1;33m,\u001B[0m \u001B[0mradius\u001B[0m\u001B[1;33m:\u001B[0m \u001B[0mfloat\u001B[0m \u001B[1;33m=\u001B[0m \u001B[1;32mNone\u001B[0m\u001B[1;33m,\u001B[0m \u001B[0mknn\u001B[0m\u001B[1;33m:\u001B[0m \u001B[0mint\u001B[0m \u001B[1;33m=\u001B[0m \u001B[1;32mNone\u001B[0m\u001B[1;33m)\u001B[0m \u001B[1;33m->\u001B[0m \u001B[0mnp\u001B[0m\u001B[1;33m.\u001B[0m\u001B[0mndarray\u001B[0m\u001B[1;33m:\u001B[0m\u001B[1;33m\u001B[0m\u001B[1;33m\u001B[0m\u001B[0m\n",
      "\u001B[1;32m~\\Documents\\Meine_Dokumente\\Studium\\20-21-WS\\188.413-Selbstorganisierende-Systeme\\sos_ex3\\option2-coding\\SOM_Neighbourhood_Graphs\\src\\NeighbourhoodGraph.py\u001B[0m in \u001B[0;36m<listcomp>\u001B[1;34m(.0)\u001B[0m\n\u001B[0;32m     88\u001B[0m         return np.array(\n\u001B[0;32m     89\u001B[0m             [np.argmin(np.sqrt(np.sum(np.power(_unit_weights - _input_data[index], 2), axis=1)))\n\u001B[1;32m---> 90\u001B[1;33m              for index in np.arange(self.input_data.shape[0])])\n\u001B[0m\u001B[0;32m     91\u001B[0m \u001B[1;33m\u001B[0m\u001B[0m\n\u001B[0;32m     92\u001B[0m     \u001B[1;32mdef\u001B[0m \u001B[0mcalc_adjacency_matrix\u001B[0m\u001B[1;33m(\u001B[0m\u001B[0mself\u001B[0m\u001B[1;33m,\u001B[0m \u001B[0mradius\u001B[0m\u001B[1;33m:\u001B[0m \u001B[0mfloat\u001B[0m \u001B[1;33m=\u001B[0m \u001B[1;32mNone\u001B[0m\u001B[1;33m,\u001B[0m \u001B[0mknn\u001B[0m\u001B[1;33m:\u001B[0m \u001B[0mint\u001B[0m \u001B[1;33m=\u001B[0m \u001B[1;32mNone\u001B[0m\u001B[1;33m)\u001B[0m \u001B[1;33m->\u001B[0m \u001B[0mnp\u001B[0m\u001B[1;33m.\u001B[0m\u001B[0mndarray\u001B[0m\u001B[1;33m:\u001B[0m\u001B[1;33m\u001B[0m\u001B[1;33m\u001B[0m\u001B[0m\n",
      "\u001B[1;31mKeyboardInterrupt\u001B[0m: "
     ]
    }
   ],
   "source": [
    "# Load\n",
    "smap_chainlink_from_file = SOMToolBox_Parse(weights_path)\n",
    "sweights, sdim, smap_x, smap_y = smap_chainlink_from_file.read_weight_file()\n",
    "\n",
    "# Fix orientation\n",
    "sweights = sweights.values.reshape(smap_y,smap_x,sdim)\n",
    "sweights = np.flip(sweights,0)\n",
    "sweights = sweights.reshape(-1,sdim)\n",
    "\n",
    "# Visualize\n",
    "create_visualizations(sweights,smap_y,smap_x,idata_chainlink,\n",
    "                          data_title=data_title + \" Loaded\",\n",
    "                      k_list=_k_list,\n",
    "                      r_list=_r_list)\n"
   ],
   "metadata": {
    "collapsed": false,
    "pycharm": {
     "name": "#%%\n"
    }
   }
  }
 ],
 "metadata": {
  "kernelspec": {
   "name": "pycharm-51fc216",
   "language": "python",
   "display_name": "PyCharm (sos_ex3_MASTER)"
  },
  "language_info": {
   "codemirror_mode": {
    "name": "ipython",
    "version": 2
   },
   "file_extension": ".py",
   "mimetype": "text/x-python",
   "name": "python",
   "nbconvert_exporter": "python",
   "pygments_lexer": "ipython2",
   "version": "2.7.6"
  }
 },
 "nbformat": 4,
 "nbformat_minor": 0
}